{
 "cells": [
  {
   "cell_type": "markdown",
   "id": "561d595b-b249-4843-9ee2-f2a65dc9314b",
   "metadata": {},
   "source": [
    "# Problem Statement:"
   ]
  },
  {
   "cell_type": "markdown",
   "id": "466a7522-c57e-4ae6-b7cf-c390bbf11afe",
   "metadata": {},
   "source": [
    "The aim of this project is to develop a machine learning model that predicts the risk of SARS-CoV-2 infection in individuals based on simple features,  such as clinical symptoms, which can be accessed by asking basic questions. The model can be implemented globally for effective screening and prioritization of testing for the virus in the general population."
   ]
  },
  {
   "cell_type": "markdown",
   "id": "d68619c4-ce93-4640-8583-b7d1d11ce278",
   "metadata": {},
   "source": [
    "# Dataset Description:"
   ]
  },
  {
   "cell_type": "markdown",
   "id": "6c8e26c8-98d9-4168-b774-209a7c78ff43",
   "metadata": {},
   "source": [
    "A. Basic information: \n",
    "\n",
    "1. ID (Individual ID)\n",
    "\n",
    "2. Sex (male/female). \n",
    "\n",
    "3. Age ≥60 above years (true/false) \n",
    "\n",
    "4. Test date (date when tested for COVID)\n",
    "\n",
    "\n",
    "B. Symptoms: \n",
    "\n",
    "5. Cough (true/false).\n",
    "\n",
    "6. Fever (true/false). \n",
    "\n",
    "7. Sore throat (true/false). \n",
    "\n",
    "8. Shortness of breath (true/false). \n",
    "\n",
    "9. Headache (true/false). \n",
    "\n",
    "\n",
    "C. Other information: \n",
    "\n",
    "10. Known contact with an individual confirmed to have COVID-19 (true/false).\n",
    "\n",
    "\n",
    "D. Covid report\n",
    "\n",
    "11. Corona positive or negative"
   ]
  },
  {
   "cell_type": "markdown",
   "id": "864b3940-b304-4125-b4f1-ec2be1909d7c",
   "metadata": {},
   "source": [
    "# 1.Introduction"
   ]
  },
  {
   "cell_type": "markdown",
   "id": "92c18cbc-f2ef-45ab-977f-14f76b771a94",
   "metadata": {},
   "source": [
    "In the midst of the ongoing global battle against the COVID-19 pandemic, the urgent need for accurate and efficient disease prediction tools has become more apparent than ever. Our proposal seeks to address this critical challenge by developing a cutting-edge machine learning model capable of predicting whether an individual is COVID-19 positive or not. By harnessing the power of advanced machine learning algorithms, we aim to significantly enhance the accuracy and speed of COVID-19 diagnosis, thereby contributing to more effective medical treatment and alleviating the immense burden on healthcare systems worldwide."
   ]
  },
  {
   "cell_type": "markdown",
   "id": "ec78cab7-048f-43eb-8082-b3663d8e7437",
   "metadata": {},
   "source": [
    "## Importance in Today's World"
   ]
  },
  {
   "cell_type": "markdown",
   "id": "b69689eb-9022-4b34-b29b-2a13e88abc98",
   "metadata": {},
   "source": [
    "The COVID-19 pandemic has overwhelmed healthcare systems worldwide, leading to a pressing need for efficient and reliable diagnostic methods. Traditional diagnostic approaches, such as PCR testing, often require time-consuming laboratory procedures and are limited by testing capacity. By developing a machine learning model for COVID-19 prediction, we offer a promising solution that can provide quick and accurate assessments based on symptoms alone, without the need for extensive laboratory testing. This can greatly improve the early identification of COVID-19 cases, enabling prompt medical intervention and appropriate allocation of healthcare resources."
   ]
  },
  {
   "cell_type": "markdown",
   "id": "535c0ecb-8b2f-4dfa-8720-38189e1b14ee",
   "metadata": {},
   "source": [
    "## Improving Medical Treatment:"
   ]
  },
  {
   "cell_type": "markdown",
   "id": "0735c097-1b7a-4ffe-9340-7e724bf0de2d",
   "metadata": {},
   "source": [
    "Accurate disease prediction plays a crucial role in improving medical treatment outcomes. By accurately identifying individuals who are likely to be COVID-19 positive, our machine learning model can enable early intervention, leading to timely medical care and the implementation of necessary preventive measures. This early detection can help prevent disease progression, reduce the severity of symptoms, and improve overall patient outcomes."
   ]
  },
  {
   "cell_type": "markdown",
   "id": "05393f48-23b8-4a03-b82f-1e7c8a0f6d5e",
   "metadata": {},
   "source": [
    "## Impact on the Medical Field:"
   ]
  },
  {
   "cell_type": "markdown",
   "id": "667993a6-5fff-4059-9efe-187123e33176",
   "metadata": {},
   "source": [
    "The implementation of an effective screening tool based on our machine learning model can have a profound impact on the medical field. It can significantly reduce the burden on healthcare systems by streamlining the diagnostic process, particularly in areas with limited testing capacities. By efficiently identifying COVID-19 positive individuals, healthcare resources can be optimized, ensuring that critical cases receive immediate attention while preventing the unnecessary utilization of resources for low-risk cases. This targeted allocation of resources can help in managing the influx of patients, improving overall healthcare delivery, and potentially saving lives."
   ]
  },
  {
   "cell_type": "markdown",
   "id": "377589f2-d5ab-44b0-bec5-3073db32fcda",
   "metadata": {},
   "source": [
    "## Future Applications and Knowledge Gap:"
   ]
  },
  {
   "cell_type": "markdown",
   "id": "1ed8d6d9-3dc7-4058-9129-81a8286df447",
   "metadata": {},
   "source": [
    "Beyond its immediate application in COVID-19 prediction, our proposed machine learning model can serve as a valuable framework for predicting other diseases based on symptoms. The knowledge gained from developing this model, such as feature selection techniques and algorithmic approaches, can be applied to future disease prediction efforts. This has the potential to fill knowledge gaps in various healthcare domains, allowing for faster and more accurate diagnosis of diseases beyond COVID-19. The ability to predict diseases accurately has far-reaching implications for personalized medicine, public health planning, and the development of targeted treatment strategies, ultimately leading to improved healthcare outcomes for individuals and communities alike."
   ]
  },
  {
   "cell_type": "markdown",
   "id": "c417856a-3822-4290-90ae-d32da4ede7bf",
   "metadata": {},
   "source": [
    "# 2.Initial Hypothesis"
   ]
  },
  {
   "cell_type": "markdown",
   "id": "577e46e3-4a79-4fb4-a2da-35ecbec215d9",
   "metadata": {},
   "source": [
    "Based on the dataset provided, we can form the following initial hypotheses:\n",
    "\n",
    "Hypothesis 1: Patients who were in direct contact with confirmed COVID-19 positive patients are more likely to test positive for the virus.\n",
    "\n",
    "This hypothesis suggests that individuals who have had close contact with confirmed COVID-19 positive patients are at a higher risk of being infected themselves. By examining the variable \"Known_contact\" in the dataset, we can investigate whether there is a correlation between known contact with COVID-19 positive patients and the likelihood of testing positive for the virus.\n",
    "\n",
    "Hypothesis 2: Symptoms such as shortness of breath, fever, and cough are important factors in predicting COVID-19 positive cases.\n",
    "\n",
    "This hypothesis proposes that symptoms such as shortness of breath, fever, and cough are key indicators in identifying COVID-19 positive cases. By analyzing the variables \"Shortness_of_breath,\" \"Fever,\" and \"Cough_symptoms\" in the dataset, we can explore the relationship between these symptoms and the likelihood of a person being COVID-19 positive or negative.\n",
    "\n",
    "It is important to note that these are initial hypotheses based on the provided dataset, and further analysis and modeling will be required to validate these assumptions and uncover additional insights related to COVID-19 prediction."
   ]
  },
  {
   "cell_type": "markdown",
   "id": "1ec17677-cf56-42a0-b9b8-fad9ff674e1c",
   "metadata": {},
   "source": [
    "# 3.Approach"
   ]
  },
  {
   "cell_type": "markdown",
   "id": "15ae1fd5-184d-429b-b973-d8261e72c157",
   "metadata": {},
   "source": [
    "## 1.Data analysis approach\n"
   ]
  },
  {
   "cell_type": "markdown",
   "id": "dd77b540-0d66-457d-9782-3a6de31bd775",
   "metadata": {
    "tags": []
   },
   "source": [
    "- ## EDA"
   ]
  },
  {
   "cell_type": "code",
   "execution_count": 1,
   "id": "a526519f-a67e-46c9-9721-9c93bad733ce",
   "metadata": {},
   "outputs": [],
   "source": [
    "# Importing Module"
   ]
  },
  {
   "cell_type": "code",
   "execution_count": 2,
   "id": "3078653a-0e9b-4a93-977d-9f0b05a7d1a4",
   "metadata": {
    "tags": []
   },
   "outputs": [],
   "source": [
    "import numpy as np\n",
    "import pandas as pd\n",
    "import seaborn as sns\n",
    "import matplotlib.pyplot as plt\n",
    "import warnings\n",
    "warnings.filterwarnings(\"ignore\") # ignoring wranings"
   ]
  },
  {
   "cell_type": "code",
   "execution_count": 3,
   "id": "2e39ae74-ff63-434e-887d-1d0bdc0965ac",
   "metadata": {
    "tags": []
   },
   "outputs": [
    {
     "data": {
      "text/html": [
       "<div>\n",
       "<style scoped>\n",
       "    .dataframe tbody tr th:only-of-type {\n",
       "        vertical-align: middle;\n",
       "    }\n",
       "\n",
       "    .dataframe tbody tr th {\n",
       "        vertical-align: top;\n",
       "    }\n",
       "\n",
       "    .dataframe thead th {\n",
       "        text-align: right;\n",
       "    }\n",
       "</style>\n",
       "<table border=\"1\" class=\"dataframe\">\n",
       "  <thead>\n",
       "    <tr style=\"text-align: right;\">\n",
       "      <th></th>\n",
       "      <th>Ind_ID</th>\n",
       "      <th>Test_date</th>\n",
       "      <th>Cough_symptoms</th>\n",
       "      <th>Fever</th>\n",
       "      <th>Sore_throat</th>\n",
       "      <th>Shortness_of_breath</th>\n",
       "      <th>Headache</th>\n",
       "      <th>Corona</th>\n",
       "      <th>Age_60_above</th>\n",
       "      <th>Sex</th>\n",
       "      <th>Known_contact</th>\n",
       "    </tr>\n",
       "  </thead>\n",
       "  <tbody>\n",
       "    <tr>\n",
       "      <th>0</th>\n",
       "      <td>1</td>\n",
       "      <td>11-03-2020</td>\n",
       "      <td>True</td>\n",
       "      <td>False</td>\n",
       "      <td>True</td>\n",
       "      <td>False</td>\n",
       "      <td>False</td>\n",
       "      <td>negative</td>\n",
       "      <td>NaN</td>\n",
       "      <td>NaN</td>\n",
       "      <td>Abroad</td>\n",
       "    </tr>\n",
       "    <tr>\n",
       "      <th>1</th>\n",
       "      <td>2</td>\n",
       "      <td>11-03-2020</td>\n",
       "      <td>False</td>\n",
       "      <td>True</td>\n",
       "      <td>False</td>\n",
       "      <td>False</td>\n",
       "      <td>False</td>\n",
       "      <td>positive</td>\n",
       "      <td>NaN</td>\n",
       "      <td>NaN</td>\n",
       "      <td>Abroad</td>\n",
       "    </tr>\n",
       "    <tr>\n",
       "      <th>2</th>\n",
       "      <td>3</td>\n",
       "      <td>11-03-2020</td>\n",
       "      <td>False</td>\n",
       "      <td>True</td>\n",
       "      <td>False</td>\n",
       "      <td>False</td>\n",
       "      <td>False</td>\n",
       "      <td>positive</td>\n",
       "      <td>NaN</td>\n",
       "      <td>NaN</td>\n",
       "      <td>Abroad</td>\n",
       "    </tr>\n",
       "    <tr>\n",
       "      <th>3</th>\n",
       "      <td>4</td>\n",
       "      <td>11-03-2020</td>\n",
       "      <td>True</td>\n",
       "      <td>False</td>\n",
       "      <td>False</td>\n",
       "      <td>False</td>\n",
       "      <td>False</td>\n",
       "      <td>negative</td>\n",
       "      <td>NaN</td>\n",
       "      <td>NaN</td>\n",
       "      <td>Abroad</td>\n",
       "    </tr>\n",
       "    <tr>\n",
       "      <th>4</th>\n",
       "      <td>5</td>\n",
       "      <td>11-03-2020</td>\n",
       "      <td>True</td>\n",
       "      <td>False</td>\n",
       "      <td>False</td>\n",
       "      <td>False</td>\n",
       "      <td>False</td>\n",
       "      <td>negative</td>\n",
       "      <td>NaN</td>\n",
       "      <td>NaN</td>\n",
       "      <td>Contact with confirmed</td>\n",
       "    </tr>\n",
       "  </tbody>\n",
       "</table>\n",
       "</div>"
      ],
      "text/plain": [
       "   Ind_ID   Test_date Cough_symptoms  Fever Sore_throat Shortness_of_breath  \\\n",
       "0       1  11-03-2020           True  False        True               False   \n",
       "1       2  11-03-2020          False   True       False               False   \n",
       "2       3  11-03-2020          False   True       False               False   \n",
       "3       4  11-03-2020           True  False       False               False   \n",
       "4       5  11-03-2020           True  False       False               False   \n",
       "\n",
       "  Headache    Corona Age_60_above  Sex           Known_contact  \n",
       "0    False  negative          NaN  NaN                  Abroad  \n",
       "1    False  positive          NaN  NaN                  Abroad  \n",
       "2    False  positive          NaN  NaN                  Abroad  \n",
       "3    False  negative          NaN  NaN                  Abroad  \n",
       "4    False  negative          NaN  NaN  Contact with confirmed  "
      ]
     },
     "execution_count": 3,
     "metadata": {},
     "output_type": "execute_result"
    }
   ],
   "source": [
    "# load dataset\n",
    "df = pd.read_csv(\"C:/Users/Priyanka/Downloads/CAP+Project+2+-+corona_tested_006/corona_tested_006.csv\")\n",
    "covid = df.copy()\n",
    "covid.head()\n",
    "#covid.tail()"
   ]
  },
  {
   "cell_type": "markdown",
   "id": "a1839851-b504-44d3-ba5d-3e96b3595a62",
   "metadata": {},
   "source": [
    "- There are records with value as None in Age and Sex column.\n",
    "- in pandas none is treated as missing value similarly nan is also treated as missing value and datatype of none is object type and nan is float which makes nan feasible to apply numpy methods.\n",
    "\n"
   ]
  },
  {
   "cell_type": "code",
   "execution_count": 4,
   "id": "734b40b9-ca2e-48f4-baf7-2a822527424d",
   "metadata": {
    "tags": []
   },
   "outputs": [
    {
     "data": {
      "text/plain": [
       "(278848, 11)"
      ]
     },
     "execution_count": 4,
     "metadata": {},
     "output_type": "execute_result"
    }
   ],
   "source": [
    "covid.shape"
   ]
  },
  {
   "cell_type": "markdown",
   "id": "249dea1e-25c3-47dc-867f-fb7cbd359276",
   "metadata": {},
   "source": [
    "- We have 2,78,848 observation and 11 variables."
   ]
  },
  {
   "cell_type": "code",
   "execution_count": 5,
   "id": "99eaea9a-9efb-4c40-85c0-6d9ba2f4660e",
   "metadata": {
    "tags": []
   },
   "outputs": [
    {
     "data": {
      "text/plain": [
       "3067328"
      ]
     },
     "execution_count": 5,
     "metadata": {},
     "output_type": "execute_result"
    }
   ],
   "source": [
    "covid.size"
   ]
  },
  {
   "cell_type": "code",
   "execution_count": 6,
   "id": "f3216713-1920-4a3b-bead-025d318a1792",
   "metadata": {
    "tags": []
   },
   "outputs": [
    {
     "name": "stdout",
     "output_type": "stream",
     "text": [
      "<class 'pandas.core.frame.DataFrame'>\n",
      "RangeIndex: 278848 entries, 0 to 278847\n",
      "Data columns (total 11 columns):\n",
      " #   Column               Non-Null Count   Dtype \n",
      "---  ------               --------------   ----- \n",
      " 0   Ind_ID               278848 non-null  int64 \n",
      " 1   Test_date            278848 non-null  object\n",
      " 2   Cough_symptoms       278596 non-null  object\n",
      " 3   Fever                278596 non-null  object\n",
      " 4   Sore_throat          278847 non-null  object\n",
      " 5   Shortness_of_breath  278847 non-null  object\n",
      " 6   Headache             278847 non-null  object\n",
      " 7   Corona               278848 non-null  object\n",
      " 8   Age_60_above         151528 non-null  object\n",
      " 9   Sex                  259285 non-null  object\n",
      " 10  Known_contact        278848 non-null  object\n",
      "dtypes: int64(1), object(10)\n",
      "memory usage: 23.4+ MB\n"
     ]
    }
   ],
   "source": [
    "# checking the features and their datatypes\n",
    "covid.info()"
   ]
  },
  {
   "cell_type": "raw",
   "id": "6f8d5d8f-9be5-4023-a170-344c69d2c4c6",
   "metadata": {},
   "source": [
    "- All the columns are of Object Data type except Ind_ID which is of integer type."
   ]
  },
  {
   "cell_type": "raw",
   "id": "2d7b25fc-cb71-4323-9b1d-9db2465c1d16",
   "metadata": {},
   "source": [
    "column names Cough_symptoms,Fever,Sore_throat,Shortness_of_breath,Headache,Age_60_above,Sex contain null values."
   ]
  },
  {
   "cell_type": "code",
   "execution_count": 7,
   "id": "3043b445-a8d5-4466-b67a-5bc85822986b",
   "metadata": {
    "tags": []
   },
   "outputs": [
    {
     "data": {
      "text/html": [
       "<div>\n",
       "<style scoped>\n",
       "    .dataframe tbody tr th:only-of-type {\n",
       "        vertical-align: middle;\n",
       "    }\n",
       "\n",
       "    .dataframe tbody tr th {\n",
       "        vertical-align: top;\n",
       "    }\n",
       "\n",
       "    .dataframe thead th {\n",
       "        text-align: right;\n",
       "    }\n",
       "</style>\n",
       "<table border=\"1\" class=\"dataframe\">\n",
       "  <thead>\n",
       "    <tr style=\"text-align: right;\">\n",
       "      <th></th>\n",
       "      <th>Ind_ID</th>\n",
       "      <th>Test_date</th>\n",
       "      <th>Cough_symptoms</th>\n",
       "      <th>Fever</th>\n",
       "      <th>Sore_throat</th>\n",
       "      <th>Shortness_of_breath</th>\n",
       "      <th>Headache</th>\n",
       "      <th>Corona</th>\n",
       "      <th>Age_60_above</th>\n",
       "      <th>Sex</th>\n",
       "      <th>Known_contact</th>\n",
       "    </tr>\n",
       "  </thead>\n",
       "  <tbody>\n",
       "    <tr>\n",
       "      <th>count</th>\n",
       "      <td>278848.000000</td>\n",
       "      <td>278848</td>\n",
       "      <td>278596</td>\n",
       "      <td>278596</td>\n",
       "      <td>278847</td>\n",
       "      <td>278847</td>\n",
       "      <td>278847</td>\n",
       "      <td>278848</td>\n",
       "      <td>151528</td>\n",
       "      <td>259285</td>\n",
       "      <td>278848</td>\n",
       "    </tr>\n",
       "    <tr>\n",
       "      <th>unique</th>\n",
       "      <td>NaN</td>\n",
       "      <td>51</td>\n",
       "      <td>2</td>\n",
       "      <td>2</td>\n",
       "      <td>2</td>\n",
       "      <td>2</td>\n",
       "      <td>2</td>\n",
       "      <td>3</td>\n",
       "      <td>2</td>\n",
       "      <td>2</td>\n",
       "      <td>3</td>\n",
       "    </tr>\n",
       "    <tr>\n",
       "      <th>top</th>\n",
       "      <td>NaN</td>\n",
       "      <td>20-04-2020</td>\n",
       "      <td>False</td>\n",
       "      <td>False</td>\n",
       "      <td>False</td>\n",
       "      <td>False</td>\n",
       "      <td>False</td>\n",
       "      <td>negative</td>\n",
       "      <td>No</td>\n",
       "      <td>female</td>\n",
       "      <td>Other</td>\n",
       "    </tr>\n",
       "    <tr>\n",
       "      <th>freq</th>\n",
       "      <td>NaN</td>\n",
       "      <td>10921</td>\n",
       "      <td>236368</td>\n",
       "      <td>256844</td>\n",
       "      <td>276921</td>\n",
       "      <td>277270</td>\n",
       "      <td>276433</td>\n",
       "      <td>260227</td>\n",
       "      <td>125703</td>\n",
       "      <td>130158</td>\n",
       "      <td>242741</td>\n",
       "    </tr>\n",
       "    <tr>\n",
       "      <th>mean</th>\n",
       "      <td>139424.500000</td>\n",
       "      <td>NaN</td>\n",
       "      <td>NaN</td>\n",
       "      <td>NaN</td>\n",
       "      <td>NaN</td>\n",
       "      <td>NaN</td>\n",
       "      <td>NaN</td>\n",
       "      <td>NaN</td>\n",
       "      <td>NaN</td>\n",
       "      <td>NaN</td>\n",
       "      <td>NaN</td>\n",
       "    </tr>\n",
       "    <tr>\n",
       "      <th>std</th>\n",
       "      <td>80496.628269</td>\n",
       "      <td>NaN</td>\n",
       "      <td>NaN</td>\n",
       "      <td>NaN</td>\n",
       "      <td>NaN</td>\n",
       "      <td>NaN</td>\n",
       "      <td>NaN</td>\n",
       "      <td>NaN</td>\n",
       "      <td>NaN</td>\n",
       "      <td>NaN</td>\n",
       "      <td>NaN</td>\n",
       "    </tr>\n",
       "    <tr>\n",
       "      <th>min</th>\n",
       "      <td>1.000000</td>\n",
       "      <td>NaN</td>\n",
       "      <td>NaN</td>\n",
       "      <td>NaN</td>\n",
       "      <td>NaN</td>\n",
       "      <td>NaN</td>\n",
       "      <td>NaN</td>\n",
       "      <td>NaN</td>\n",
       "      <td>NaN</td>\n",
       "      <td>NaN</td>\n",
       "      <td>NaN</td>\n",
       "    </tr>\n",
       "    <tr>\n",
       "      <th>25%</th>\n",
       "      <td>69712.750000</td>\n",
       "      <td>NaN</td>\n",
       "      <td>NaN</td>\n",
       "      <td>NaN</td>\n",
       "      <td>NaN</td>\n",
       "      <td>NaN</td>\n",
       "      <td>NaN</td>\n",
       "      <td>NaN</td>\n",
       "      <td>NaN</td>\n",
       "      <td>NaN</td>\n",
       "      <td>NaN</td>\n",
       "    </tr>\n",
       "    <tr>\n",
       "      <th>50%</th>\n",
       "      <td>139424.500000</td>\n",
       "      <td>NaN</td>\n",
       "      <td>NaN</td>\n",
       "      <td>NaN</td>\n",
       "      <td>NaN</td>\n",
       "      <td>NaN</td>\n",
       "      <td>NaN</td>\n",
       "      <td>NaN</td>\n",
       "      <td>NaN</td>\n",
       "      <td>NaN</td>\n",
       "      <td>NaN</td>\n",
       "    </tr>\n",
       "    <tr>\n",
       "      <th>75%</th>\n",
       "      <td>209136.250000</td>\n",
       "      <td>NaN</td>\n",
       "      <td>NaN</td>\n",
       "      <td>NaN</td>\n",
       "      <td>NaN</td>\n",
       "      <td>NaN</td>\n",
       "      <td>NaN</td>\n",
       "      <td>NaN</td>\n",
       "      <td>NaN</td>\n",
       "      <td>NaN</td>\n",
       "      <td>NaN</td>\n",
       "    </tr>\n",
       "    <tr>\n",
       "      <th>max</th>\n",
       "      <td>278848.000000</td>\n",
       "      <td>NaN</td>\n",
       "      <td>NaN</td>\n",
       "      <td>NaN</td>\n",
       "      <td>NaN</td>\n",
       "      <td>NaN</td>\n",
       "      <td>NaN</td>\n",
       "      <td>NaN</td>\n",
       "      <td>NaN</td>\n",
       "      <td>NaN</td>\n",
       "      <td>NaN</td>\n",
       "    </tr>\n",
       "  </tbody>\n",
       "</table>\n",
       "</div>"
      ],
      "text/plain": [
       "               Ind_ID   Test_date Cough_symptoms   Fever Sore_throat  \\\n",
       "count   278848.000000      278848         278596  278596      278847   \n",
       "unique            NaN          51              2       2           2   \n",
       "top               NaN  20-04-2020          False   False       False   \n",
       "freq              NaN       10921         236368  256844      276921   \n",
       "mean    139424.500000         NaN            NaN     NaN         NaN   \n",
       "std      80496.628269         NaN            NaN     NaN         NaN   \n",
       "min          1.000000         NaN            NaN     NaN         NaN   \n",
       "25%      69712.750000         NaN            NaN     NaN         NaN   \n",
       "50%     139424.500000         NaN            NaN     NaN         NaN   \n",
       "75%     209136.250000         NaN            NaN     NaN         NaN   \n",
       "max     278848.000000         NaN            NaN     NaN         NaN   \n",
       "\n",
       "       Shortness_of_breath Headache    Corona Age_60_above     Sex  \\\n",
       "count               278847   278847    278848       151528  259285   \n",
       "unique                   2        2         3            2       2   \n",
       "top                  False    False  negative           No  female   \n",
       "freq                277270   276433    260227       125703  130158   \n",
       "mean                   NaN      NaN       NaN          NaN     NaN   \n",
       "std                    NaN      NaN       NaN          NaN     NaN   \n",
       "min                    NaN      NaN       NaN          NaN     NaN   \n",
       "25%                    NaN      NaN       NaN          NaN     NaN   \n",
       "50%                    NaN      NaN       NaN          NaN     NaN   \n",
       "75%                    NaN      NaN       NaN          NaN     NaN   \n",
       "max                    NaN      NaN       NaN          NaN     NaN   \n",
       "\n",
       "       Known_contact  \n",
       "count         278848  \n",
       "unique             3  \n",
       "top            Other  \n",
       "freq          242741  \n",
       "mean             NaN  \n",
       "std              NaN  \n",
       "min              NaN  \n",
       "25%              NaN  \n",
       "50%              NaN  \n",
       "75%              NaN  \n",
       "max              NaN  "
      ]
     },
     "execution_count": 7,
     "metadata": {},
     "output_type": "execute_result"
    }
   ],
   "source": [
    "# getting statistical summary of the dataa\n",
    "covid.describe(include='all')"
   ]
  },
  {
   "cell_type": "code",
   "execution_count": 8,
   "id": "dea8cebc-c879-40a2-a231-af74f8a97388",
   "metadata": {
    "tags": []
   },
   "outputs": [
    {
     "data": {
      "text/plain": [
       "0"
      ]
     },
     "execution_count": 8,
     "metadata": {},
     "output_type": "execute_result"
    }
   ],
   "source": [
    "#checking for duplicates in data\n",
    "covid.duplicated().sum()"
   ]
  },
  {
   "cell_type": "markdown",
   "id": "4e666153-3ffb-435c-b342-931fab37e2ca",
   "metadata": {},
   "source": [
    "- There are no duplicates in columns."
   ]
  },
  {
   "cell_type": "code",
   "execution_count": 9,
   "id": "12d0d5a6-5de4-4034-8aa6-5dbb00c092be",
   "metadata": {
    "tags": []
   },
   "outputs": [
    {
     "data": {
      "text/plain": [
       "Ind_ID                 278848\n",
       "Test_date                  51\n",
       "Cough_symptoms              2\n",
       "Fever                       2\n",
       "Sore_throat                 2\n",
       "Shortness_of_breath         2\n",
       "Headache                    2\n",
       "Corona                      3\n",
       "Age_60_above                2\n",
       "Sex                         2\n",
       "Known_contact               3\n",
       "dtype: int64"
      ]
     },
     "execution_count": 9,
     "metadata": {},
     "output_type": "execute_result"
    }
   ],
   "source": [
    "#checking for no of unique values in each column\n",
    "covid.nunique()"
   ]
  },
  {
   "cell_type": "code",
   "execution_count": 10,
   "id": "ce669acf-c96e-4afc-abae-35089ecde649",
   "metadata": {
    "tags": []
   },
   "outputs": [
    {
     "name": "stdout",
     "output_type": "stream",
     "text": [
      "----- Ind_ID ----\n",
      "Ind_ID\n",
      "1         1\n",
      "185898    1\n",
      "185904    1\n",
      "185903    1\n",
      "185902    1\n",
      "         ..\n",
      "92955     1\n",
      "92956     1\n",
      "92957     1\n",
      "92958     1\n",
      "278848    1\n",
      "Name: count, Length: 278848, dtype: int64\n",
      "----- Test_date ----\n",
      "Test_date\n",
      "20-04-2020    10921\n",
      "19-04-2020    10199\n",
      "22-04-2020     9646\n",
      "21-04-2020     9624\n",
      "16-04-2020     9138\n",
      "23-04-2020     8744\n",
      "01-04-2020     8654\n",
      "13-04-2020     8425\n",
      "02-04-2020     8188\n",
      "03-04-2020     8079\n",
      "17-04-2020     7645\n",
      "05-04-2020     7509\n",
      "30-04-2020     7313\n",
      "27-04-2020     7304\n",
      "15-04-2020     7149\n",
      "31-03-2020     7134\n",
      "24-04-2020     7028\n",
      "26-03-2020     6663\n",
      "14-04-2020     6571\n",
      "28-04-2020     6334\n",
      "18-04-2020     6321\n",
      "26-04-2020     6131\n",
      "12-04-2020     5984\n",
      "27-03-2020     5963\n",
      "07-04-2020     5931\n",
      "30-03-2020     5915\n",
      "10-04-2020     5678\n",
      "28-03-2020     5602\n",
      "25-03-2020     5495\n",
      "06-04-2020     5368\n",
      "29-03-2020     5277\n",
      "04-04-2020     5145\n",
      "25-04-2020     5052\n",
      "24-03-2020     4735\n",
      "09-04-2020     4539\n",
      "11-04-2020     4341\n",
      "29-04-2020     4259\n",
      "08-04-2020     4058\n",
      "22-03-2020     3565\n",
      "23-03-2020     3494\n",
      "19-03-2020     2243\n",
      "18-03-2020     1991\n",
      "20-03-2020     1870\n",
      "21-03-2020     1648\n",
      "17-03-2020     1463\n",
      "16-03-2020     1304\n",
      "15-03-2020      985\n",
      "13-03-2020      686\n",
      "12-03-2020      634\n",
      "14-03-2020      609\n",
      "11-03-2020      294\n",
      "Name: count, dtype: int64\n",
      "----- Cough_symptoms ----\n",
      "Cough_symptoms\n",
      "False    236368\n",
      "True      42228\n",
      "Name: count, dtype: int64\n",
      "----- Fever ----\n",
      "Fever\n",
      "False    256844\n",
      "True      21752\n",
      "Name: count, dtype: int64\n",
      "----- Sore_throat ----\n",
      "Sore_throat\n",
      "False    276921\n",
      "True       1926\n",
      "Name: count, dtype: int64\n",
      "----- Shortness_of_breath ----\n",
      "Shortness_of_breath\n",
      "False    277270\n",
      "True       1577\n",
      "Name: count, dtype: int64\n",
      "----- Headache ----\n",
      "Headache\n",
      "False    276433\n",
      "True       2414\n",
      "Name: count, dtype: int64\n",
      "----- Corona ----\n",
      "Corona\n",
      "negative    260227\n",
      "positive     14729\n",
      "other         3892\n",
      "Name: count, dtype: int64\n",
      "----- Age_60_above ----\n",
      "Age_60_above\n",
      "No     125703\n",
      "Yes     25825\n",
      "Name: count, dtype: int64\n",
      "----- Sex ----\n",
      "Sex\n",
      "female    130158\n",
      "male      129127\n",
      "Name: count, dtype: int64\n",
      "----- Known_contact ----\n",
      "Known_contact\n",
      "Other                     242741\n",
      "Abroad                     25468\n",
      "Contact with confirmed     10639\n",
      "Name: count, dtype: int64\n"
     ]
    }
   ],
   "source": [
    "# print unique values\n",
    "for i in covid.columns:\n",
    "    print(\"----- %s ----\"%i)\n",
    "    print(covid[i].value_counts())"
   ]
  },
  {
   "cell_type": "code",
   "execution_count": 11,
   "id": "af663172-d56a-4dfc-bb45-0ee66609b189",
   "metadata": {
    "tags": []
   },
   "outputs": [
    {
     "data": {
      "text/plain": [
       "Ind_ID                      0\n",
       "Test_date                   0\n",
       "Cough_symptoms            252\n",
       "Fever                     252\n",
       "Sore_throat                 1\n",
       "Shortness_of_breath         1\n",
       "Headache                    1\n",
       "Corona                      0\n",
       "Age_60_above           127320\n",
       "Sex                     19563\n",
       "Known_contact               0\n",
       "dtype: int64"
      ]
     },
     "execution_count": 11,
     "metadata": {},
     "output_type": "execute_result"
    }
   ],
   "source": [
    "# checking for null values\n",
    "covid.isnull().sum()"
   ]
  },
  {
   "cell_type": "code",
   "execution_count": 12,
   "id": "55e9e2dc-d2ac-4489-898d-704d480de2d2",
   "metadata": {},
   "outputs": [],
   "source": [
    "# cross check sore_throat,headache,shortnes of breath is deleted while dropping column from cough_symptoms and fever.\n",
    "#covid[covid['Sore_throat'].isna()]"
   ]
  },
  {
   "cell_type": "code",
   "execution_count": 13,
   "id": "13a62077-ebb3-41ab-8c5b-76af5ccf49fe",
   "metadata": {
    "tags": []
   },
   "outputs": [
    {
     "name": "stdout",
     "output_type": "stream",
     "text": [
      "Ind_ID has 0.0 %\n",
      "Test_date has 0.0 %\n",
      "Cough_symptoms has 0.09037 %\n",
      "Fever has 0.09037 %\n",
      "Sore_throat has 0.00036 %\n",
      "Shortness_of_breath has 0.00036 %\n",
      "Headache has 0.00036 %\n",
      "Corona has 0.0 %\n",
      "Age_60_above has 45.65928 %\n",
      "Sex has 7.01565 %\n",
      "Known_contact has 0.0 %\n"
     ]
    }
   ],
   "source": [
    "# missing value in percentage:\n",
    "for i in covid.columns:\n",
    "    print(f\"{i} has\",round(covid[i].isnull().sum()*100/covid.shape[0],5),\"%\")"
   ]
  },
  {
   "cell_type": "markdown",
   "id": "c52cee6e-b8e2-4c59-a4ac-842d08e17a27",
   "metadata": {
    "tags": []
   },
   "source": [
    "- ## handling missing values\n"
   ]
  },
  {
   "cell_type": "raw",
   "id": "cffe02fa-aee3-4d5e-a6b2-d80f9e40544a",
   "metadata": {},
   "source": [
    "'Ind_ID' and 'Test_date' which we don't need in our analysis and in model building. As per our business requirement , we have to divide the dataset in training set and Testing set based on Test_date , so we will keep this column now and drop it before model building and dividng dataset into Training set and Test set. Corona is our Outcome variable. For now , we will drop 'Ind_ID' column."
   ]
  },
  {
   "cell_type": "markdown",
   "id": "07ee353d-787a-4854-bd9c-3c3536faf489",
   "metadata": {},
   "source": [
    "### dropping 'Ind_ID' column."
   ]
  },
  {
   "cell_type": "code",
   "execution_count": 14,
   "id": "edb87316-04a9-4523-b2a8-a083525a77c9",
   "metadata": {
    "tags": []
   },
   "outputs": [],
   "source": [
    "covid = covid.drop(['Ind_ID'],axis = 1)\n"
   ]
  },
  {
   "cell_type": "code",
   "execution_count": 15,
   "id": "597091df-f873-4aaa-956d-2759a8afec2f",
   "metadata": {
    "tags": []
   },
   "outputs": [
    {
     "data": {
      "text/html": [
       "<div>\n",
       "<style scoped>\n",
       "    .dataframe tbody tr th:only-of-type {\n",
       "        vertical-align: middle;\n",
       "    }\n",
       "\n",
       "    .dataframe tbody tr th {\n",
       "        vertical-align: top;\n",
       "    }\n",
       "\n",
       "    .dataframe thead th {\n",
       "        text-align: right;\n",
       "    }\n",
       "</style>\n",
       "<table border=\"1\" class=\"dataframe\">\n",
       "  <thead>\n",
       "    <tr style=\"text-align: right;\">\n",
       "      <th></th>\n",
       "      <th>Test_date</th>\n",
       "      <th>Cough_symptoms</th>\n",
       "      <th>Fever</th>\n",
       "      <th>Sore_throat</th>\n",
       "      <th>Shortness_of_breath</th>\n",
       "      <th>Headache</th>\n",
       "      <th>Corona</th>\n",
       "      <th>Age_60_above</th>\n",
       "      <th>Sex</th>\n",
       "      <th>Known_contact</th>\n",
       "    </tr>\n",
       "  </thead>\n",
       "  <tbody>\n",
       "    <tr>\n",
       "      <th>0</th>\n",
       "      <td>11-03-2020</td>\n",
       "      <td>True</td>\n",
       "      <td>False</td>\n",
       "      <td>True</td>\n",
       "      <td>False</td>\n",
       "      <td>False</td>\n",
       "      <td>negative</td>\n",
       "      <td>NaN</td>\n",
       "      <td>NaN</td>\n",
       "      <td>Abroad</td>\n",
       "    </tr>\n",
       "    <tr>\n",
       "      <th>1</th>\n",
       "      <td>11-03-2020</td>\n",
       "      <td>False</td>\n",
       "      <td>True</td>\n",
       "      <td>False</td>\n",
       "      <td>False</td>\n",
       "      <td>False</td>\n",
       "      <td>positive</td>\n",
       "      <td>NaN</td>\n",
       "      <td>NaN</td>\n",
       "      <td>Abroad</td>\n",
       "    </tr>\n",
       "    <tr>\n",
       "      <th>2</th>\n",
       "      <td>11-03-2020</td>\n",
       "      <td>False</td>\n",
       "      <td>True</td>\n",
       "      <td>False</td>\n",
       "      <td>False</td>\n",
       "      <td>False</td>\n",
       "      <td>positive</td>\n",
       "      <td>NaN</td>\n",
       "      <td>NaN</td>\n",
       "      <td>Abroad</td>\n",
       "    </tr>\n",
       "    <tr>\n",
       "      <th>3</th>\n",
       "      <td>11-03-2020</td>\n",
       "      <td>True</td>\n",
       "      <td>False</td>\n",
       "      <td>False</td>\n",
       "      <td>False</td>\n",
       "      <td>False</td>\n",
       "      <td>negative</td>\n",
       "      <td>NaN</td>\n",
       "      <td>NaN</td>\n",
       "      <td>Abroad</td>\n",
       "    </tr>\n",
       "    <tr>\n",
       "      <th>4</th>\n",
       "      <td>11-03-2020</td>\n",
       "      <td>True</td>\n",
       "      <td>False</td>\n",
       "      <td>False</td>\n",
       "      <td>False</td>\n",
       "      <td>False</td>\n",
       "      <td>negative</td>\n",
       "      <td>NaN</td>\n",
       "      <td>NaN</td>\n",
       "      <td>Contact with confirmed</td>\n",
       "    </tr>\n",
       "  </tbody>\n",
       "</table>\n",
       "</div>"
      ],
      "text/plain": [
       "    Test_date Cough_symptoms  Fever Sore_throat Shortness_of_breath Headache  \\\n",
       "0  11-03-2020           True  False        True               False    False   \n",
       "1  11-03-2020          False   True       False               False    False   \n",
       "2  11-03-2020          False   True       False               False    False   \n",
       "3  11-03-2020           True  False       False               False    False   \n",
       "4  11-03-2020           True  False       False               False    False   \n",
       "\n",
       "     Corona Age_60_above  Sex           Known_contact  \n",
       "0  negative          NaN  NaN                  Abroad  \n",
       "1  positive          NaN  NaN                  Abroad  \n",
       "2  positive          NaN  NaN                  Abroad  \n",
       "3  negative          NaN  NaN                  Abroad  \n",
       "4  negative          NaN  NaN  Contact with confirmed  "
      ]
     },
     "execution_count": 15,
     "metadata": {},
     "output_type": "execute_result"
    }
   ],
   "source": [
    "covid.head()"
   ]
  },
  {
   "cell_type": "markdown",
   "id": "eb620b9f-5188-4818-932f-6e3f520bd6d5",
   "metadata": {},
   "source": [
    "- We also have another value of \"None\" in various columns like in Sex , age_60_above , Headache , Shortness_of_breath ,Fever and Cough_symptoms. So , we need to address those also.\n",
    "- As these values are null values , but not recognised as Null value. Let's clean each column separately"
   ]
  },
  {
   "cell_type": "markdown",
   "id": "77aad3f0-cd0a-4fdd-af3b-2057a01bf51c",
   "metadata": {},
   "source": [
    "### Cough_symptoms column"
   ]
  },
  {
   "cell_type": "raw",
   "id": "62d4b402-0875-4734-af71-76b46656daf1",
   "metadata": {},
   "source": [
    "We have value as \"NaN\" in 252 records , we need to impute these values or drop it. As this contain categorical values , we can't use mean imputation or KNN imputation. Imputing it with Mode(which is False) might make our data bias.\n",
    "\n",
    "Therefore droping these records is the best option.\n",
    "\n",
    "But Before doing that I want to check relation between \"Cough_symptoms\" column and \"Corona\" column. We also have value as \"Other\" in Corona column. So , let's check if there is a relation between \"other\"value of corona column and in \"NaN\" value of Cough_symptoms and \"Fever\" Column."
   ]
  },
  {
   "cell_type": "code",
   "execution_count": 16,
   "id": "29e0be32-4db5-45b7-83c0-010d91c8e04d",
   "metadata": {
    "tags": []
   },
   "outputs": [
    {
     "data": {
      "text/plain": [
       "Cough_symptoms\n",
       "False    236368\n",
       "True      42228\n",
       "Name: count, dtype: int64"
      ]
     },
     "execution_count": 16,
     "metadata": {},
     "output_type": "execute_result"
    }
   ],
   "source": [
    "covid['Cough_symptoms'].value_counts()"
   ]
  },
  {
   "cell_type": "code",
   "execution_count": 17,
   "id": "c176973e-039a-4c5a-a3f8-00e5cd668349",
   "metadata": {
    "tags": []
   },
   "outputs": [
    {
     "data": {
      "text/html": [
       "<div>\n",
       "<style scoped>\n",
       "    .dataframe tbody tr th:only-of-type {\n",
       "        vertical-align: middle;\n",
       "    }\n",
       "\n",
       "    .dataframe tbody tr th {\n",
       "        vertical-align: top;\n",
       "    }\n",
       "\n",
       "    .dataframe thead th {\n",
       "        text-align: right;\n",
       "    }\n",
       "</style>\n",
       "<table border=\"1\" class=\"dataframe\">\n",
       "  <thead>\n",
       "    <tr style=\"text-align: right;\">\n",
       "      <th></th>\n",
       "      <th>Test_date</th>\n",
       "      <th>Cough_symptoms</th>\n",
       "      <th>Fever</th>\n",
       "      <th>Sore_throat</th>\n",
       "      <th>Shortness_of_breath</th>\n",
       "      <th>Headache</th>\n",
       "      <th>Corona</th>\n",
       "      <th>Age_60_above</th>\n",
       "      <th>Sex</th>\n",
       "      <th>Known_contact</th>\n",
       "    </tr>\n",
       "  </thead>\n",
       "  <tbody>\n",
       "    <tr>\n",
       "      <th>68</th>\n",
       "      <td>11-03-2020</td>\n",
       "      <td>NaN</td>\n",
       "      <td>False</td>\n",
       "      <td>True</td>\n",
       "      <td>False</td>\n",
       "      <td>False</td>\n",
       "      <td>positive</td>\n",
       "      <td>NaN</td>\n",
       "      <td>NaN</td>\n",
       "      <td>Abroad</td>\n",
       "    </tr>\n",
       "    <tr>\n",
       "      <th>281</th>\n",
       "      <td>11-03-2020</td>\n",
       "      <td>NaN</td>\n",
       "      <td>NaN</td>\n",
       "      <td>False</td>\n",
       "      <td>False</td>\n",
       "      <td>False</td>\n",
       "      <td>positive</td>\n",
       "      <td>NaN</td>\n",
       "      <td>NaN</td>\n",
       "      <td>Abroad</td>\n",
       "    </tr>\n",
       "    <tr>\n",
       "      <th>577</th>\n",
       "      <td>12-03-2020</td>\n",
       "      <td>NaN</td>\n",
       "      <td>NaN</td>\n",
       "      <td>NaN</td>\n",
       "      <td>NaN</td>\n",
       "      <td>NaN</td>\n",
       "      <td>positive</td>\n",
       "      <td>NaN</td>\n",
       "      <td>NaN</td>\n",
       "      <td>Other</td>\n",
       "    </tr>\n",
       "    <tr>\n",
       "      <th>2664</th>\n",
       "      <td>15-03-2020</td>\n",
       "      <td>NaN</td>\n",
       "      <td>NaN</td>\n",
       "      <td>False</td>\n",
       "      <td>False</td>\n",
       "      <td>False</td>\n",
       "      <td>negative</td>\n",
       "      <td>NaN</td>\n",
       "      <td>NaN</td>\n",
       "      <td>Other</td>\n",
       "    </tr>\n",
       "    <tr>\n",
       "      <th>4442</th>\n",
       "      <td>16-03-2020</td>\n",
       "      <td>NaN</td>\n",
       "      <td>NaN</td>\n",
       "      <td>False</td>\n",
       "      <td>False</td>\n",
       "      <td>False</td>\n",
       "      <td>negative</td>\n",
       "      <td>NaN</td>\n",
       "      <td>NaN</td>\n",
       "      <td>Other</td>\n",
       "    </tr>\n",
       "    <tr>\n",
       "      <th>...</th>\n",
       "      <td>...</td>\n",
       "      <td>...</td>\n",
       "      <td>...</td>\n",
       "      <td>...</td>\n",
       "      <td>...</td>\n",
       "      <td>...</td>\n",
       "      <td>...</td>\n",
       "      <td>...</td>\n",
       "      <td>...</td>\n",
       "      <td>...</td>\n",
       "    </tr>\n",
       "    <tr>\n",
       "      <th>95936</th>\n",
       "      <td>04-04-2020</td>\n",
       "      <td>NaN</td>\n",
       "      <td>NaN</td>\n",
       "      <td>False</td>\n",
       "      <td>False</td>\n",
       "      <td>False</td>\n",
       "      <td>negative</td>\n",
       "      <td>No</td>\n",
       "      <td>male</td>\n",
       "      <td>Other</td>\n",
       "    </tr>\n",
       "    <tr>\n",
       "      <th>95937</th>\n",
       "      <td>04-04-2020</td>\n",
       "      <td>NaN</td>\n",
       "      <td>NaN</td>\n",
       "      <td>False</td>\n",
       "      <td>False</td>\n",
       "      <td>False</td>\n",
       "      <td>negative</td>\n",
       "      <td>No</td>\n",
       "      <td>female</td>\n",
       "      <td>Other</td>\n",
       "    </tr>\n",
       "    <tr>\n",
       "      <th>95938</th>\n",
       "      <td>04-04-2020</td>\n",
       "      <td>NaN</td>\n",
       "      <td>NaN</td>\n",
       "      <td>False</td>\n",
       "      <td>False</td>\n",
       "      <td>False</td>\n",
       "      <td>negative</td>\n",
       "      <td>Yes</td>\n",
       "      <td>male</td>\n",
       "      <td>Other</td>\n",
       "    </tr>\n",
       "    <tr>\n",
       "      <th>95939</th>\n",
       "      <td>04-04-2020</td>\n",
       "      <td>NaN</td>\n",
       "      <td>NaN</td>\n",
       "      <td>False</td>\n",
       "      <td>False</td>\n",
       "      <td>False</td>\n",
       "      <td>negative</td>\n",
       "      <td>No</td>\n",
       "      <td>female</td>\n",
       "      <td>Other</td>\n",
       "    </tr>\n",
       "    <tr>\n",
       "      <th>105093</th>\n",
       "      <td>05-04-2020</td>\n",
       "      <td>NaN</td>\n",
       "      <td>NaN</td>\n",
       "      <td>False</td>\n",
       "      <td>False</td>\n",
       "      <td>False</td>\n",
       "      <td>negative</td>\n",
       "      <td>No</td>\n",
       "      <td>male</td>\n",
       "      <td>Other</td>\n",
       "    </tr>\n",
       "  </tbody>\n",
       "</table>\n",
       "<p>252 rows × 10 columns</p>\n",
       "</div>"
      ],
      "text/plain": [
       "         Test_date Cough_symptoms  Fever Sore_throat Shortness_of_breath  \\\n",
       "68      11-03-2020            NaN  False        True               False   \n",
       "281     11-03-2020            NaN    NaN       False               False   \n",
       "577     12-03-2020            NaN    NaN         NaN                 NaN   \n",
       "2664    15-03-2020            NaN    NaN       False               False   \n",
       "4442    16-03-2020            NaN    NaN       False               False   \n",
       "...            ...            ...    ...         ...                 ...   \n",
       "95936   04-04-2020            NaN    NaN       False               False   \n",
       "95937   04-04-2020            NaN    NaN       False               False   \n",
       "95938   04-04-2020            NaN    NaN       False               False   \n",
       "95939   04-04-2020            NaN    NaN       False               False   \n",
       "105093  05-04-2020            NaN    NaN       False               False   \n",
       "\n",
       "       Headache    Corona Age_60_above     Sex Known_contact  \n",
       "68        False  positive          NaN     NaN        Abroad  \n",
       "281       False  positive          NaN     NaN        Abroad  \n",
       "577         NaN  positive          NaN     NaN         Other  \n",
       "2664      False  negative          NaN     NaN         Other  \n",
       "4442      False  negative          NaN     NaN         Other  \n",
       "...         ...       ...          ...     ...           ...  \n",
       "95936     False  negative           No    male         Other  \n",
       "95937     False  negative           No  female         Other  \n",
       "95938     False  negative          Yes    male         Other  \n",
       "95939     False  negative           No  female         Other  \n",
       "105093    False  negative           No    male         Other  \n",
       "\n",
       "[252 rows x 10 columns]"
      ]
     },
     "execution_count": 17,
     "metadata": {},
     "output_type": "execute_result"
    }
   ],
   "source": [
    "covid[covid[\"Cough_symptoms\"].isna()]"
   ]
  },
  {
   "cell_type": "raw",
   "id": "81984083-1347-483a-b63a-dc1d0dfb974a",
   "metadata": {},
   "source": [
    "Don't see any relation between them and less than 1% of data is missing. So, I will be dropping the rows with NaN value in cough symptoms."
   ]
  },
  {
   "cell_type": "code",
   "execution_count": 18,
   "id": "b089d260-57bc-4dc7-8cf1-2875f362ec1e",
   "metadata": {
    "tags": []
   },
   "outputs": [
    {
     "data": {
      "text/plain": [
       "(278596, 10)"
      ]
     },
     "execution_count": 18,
     "metadata": {},
     "output_type": "execute_result"
    }
   ],
   "source": [
    "covid = covid.dropna(subset=[\"Cough_symptoms\"])\n",
    "covid.shape"
   ]
  },
  {
   "cell_type": "raw",
   "id": "e13d8403-ab17-42af-8e85-4b3fadca56bf",
   "metadata": {},
   "source": [
    "The column Cough_symptoms is cleaned."
   ]
  },
  {
   "cell_type": "markdown",
   "id": "1db797f4-9bf0-405a-aed0-a1e5d085f030",
   "metadata": {},
   "source": [
    "### Fever column"
   ]
  },
  {
   "cell_type": "code",
   "execution_count": 19,
   "id": "188035cb-3d28-4af0-a826-146f3fee567c",
   "metadata": {
    "tags": []
   },
   "outputs": [
    {
     "data": {
      "text/html": [
       "<div>\n",
       "<style scoped>\n",
       "    .dataframe tbody tr th:only-of-type {\n",
       "        vertical-align: middle;\n",
       "    }\n",
       "\n",
       "    .dataframe tbody tr th {\n",
       "        vertical-align: top;\n",
       "    }\n",
       "\n",
       "    .dataframe thead th {\n",
       "        text-align: right;\n",
       "    }\n",
       "</style>\n",
       "<table border=\"1\" class=\"dataframe\">\n",
       "  <thead>\n",
       "    <tr style=\"text-align: right;\">\n",
       "      <th></th>\n",
       "      <th>Test_date</th>\n",
       "      <th>Cough_symptoms</th>\n",
       "      <th>Fever</th>\n",
       "      <th>Sore_throat</th>\n",
       "      <th>Shortness_of_breath</th>\n",
       "      <th>Headache</th>\n",
       "      <th>Corona</th>\n",
       "      <th>Age_60_above</th>\n",
       "      <th>Sex</th>\n",
       "      <th>Known_contact</th>\n",
       "    </tr>\n",
       "  </thead>\n",
       "  <tbody>\n",
       "    <tr>\n",
       "      <th>32082</th>\n",
       "      <td>26-03-2020</td>\n",
       "      <td>True</td>\n",
       "      <td>NaN</td>\n",
       "      <td>False</td>\n",
       "      <td>False</td>\n",
       "      <td>True</td>\n",
       "      <td>positive</td>\n",
       "      <td>No</td>\n",
       "      <td>male</td>\n",
       "      <td>Other</td>\n",
       "    </tr>\n",
       "    <tr>\n",
       "      <th>95719</th>\n",
       "      <td>04-04-2020</td>\n",
       "      <td>True</td>\n",
       "      <td>NaN</td>\n",
       "      <td>False</td>\n",
       "      <td>False</td>\n",
       "      <td>True</td>\n",
       "      <td>positive</td>\n",
       "      <td>No</td>\n",
       "      <td>female</td>\n",
       "      <td>Other</td>\n",
       "    </tr>\n",
       "  </tbody>\n",
       "</table>\n",
       "</div>"
      ],
      "text/plain": [
       "        Test_date Cough_symptoms Fever Sore_throat Shortness_of_breath  \\\n",
       "32082  26-03-2020           True   NaN       False               False   \n",
       "95719  04-04-2020           True   NaN       False               False   \n",
       "\n",
       "      Headache    Corona Age_60_above     Sex Known_contact  \n",
       "32082     True  positive           No    male         Other  \n",
       "95719     True  positive           No  female         Other  "
      ]
     },
     "execution_count": 19,
     "metadata": {},
     "output_type": "execute_result"
    }
   ],
   "source": [
    "covid[covid[\"Fever\"].isna()]"
   ]
  },
  {
   "cell_type": "raw",
   "id": "b1cf3d43-025e-435d-bfd1-5adfa7f0c088",
   "metadata": {},
   "source": [
    "since less than 1% of data is missing in Fever column hence we drop this column."
   ]
  },
  {
   "cell_type": "code",
   "execution_count": 20,
   "id": "9254aac6-821c-478d-831b-3e2ede9ed097",
   "metadata": {
    "tags": []
   },
   "outputs": [
    {
     "data": {
      "text/plain": [
       "(278594, 10)"
      ]
     },
     "execution_count": 20,
     "metadata": {},
     "output_type": "execute_result"
    }
   ],
   "source": [
    "covid = covid.dropna(subset=[\"Fever\"])\n",
    "covid.shape"
   ]
  },
  {
   "cell_type": "raw",
   "id": "851bc7c9-8354-461f-aa8a-ee9355e74020",
   "metadata": {},
   "source": [
    "The column Fever is cleaned."
   ]
  },
  {
   "cell_type": "markdown",
   "id": "803a96a6-a530-43be-87af-849081c0bfc2",
   "metadata": {},
   "source": [
    "### Age_60_above column"
   ]
  },
  {
   "cell_type": "code",
   "execution_count": 21,
   "id": "2820593d-2a72-4082-ba1e-836d53189fa0",
   "metadata": {
    "tags": []
   },
   "outputs": [
    {
     "data": {
      "text/plain": [
       "Age_60_above\n",
       "No     125504\n",
       "Yes     25775\n",
       "Name: count, dtype: int64"
      ]
     },
     "execution_count": 21,
     "metadata": {},
     "output_type": "execute_result"
    }
   ],
   "source": [
    "covid['Age_60_above'].value_counts()"
   ]
  },
  {
   "cell_type": "markdown",
   "id": "2a4721d2-00b3-4be7-b85d-e73aba817a50",
   "metadata": {},
   "source": [
    "- As we can see that 127315 cell in 'Age_60_above' column has nan values."
   ]
  },
  {
   "cell_type": "code",
   "execution_count": 22,
   "id": "dedc847c-39c4-4f0c-957c-d426d3226068",
   "metadata": {
    "tags": []
   },
   "outputs": [
    {
     "data": {
      "text/html": [
       "<div>\n",
       "<style scoped>\n",
       "    .dataframe tbody tr th:only-of-type {\n",
       "        vertical-align: middle;\n",
       "    }\n",
       "\n",
       "    .dataframe tbody tr th {\n",
       "        vertical-align: top;\n",
       "    }\n",
       "\n",
       "    .dataframe thead th {\n",
       "        text-align: right;\n",
       "    }\n",
       "</style>\n",
       "<table border=\"1\" class=\"dataframe\">\n",
       "  <thead>\n",
       "    <tr style=\"text-align: right;\">\n",
       "      <th></th>\n",
       "      <th>Test_date</th>\n",
       "      <th>Cough_symptoms</th>\n",
       "      <th>Fever</th>\n",
       "      <th>Sore_throat</th>\n",
       "      <th>Shortness_of_breath</th>\n",
       "      <th>Headache</th>\n",
       "      <th>Corona</th>\n",
       "      <th>Age_60_above</th>\n",
       "      <th>Sex</th>\n",
       "      <th>Known_contact</th>\n",
       "    </tr>\n",
       "  </thead>\n",
       "  <tbody>\n",
       "    <tr>\n",
       "      <th>0</th>\n",
       "      <td>11-03-2020</td>\n",
       "      <td>True</td>\n",
       "      <td>False</td>\n",
       "      <td>True</td>\n",
       "      <td>False</td>\n",
       "      <td>False</td>\n",
       "      <td>negative</td>\n",
       "      <td>NaN</td>\n",
       "      <td>NaN</td>\n",
       "      <td>Abroad</td>\n",
       "    </tr>\n",
       "    <tr>\n",
       "      <th>1</th>\n",
       "      <td>11-03-2020</td>\n",
       "      <td>False</td>\n",
       "      <td>True</td>\n",
       "      <td>False</td>\n",
       "      <td>False</td>\n",
       "      <td>False</td>\n",
       "      <td>positive</td>\n",
       "      <td>NaN</td>\n",
       "      <td>NaN</td>\n",
       "      <td>Abroad</td>\n",
       "    </tr>\n",
       "    <tr>\n",
       "      <th>2</th>\n",
       "      <td>11-03-2020</td>\n",
       "      <td>False</td>\n",
       "      <td>True</td>\n",
       "      <td>False</td>\n",
       "      <td>False</td>\n",
       "      <td>False</td>\n",
       "      <td>positive</td>\n",
       "      <td>NaN</td>\n",
       "      <td>NaN</td>\n",
       "      <td>Abroad</td>\n",
       "    </tr>\n",
       "    <tr>\n",
       "      <th>3</th>\n",
       "      <td>11-03-2020</td>\n",
       "      <td>True</td>\n",
       "      <td>False</td>\n",
       "      <td>False</td>\n",
       "      <td>False</td>\n",
       "      <td>False</td>\n",
       "      <td>negative</td>\n",
       "      <td>NaN</td>\n",
       "      <td>NaN</td>\n",
       "      <td>Abroad</td>\n",
       "    </tr>\n",
       "    <tr>\n",
       "      <th>4</th>\n",
       "      <td>11-03-2020</td>\n",
       "      <td>True</td>\n",
       "      <td>False</td>\n",
       "      <td>False</td>\n",
       "      <td>False</td>\n",
       "      <td>False</td>\n",
       "      <td>negative</td>\n",
       "      <td>NaN</td>\n",
       "      <td>NaN</td>\n",
       "      <td>Contact with confirmed</td>\n",
       "    </tr>\n",
       "    <tr>\n",
       "      <th>...</th>\n",
       "      <td>...</td>\n",
       "      <td>...</td>\n",
       "      <td>...</td>\n",
       "      <td>...</td>\n",
       "      <td>...</td>\n",
       "      <td>...</td>\n",
       "      <td>...</td>\n",
       "      <td>...</td>\n",
       "      <td>...</td>\n",
       "      <td>...</td>\n",
       "    </tr>\n",
       "    <tr>\n",
       "      <th>278843</th>\n",
       "      <td>30-04-2020</td>\n",
       "      <td>False</td>\n",
       "      <td>False</td>\n",
       "      <td>False</td>\n",
       "      <td>False</td>\n",
       "      <td>False</td>\n",
       "      <td>positive</td>\n",
       "      <td>NaN</td>\n",
       "      <td>male</td>\n",
       "      <td>Other</td>\n",
       "    </tr>\n",
       "    <tr>\n",
       "      <th>278844</th>\n",
       "      <td>30-04-2020</td>\n",
       "      <td>False</td>\n",
       "      <td>False</td>\n",
       "      <td>False</td>\n",
       "      <td>False</td>\n",
       "      <td>False</td>\n",
       "      <td>negative</td>\n",
       "      <td>NaN</td>\n",
       "      <td>female</td>\n",
       "      <td>Other</td>\n",
       "    </tr>\n",
       "    <tr>\n",
       "      <th>278845</th>\n",
       "      <td>30-04-2020</td>\n",
       "      <td>False</td>\n",
       "      <td>False</td>\n",
       "      <td>False</td>\n",
       "      <td>False</td>\n",
       "      <td>False</td>\n",
       "      <td>negative</td>\n",
       "      <td>NaN</td>\n",
       "      <td>male</td>\n",
       "      <td>Other</td>\n",
       "    </tr>\n",
       "    <tr>\n",
       "      <th>278846</th>\n",
       "      <td>30-04-2020</td>\n",
       "      <td>False</td>\n",
       "      <td>False</td>\n",
       "      <td>False</td>\n",
       "      <td>False</td>\n",
       "      <td>False</td>\n",
       "      <td>negative</td>\n",
       "      <td>NaN</td>\n",
       "      <td>male</td>\n",
       "      <td>Other</td>\n",
       "    </tr>\n",
       "    <tr>\n",
       "      <th>278847</th>\n",
       "      <td>30-04-2020</td>\n",
       "      <td>False</td>\n",
       "      <td>False</td>\n",
       "      <td>False</td>\n",
       "      <td>False</td>\n",
       "      <td>False</td>\n",
       "      <td>negative</td>\n",
       "      <td>NaN</td>\n",
       "      <td>female</td>\n",
       "      <td>Other</td>\n",
       "    </tr>\n",
       "  </tbody>\n",
       "</table>\n",
       "<p>127315 rows × 10 columns</p>\n",
       "</div>"
      ],
      "text/plain": [
       "         Test_date Cough_symptoms  Fever Sore_throat Shortness_of_breath  \\\n",
       "0       11-03-2020           True  False        True               False   \n",
       "1       11-03-2020          False   True       False               False   \n",
       "2       11-03-2020          False   True       False               False   \n",
       "3       11-03-2020           True  False       False               False   \n",
       "4       11-03-2020           True  False       False               False   \n",
       "...            ...            ...    ...         ...                 ...   \n",
       "278843  30-04-2020          False  False       False               False   \n",
       "278844  30-04-2020          False  False       False               False   \n",
       "278845  30-04-2020          False  False       False               False   \n",
       "278846  30-04-2020          False  False       False               False   \n",
       "278847  30-04-2020          False  False       False               False   \n",
       "\n",
       "       Headache    Corona Age_60_above     Sex           Known_contact  \n",
       "0         False  negative          NaN     NaN                  Abroad  \n",
       "1         False  positive          NaN     NaN                  Abroad  \n",
       "2         False  positive          NaN     NaN                  Abroad  \n",
       "3         False  negative          NaN     NaN                  Abroad  \n",
       "4         False  negative          NaN     NaN  Contact with confirmed  \n",
       "...         ...       ...          ...     ...                     ...  \n",
       "278843    False  positive          NaN    male                   Other  \n",
       "278844    False  negative          NaN  female                   Other  \n",
       "278845    False  negative          NaN    male                   Other  \n",
       "278846    False  negative          NaN    male                   Other  \n",
       "278847    False  negative          NaN  female                   Other  \n",
       "\n",
       "[127315 rows x 10 columns]"
      ]
     },
     "execution_count": 22,
     "metadata": {},
     "output_type": "execute_result"
    }
   ],
   "source": [
    "covid[covid[\"Age_60_above\"].isna()]"
   ]
  },
  {
   "cell_type": "markdown",
   "id": "62e8ae60-5f92-4f4b-86ab-79a268e22a50",
   "metadata": {},
   "source": [
    "- The reason behind this may be patient is not comfortable in revealing his/her age.\n",
    "\n",
    "- We can rename it as \"Unknown\""
   ]
  },
  {
   "cell_type": "code",
   "execution_count": 23,
   "id": "de44e584-bf4a-427b-813a-767a15022899",
   "metadata": {
    "tags": []
   },
   "outputs": [
    {
     "data": {
      "text/html": [
       "<div>\n",
       "<style scoped>\n",
       "    .dataframe tbody tr th:only-of-type {\n",
       "        vertical-align: middle;\n",
       "    }\n",
       "\n",
       "    .dataframe tbody tr th {\n",
       "        vertical-align: top;\n",
       "    }\n",
       "\n",
       "    .dataframe thead th {\n",
       "        text-align: right;\n",
       "    }\n",
       "</style>\n",
       "<table border=\"1\" class=\"dataframe\">\n",
       "  <thead>\n",
       "    <tr style=\"text-align: right;\">\n",
       "      <th></th>\n",
       "      <th>Test_date</th>\n",
       "      <th>Cough_symptoms</th>\n",
       "      <th>Fever</th>\n",
       "      <th>Sore_throat</th>\n",
       "      <th>Shortness_of_breath</th>\n",
       "      <th>Headache</th>\n",
       "      <th>Corona</th>\n",
       "      <th>Age_60_above</th>\n",
       "      <th>Sex</th>\n",
       "      <th>Known_contact</th>\n",
       "    </tr>\n",
       "  </thead>\n",
       "  <tbody>\n",
       "    <tr>\n",
       "      <th>0</th>\n",
       "      <td>11-03-2020</td>\n",
       "      <td>True</td>\n",
       "      <td>False</td>\n",
       "      <td>True</td>\n",
       "      <td>False</td>\n",
       "      <td>False</td>\n",
       "      <td>negative</td>\n",
       "      <td>Unknown</td>\n",
       "      <td>NaN</td>\n",
       "      <td>Abroad</td>\n",
       "    </tr>\n",
       "    <tr>\n",
       "      <th>1</th>\n",
       "      <td>11-03-2020</td>\n",
       "      <td>False</td>\n",
       "      <td>True</td>\n",
       "      <td>False</td>\n",
       "      <td>False</td>\n",
       "      <td>False</td>\n",
       "      <td>positive</td>\n",
       "      <td>Unknown</td>\n",
       "      <td>NaN</td>\n",
       "      <td>Abroad</td>\n",
       "    </tr>\n",
       "    <tr>\n",
       "      <th>2</th>\n",
       "      <td>11-03-2020</td>\n",
       "      <td>False</td>\n",
       "      <td>True</td>\n",
       "      <td>False</td>\n",
       "      <td>False</td>\n",
       "      <td>False</td>\n",
       "      <td>positive</td>\n",
       "      <td>Unknown</td>\n",
       "      <td>NaN</td>\n",
       "      <td>Abroad</td>\n",
       "    </tr>\n",
       "    <tr>\n",
       "      <th>3</th>\n",
       "      <td>11-03-2020</td>\n",
       "      <td>True</td>\n",
       "      <td>False</td>\n",
       "      <td>False</td>\n",
       "      <td>False</td>\n",
       "      <td>False</td>\n",
       "      <td>negative</td>\n",
       "      <td>Unknown</td>\n",
       "      <td>NaN</td>\n",
       "      <td>Abroad</td>\n",
       "    </tr>\n",
       "    <tr>\n",
       "      <th>4</th>\n",
       "      <td>11-03-2020</td>\n",
       "      <td>True</td>\n",
       "      <td>False</td>\n",
       "      <td>False</td>\n",
       "      <td>False</td>\n",
       "      <td>False</td>\n",
       "      <td>negative</td>\n",
       "      <td>Unknown</td>\n",
       "      <td>NaN</td>\n",
       "      <td>Contact with confirmed</td>\n",
       "    </tr>\n",
       "  </tbody>\n",
       "</table>\n",
       "</div>"
      ],
      "text/plain": [
       "    Test_date Cough_symptoms  Fever Sore_throat Shortness_of_breath Headache  \\\n",
       "0  11-03-2020           True  False        True               False    False   \n",
       "1  11-03-2020          False   True       False               False    False   \n",
       "2  11-03-2020          False   True       False               False    False   \n",
       "3  11-03-2020           True  False       False               False    False   \n",
       "4  11-03-2020           True  False       False               False    False   \n",
       "\n",
       "     Corona Age_60_above  Sex           Known_contact  \n",
       "0  negative      Unknown  NaN                  Abroad  \n",
       "1  positive      Unknown  NaN                  Abroad  \n",
       "2  positive      Unknown  NaN                  Abroad  \n",
       "3  negative      Unknown  NaN                  Abroad  \n",
       "4  negative      Unknown  NaN  Contact with confirmed  "
      ]
     },
     "execution_count": 23,
     "metadata": {},
     "output_type": "execute_result"
    }
   ],
   "source": [
    "# renaming 'None' value to 'Unknown'\n",
    "covid['Age_60_above'] = covid['Age_60_above'].fillna('Unknown')\n",
    "covid.head()"
   ]
  },
  {
   "cell_type": "markdown",
   "id": "b532bbf7-690c-4b44-b1e6-35ae280a841d",
   "metadata": {},
   "source": [
    "### sex column"
   ]
  },
  {
   "cell_type": "code",
   "execution_count": 24,
   "id": "89987343-b2bc-49ee-8f72-e73a358a9541",
   "metadata": {
    "tags": []
   },
   "outputs": [
    {
     "data": {
      "text/plain": [
       "Sex\n",
       "female    130030\n",
       "male      129012\n",
       "Name: count, dtype: int64"
      ]
     },
     "execution_count": 24,
     "metadata": {},
     "output_type": "execute_result"
    }
   ],
   "source": [
    "covid['Sex'].value_counts()"
   ]
  },
  {
   "cell_type": "code",
   "execution_count": 25,
   "id": "85c68de9-1790-4f6f-915b-129b0fb1e639",
   "metadata": {
    "tags": []
   },
   "outputs": [
    {
     "data": {
      "text/html": [
       "<div>\n",
       "<style scoped>\n",
       "    .dataframe tbody tr th:only-of-type {\n",
       "        vertical-align: middle;\n",
       "    }\n",
       "\n",
       "    .dataframe tbody tr th {\n",
       "        vertical-align: top;\n",
       "    }\n",
       "\n",
       "    .dataframe thead th {\n",
       "        text-align: right;\n",
       "    }\n",
       "</style>\n",
       "<table border=\"1\" class=\"dataframe\">\n",
       "  <thead>\n",
       "    <tr style=\"text-align: right;\">\n",
       "      <th></th>\n",
       "      <th>Test_date</th>\n",
       "      <th>Cough_symptoms</th>\n",
       "      <th>Fever</th>\n",
       "      <th>Sore_throat</th>\n",
       "      <th>Shortness_of_breath</th>\n",
       "      <th>Headache</th>\n",
       "      <th>Corona</th>\n",
       "      <th>Age_60_above</th>\n",
       "      <th>Sex</th>\n",
       "      <th>Known_contact</th>\n",
       "    </tr>\n",
       "  </thead>\n",
       "  <tbody>\n",
       "    <tr>\n",
       "      <th>0</th>\n",
       "      <td>11-03-2020</td>\n",
       "      <td>True</td>\n",
       "      <td>False</td>\n",
       "      <td>True</td>\n",
       "      <td>False</td>\n",
       "      <td>False</td>\n",
       "      <td>negative</td>\n",
       "      <td>Unknown</td>\n",
       "      <td>NaN</td>\n",
       "      <td>Abroad</td>\n",
       "    </tr>\n",
       "    <tr>\n",
       "      <th>1</th>\n",
       "      <td>11-03-2020</td>\n",
       "      <td>False</td>\n",
       "      <td>True</td>\n",
       "      <td>False</td>\n",
       "      <td>False</td>\n",
       "      <td>False</td>\n",
       "      <td>positive</td>\n",
       "      <td>Unknown</td>\n",
       "      <td>NaN</td>\n",
       "      <td>Abroad</td>\n",
       "    </tr>\n",
       "    <tr>\n",
       "      <th>2</th>\n",
       "      <td>11-03-2020</td>\n",
       "      <td>False</td>\n",
       "      <td>True</td>\n",
       "      <td>False</td>\n",
       "      <td>False</td>\n",
       "      <td>False</td>\n",
       "      <td>positive</td>\n",
       "      <td>Unknown</td>\n",
       "      <td>NaN</td>\n",
       "      <td>Abroad</td>\n",
       "    </tr>\n",
       "    <tr>\n",
       "      <th>3</th>\n",
       "      <td>11-03-2020</td>\n",
       "      <td>True</td>\n",
       "      <td>False</td>\n",
       "      <td>False</td>\n",
       "      <td>False</td>\n",
       "      <td>False</td>\n",
       "      <td>negative</td>\n",
       "      <td>Unknown</td>\n",
       "      <td>NaN</td>\n",
       "      <td>Abroad</td>\n",
       "    </tr>\n",
       "    <tr>\n",
       "      <th>4</th>\n",
       "      <td>11-03-2020</td>\n",
       "      <td>True</td>\n",
       "      <td>False</td>\n",
       "      <td>False</td>\n",
       "      <td>False</td>\n",
       "      <td>False</td>\n",
       "      <td>negative</td>\n",
       "      <td>Unknown</td>\n",
       "      <td>NaN</td>\n",
       "      <td>Contact with confirmed</td>\n",
       "    </tr>\n",
       "    <tr>\n",
       "      <th>...</th>\n",
       "      <td>...</td>\n",
       "      <td>...</td>\n",
       "      <td>...</td>\n",
       "      <td>...</td>\n",
       "      <td>...</td>\n",
       "      <td>...</td>\n",
       "      <td>...</td>\n",
       "      <td>...</td>\n",
       "      <td>...</td>\n",
       "      <td>...</td>\n",
       "    </tr>\n",
       "    <tr>\n",
       "      <th>278396</th>\n",
       "      <td>30-04-2020</td>\n",
       "      <td>False</td>\n",
       "      <td>False</td>\n",
       "      <td>False</td>\n",
       "      <td>False</td>\n",
       "      <td>False</td>\n",
       "      <td>negative</td>\n",
       "      <td>Unknown</td>\n",
       "      <td>NaN</td>\n",
       "      <td>Other</td>\n",
       "    </tr>\n",
       "    <tr>\n",
       "      <th>278398</th>\n",
       "      <td>30-04-2020</td>\n",
       "      <td>False</td>\n",
       "      <td>False</td>\n",
       "      <td>False</td>\n",
       "      <td>False</td>\n",
       "      <td>False</td>\n",
       "      <td>negative</td>\n",
       "      <td>Unknown</td>\n",
       "      <td>NaN</td>\n",
       "      <td>Other</td>\n",
       "    </tr>\n",
       "    <tr>\n",
       "      <th>278536</th>\n",
       "      <td>30-04-2020</td>\n",
       "      <td>False</td>\n",
       "      <td>False</td>\n",
       "      <td>False</td>\n",
       "      <td>False</td>\n",
       "      <td>False</td>\n",
       "      <td>negative</td>\n",
       "      <td>Unknown</td>\n",
       "      <td>NaN</td>\n",
       "      <td>Other</td>\n",
       "    </tr>\n",
       "    <tr>\n",
       "      <th>278836</th>\n",
       "      <td>30-04-2020</td>\n",
       "      <td>False</td>\n",
       "      <td>False</td>\n",
       "      <td>False</td>\n",
       "      <td>False</td>\n",
       "      <td>False</td>\n",
       "      <td>positive</td>\n",
       "      <td>Unknown</td>\n",
       "      <td>NaN</td>\n",
       "      <td>Other</td>\n",
       "    </tr>\n",
       "    <tr>\n",
       "      <th>278842</th>\n",
       "      <td>30-04-2020</td>\n",
       "      <td>False</td>\n",
       "      <td>False</td>\n",
       "      <td>False</td>\n",
       "      <td>False</td>\n",
       "      <td>False</td>\n",
       "      <td>positive</td>\n",
       "      <td>Unknown</td>\n",
       "      <td>NaN</td>\n",
       "      <td>Other</td>\n",
       "    </tr>\n",
       "  </tbody>\n",
       "</table>\n",
       "<p>19552 rows × 10 columns</p>\n",
       "</div>"
      ],
      "text/plain": [
       "         Test_date Cough_symptoms  Fever Sore_throat Shortness_of_breath  \\\n",
       "0       11-03-2020           True  False        True               False   \n",
       "1       11-03-2020          False   True       False               False   \n",
       "2       11-03-2020          False   True       False               False   \n",
       "3       11-03-2020           True  False       False               False   \n",
       "4       11-03-2020           True  False       False               False   \n",
       "...            ...            ...    ...         ...                 ...   \n",
       "278396  30-04-2020          False  False       False               False   \n",
       "278398  30-04-2020          False  False       False               False   \n",
       "278536  30-04-2020          False  False       False               False   \n",
       "278836  30-04-2020          False  False       False               False   \n",
       "278842  30-04-2020          False  False       False               False   \n",
       "\n",
       "       Headache    Corona Age_60_above  Sex           Known_contact  \n",
       "0         False  negative      Unknown  NaN                  Abroad  \n",
       "1         False  positive      Unknown  NaN                  Abroad  \n",
       "2         False  positive      Unknown  NaN                  Abroad  \n",
       "3         False  negative      Unknown  NaN                  Abroad  \n",
       "4         False  negative      Unknown  NaN  Contact with confirmed  \n",
       "...         ...       ...          ...  ...                     ...  \n",
       "278396    False  negative      Unknown  NaN                   Other  \n",
       "278398    False  negative      Unknown  NaN                   Other  \n",
       "278536    False  negative      Unknown  NaN                   Other  \n",
       "278836    False  positive      Unknown  NaN                   Other  \n",
       "278842    False  positive      Unknown  NaN                   Other  \n",
       "\n",
       "[19552 rows x 10 columns]"
      ]
     },
     "execution_count": 25,
     "metadata": {},
     "output_type": "execute_result"
    }
   ],
   "source": [
    "covid[covid[\"Sex\"].isna()]"
   ]
  },
  {
   "cell_type": "markdown",
   "id": "537426c9-dc71-4489-890b-057d4c1e3112",
   "metadata": {},
   "source": [
    "- As we can see 19552 cells in 'Sex' column is missing we cannot drop this cells therefore we replaced it with 'Unknown'."
   ]
  },
  {
   "cell_type": "code",
   "execution_count": 26,
   "id": "daa1b034-55f5-4c12-8189-269ae3af434e",
   "metadata": {
    "tags": []
   },
   "outputs": [
    {
     "data": {
      "text/html": [
       "<div>\n",
       "<style scoped>\n",
       "    .dataframe tbody tr th:only-of-type {\n",
       "        vertical-align: middle;\n",
       "    }\n",
       "\n",
       "    .dataframe tbody tr th {\n",
       "        vertical-align: top;\n",
       "    }\n",
       "\n",
       "    .dataframe thead th {\n",
       "        text-align: right;\n",
       "    }\n",
       "</style>\n",
       "<table border=\"1\" class=\"dataframe\">\n",
       "  <thead>\n",
       "    <tr style=\"text-align: right;\">\n",
       "      <th></th>\n",
       "      <th>Test_date</th>\n",
       "      <th>Cough_symptoms</th>\n",
       "      <th>Fever</th>\n",
       "      <th>Sore_throat</th>\n",
       "      <th>Shortness_of_breath</th>\n",
       "      <th>Headache</th>\n",
       "      <th>Corona</th>\n",
       "      <th>Age_60_above</th>\n",
       "      <th>Sex</th>\n",
       "      <th>Known_contact</th>\n",
       "    </tr>\n",
       "  </thead>\n",
       "  <tbody>\n",
       "    <tr>\n",
       "      <th>0</th>\n",
       "      <td>11-03-2020</td>\n",
       "      <td>True</td>\n",
       "      <td>False</td>\n",
       "      <td>True</td>\n",
       "      <td>False</td>\n",
       "      <td>False</td>\n",
       "      <td>negative</td>\n",
       "      <td>Unknown</td>\n",
       "      <td>Unknown</td>\n",
       "      <td>Abroad</td>\n",
       "    </tr>\n",
       "    <tr>\n",
       "      <th>1</th>\n",
       "      <td>11-03-2020</td>\n",
       "      <td>False</td>\n",
       "      <td>True</td>\n",
       "      <td>False</td>\n",
       "      <td>False</td>\n",
       "      <td>False</td>\n",
       "      <td>positive</td>\n",
       "      <td>Unknown</td>\n",
       "      <td>Unknown</td>\n",
       "      <td>Abroad</td>\n",
       "    </tr>\n",
       "    <tr>\n",
       "      <th>2</th>\n",
       "      <td>11-03-2020</td>\n",
       "      <td>False</td>\n",
       "      <td>True</td>\n",
       "      <td>False</td>\n",
       "      <td>False</td>\n",
       "      <td>False</td>\n",
       "      <td>positive</td>\n",
       "      <td>Unknown</td>\n",
       "      <td>Unknown</td>\n",
       "      <td>Abroad</td>\n",
       "    </tr>\n",
       "    <tr>\n",
       "      <th>3</th>\n",
       "      <td>11-03-2020</td>\n",
       "      <td>True</td>\n",
       "      <td>False</td>\n",
       "      <td>False</td>\n",
       "      <td>False</td>\n",
       "      <td>False</td>\n",
       "      <td>negative</td>\n",
       "      <td>Unknown</td>\n",
       "      <td>Unknown</td>\n",
       "      <td>Abroad</td>\n",
       "    </tr>\n",
       "    <tr>\n",
       "      <th>4</th>\n",
       "      <td>11-03-2020</td>\n",
       "      <td>True</td>\n",
       "      <td>False</td>\n",
       "      <td>False</td>\n",
       "      <td>False</td>\n",
       "      <td>False</td>\n",
       "      <td>negative</td>\n",
       "      <td>Unknown</td>\n",
       "      <td>Unknown</td>\n",
       "      <td>Contact with confirmed</td>\n",
       "    </tr>\n",
       "  </tbody>\n",
       "</table>\n",
       "</div>"
      ],
      "text/plain": [
       "    Test_date Cough_symptoms  Fever Sore_throat Shortness_of_breath Headache  \\\n",
       "0  11-03-2020           True  False        True               False    False   \n",
       "1  11-03-2020          False   True       False               False    False   \n",
       "2  11-03-2020          False   True       False               False    False   \n",
       "3  11-03-2020           True  False       False               False    False   \n",
       "4  11-03-2020           True  False       False               False    False   \n",
       "\n",
       "     Corona Age_60_above      Sex           Known_contact  \n",
       "0  negative      Unknown  Unknown                  Abroad  \n",
       "1  positive      Unknown  Unknown                  Abroad  \n",
       "2  positive      Unknown  Unknown                  Abroad  \n",
       "3  negative      Unknown  Unknown                  Abroad  \n",
       "4  negative      Unknown  Unknown  Contact with confirmed  "
      ]
     },
     "execution_count": 26,
     "metadata": {},
     "output_type": "execute_result"
    }
   ],
   "source": [
    "covid['Sex'] = covid['Sex'].fillna('Unknown')\n",
    "covid.head()"
   ]
  },
  {
   "cell_type": "markdown",
   "id": "4c2b1ca3-81a8-4c21-a7e7-3c0e8177a1bf",
   "metadata": {},
   "source": [
    "### Corona column"
   ]
  },
  {
   "cell_type": "code",
   "execution_count": 27,
   "id": "6f237c7e-c1a2-4007-a99b-4eb55b618cf4",
   "metadata": {
    "tags": []
   },
   "outputs": [
    {
     "data": {
      "text/plain": [
       "Corona\n",
       "negative    260008\n",
       "positive     14694\n",
       "other         3892\n",
       "Name: count, dtype: int64"
      ]
     },
     "execution_count": 27,
     "metadata": {},
     "output_type": "execute_result"
    }
   ],
   "source": [
    "covid['Corona'].value_counts()"
   ]
  },
  {
   "cell_type": "markdown",
   "id": "98d0a159-0c3c-4830-942d-937899eb0144",
   "metadata": {},
   "source": [
    "- We have three values in our Outcome Variable column and they are \"negative\", \"positive\" and \"other\"\n",
    "- As per our business requirement , we need to build a model which can predict whether a person is covid positive or negative.\n",
    "\n",
    "- As the values with \"other\" is less than 1% of total records and we don't need to train our model for \"other\" value. We can drop it."
   ]
  },
  {
   "cell_type": "code",
   "execution_count": 28,
   "id": "eee33f03-4e57-4a7f-ad2c-33c53fbc4a7e",
   "metadata": {
    "tags": []
   },
   "outputs": [
    {
     "data": {
      "text/html": [
       "<div>\n",
       "<style scoped>\n",
       "    .dataframe tbody tr th:only-of-type {\n",
       "        vertical-align: middle;\n",
       "    }\n",
       "\n",
       "    .dataframe tbody tr th {\n",
       "        vertical-align: top;\n",
       "    }\n",
       "\n",
       "    .dataframe thead th {\n",
       "        text-align: right;\n",
       "    }\n",
       "</style>\n",
       "<table border=\"1\" class=\"dataframe\">\n",
       "  <thead>\n",
       "    <tr style=\"text-align: right;\">\n",
       "      <th></th>\n",
       "      <th>Test_date</th>\n",
       "      <th>Cough_symptoms</th>\n",
       "      <th>Fever</th>\n",
       "      <th>Sore_throat</th>\n",
       "      <th>Shortness_of_breath</th>\n",
       "      <th>Headache</th>\n",
       "      <th>Corona</th>\n",
       "      <th>Age_60_above</th>\n",
       "      <th>Sex</th>\n",
       "      <th>Known_contact</th>\n",
       "    </tr>\n",
       "  </thead>\n",
       "  <tbody>\n",
       "    <tr>\n",
       "      <th>0</th>\n",
       "      <td>11-03-2020</td>\n",
       "      <td>True</td>\n",
       "      <td>False</td>\n",
       "      <td>True</td>\n",
       "      <td>False</td>\n",
       "      <td>False</td>\n",
       "      <td>negative</td>\n",
       "      <td>Unknown</td>\n",
       "      <td>Unknown</td>\n",
       "      <td>Abroad</td>\n",
       "    </tr>\n",
       "    <tr>\n",
       "      <th>1</th>\n",
       "      <td>11-03-2020</td>\n",
       "      <td>False</td>\n",
       "      <td>True</td>\n",
       "      <td>False</td>\n",
       "      <td>False</td>\n",
       "      <td>False</td>\n",
       "      <td>positive</td>\n",
       "      <td>Unknown</td>\n",
       "      <td>Unknown</td>\n",
       "      <td>Abroad</td>\n",
       "    </tr>\n",
       "    <tr>\n",
       "      <th>2</th>\n",
       "      <td>11-03-2020</td>\n",
       "      <td>False</td>\n",
       "      <td>True</td>\n",
       "      <td>False</td>\n",
       "      <td>False</td>\n",
       "      <td>False</td>\n",
       "      <td>positive</td>\n",
       "      <td>Unknown</td>\n",
       "      <td>Unknown</td>\n",
       "      <td>Abroad</td>\n",
       "    </tr>\n",
       "    <tr>\n",
       "      <th>3</th>\n",
       "      <td>11-03-2020</td>\n",
       "      <td>True</td>\n",
       "      <td>False</td>\n",
       "      <td>False</td>\n",
       "      <td>False</td>\n",
       "      <td>False</td>\n",
       "      <td>negative</td>\n",
       "      <td>Unknown</td>\n",
       "      <td>Unknown</td>\n",
       "      <td>Abroad</td>\n",
       "    </tr>\n",
       "    <tr>\n",
       "      <th>4</th>\n",
       "      <td>11-03-2020</td>\n",
       "      <td>True</td>\n",
       "      <td>False</td>\n",
       "      <td>False</td>\n",
       "      <td>False</td>\n",
       "      <td>False</td>\n",
       "      <td>negative</td>\n",
       "      <td>Unknown</td>\n",
       "      <td>Unknown</td>\n",
       "      <td>Contact with confirmed</td>\n",
       "    </tr>\n",
       "    <tr>\n",
       "      <th>...</th>\n",
       "      <td>...</td>\n",
       "      <td>...</td>\n",
       "      <td>...</td>\n",
       "      <td>...</td>\n",
       "      <td>...</td>\n",
       "      <td>...</td>\n",
       "      <td>...</td>\n",
       "      <td>...</td>\n",
       "      <td>...</td>\n",
       "      <td>...</td>\n",
       "    </tr>\n",
       "    <tr>\n",
       "      <th>278843</th>\n",
       "      <td>30-04-2020</td>\n",
       "      <td>False</td>\n",
       "      <td>False</td>\n",
       "      <td>False</td>\n",
       "      <td>False</td>\n",
       "      <td>False</td>\n",
       "      <td>positive</td>\n",
       "      <td>Unknown</td>\n",
       "      <td>male</td>\n",
       "      <td>Other</td>\n",
       "    </tr>\n",
       "    <tr>\n",
       "      <th>278844</th>\n",
       "      <td>30-04-2020</td>\n",
       "      <td>False</td>\n",
       "      <td>False</td>\n",
       "      <td>False</td>\n",
       "      <td>False</td>\n",
       "      <td>False</td>\n",
       "      <td>negative</td>\n",
       "      <td>Unknown</td>\n",
       "      <td>female</td>\n",
       "      <td>Other</td>\n",
       "    </tr>\n",
       "    <tr>\n",
       "      <th>278845</th>\n",
       "      <td>30-04-2020</td>\n",
       "      <td>False</td>\n",
       "      <td>False</td>\n",
       "      <td>False</td>\n",
       "      <td>False</td>\n",
       "      <td>False</td>\n",
       "      <td>negative</td>\n",
       "      <td>Unknown</td>\n",
       "      <td>male</td>\n",
       "      <td>Other</td>\n",
       "    </tr>\n",
       "    <tr>\n",
       "      <th>278846</th>\n",
       "      <td>30-04-2020</td>\n",
       "      <td>False</td>\n",
       "      <td>False</td>\n",
       "      <td>False</td>\n",
       "      <td>False</td>\n",
       "      <td>False</td>\n",
       "      <td>negative</td>\n",
       "      <td>Unknown</td>\n",
       "      <td>male</td>\n",
       "      <td>Other</td>\n",
       "    </tr>\n",
       "    <tr>\n",
       "      <th>278847</th>\n",
       "      <td>30-04-2020</td>\n",
       "      <td>False</td>\n",
       "      <td>False</td>\n",
       "      <td>False</td>\n",
       "      <td>False</td>\n",
       "      <td>False</td>\n",
       "      <td>negative</td>\n",
       "      <td>Unknown</td>\n",
       "      <td>female</td>\n",
       "      <td>Other</td>\n",
       "    </tr>\n",
       "  </tbody>\n",
       "</table>\n",
       "<p>274702 rows × 10 columns</p>\n",
       "</div>"
      ],
      "text/plain": [
       "         Test_date Cough_symptoms  Fever Sore_throat Shortness_of_breath  \\\n",
       "0       11-03-2020           True  False        True               False   \n",
       "1       11-03-2020          False   True       False               False   \n",
       "2       11-03-2020          False   True       False               False   \n",
       "3       11-03-2020           True  False       False               False   \n",
       "4       11-03-2020           True  False       False               False   \n",
       "...            ...            ...    ...         ...                 ...   \n",
       "278843  30-04-2020          False  False       False               False   \n",
       "278844  30-04-2020          False  False       False               False   \n",
       "278845  30-04-2020          False  False       False               False   \n",
       "278846  30-04-2020          False  False       False               False   \n",
       "278847  30-04-2020          False  False       False               False   \n",
       "\n",
       "       Headache    Corona Age_60_above      Sex           Known_contact  \n",
       "0         False  negative      Unknown  Unknown                  Abroad  \n",
       "1         False  positive      Unknown  Unknown                  Abroad  \n",
       "2         False  positive      Unknown  Unknown                  Abroad  \n",
       "3         False  negative      Unknown  Unknown                  Abroad  \n",
       "4         False  negative      Unknown  Unknown  Contact with confirmed  \n",
       "...         ...       ...          ...      ...                     ...  \n",
       "278843    False  positive      Unknown     male                   Other  \n",
       "278844    False  negative      Unknown   female                   Other  \n",
       "278845    False  negative      Unknown     male                   Other  \n",
       "278846    False  negative      Unknown     male                   Other  \n",
       "278847    False  negative      Unknown   female                   Other  \n",
       "\n",
       "[274702 rows x 10 columns]"
      ]
     },
     "execution_count": 28,
     "metadata": {},
     "output_type": "execute_result"
    }
   ],
   "source": [
    "# Dropping other values in corona column.\n",
    "covid = covid[covid.Corona != \"other\"]\n",
    "covid"
   ]
  },
  {
   "cell_type": "code",
   "execution_count": 29,
   "id": "4fdd23de-2918-4d2e-afee-1ad9c81a0c06",
   "metadata": {
    "tags": []
   },
   "outputs": [
    {
     "data": {
      "text/plain": [
       "Corona\n",
       "negative    260008\n",
       "positive     14694\n",
       "Name: count, dtype: int64"
      ]
     },
     "execution_count": 29,
     "metadata": {},
     "output_type": "execute_result"
    }
   ],
   "source": [
    "covid['Corona'].value_counts()"
   ]
  },
  {
   "cell_type": "markdown",
   "id": "11d066b1-c789-4ee8-95d1-d786f14c6f6a",
   "metadata": {},
   "source": [
    "## all the missing values are handled."
   ]
  },
  {
   "cell_type": "code",
   "execution_count": 30,
   "id": "e07f3e5e-95bf-4300-91ab-9150ae5b8dea",
   "metadata": {
    "tags": []
   },
   "outputs": [
    {
     "data": {
      "text/plain": [
       "Test_date              0\n",
       "Cough_symptoms         0\n",
       "Fever                  0\n",
       "Sore_throat            0\n",
       "Shortness_of_breath    0\n",
       "Headache               0\n",
       "Corona                 0\n",
       "Age_60_above           0\n",
       "Sex                    0\n",
       "Known_contact          0\n",
       "dtype: int64"
      ]
     },
     "execution_count": 30,
     "metadata": {},
     "output_type": "execute_result"
    }
   ],
   "source": [
    "covid.isnull().sum()"
   ]
  },
  {
   "cell_type": "markdown",
   "id": "9dae4a70-dd35-4838-9a22-403f2fa7463a",
   "metadata": {},
   "source": [
    "## Insight:"
   ]
  },
  {
   "cell_type": "markdown",
   "id": "998dcf0d-c56d-4476-9de5-2383f00e446a",
   "metadata": {},
   "source": [
    "#### After Data Cleaning, we are now left with 2,74,702 Records, in which 2,60,008 patients are \"corona negative\" and 14,694 are \"corona positive\" "
   ]
  },
  {
   "cell_type": "markdown",
   "id": "1ed465ca-c4bc-4deb-b59a-7743224fc314",
   "metadata": {},
   "source": [
    "- ## Data Visualization"
   ]
  },
  {
   "cell_type": "code",
   "execution_count": 31,
   "id": "090fe9d7-88c9-4385-bc05-1a4b4e58164a",
   "metadata": {},
   "outputs": [
    {
     "data": {
      "image/png": "[encoded data removed]",
      "text/plain": [
       "<Figure size 500x400 with 1 Axes>"
      ]
     },
     "metadata": {},
     "output_type": "display_data"
    }
   ],
   "source": [
    "# checking the imbalance using countplot\n",
    "plt.figure(figsize = [5,4])\n",
    "sns.countplot(data=covid, x='Corona')\n",
    "plt.title(\"Checking imbalance ratio of Corona variable\")\n",
    "plt.show()"
   ]
  },
  {
   "cell_type": "markdown",
   "id": "e2f7586a-7207-4233-baf9-bb5098bede78",
   "metadata": {},
   "source": [
    "#### Insight: \n",
    "From above we can see that above two classes are highly inbalanced."
   ]
  },
  {
   "cell_type": "code",
   "execution_count": 32,
   "id": "ee8cf3e2-9f1f-42a5-8ced-81ac84c314c3",
   "metadata": {
    "tags": []
   },
   "outputs": [
    {
     "data": {
      "text/plain": [
       "17.694841431876956"
      ]
     },
     "execution_count": 32,
     "metadata": {},
     "output_type": "execute_result"
    }
   ],
   "source": [
    "# checking exact Corona Positive to Corona negative ratio\n",
    "covid[covid.Corona=='negative'].shape[0]/covid[covid.Corona=='positive'].shape[0]"
   ]
  },
  {
   "cell_type": "markdown",
   "id": "462e725b-560f-4013-b895-8f74dedf5020",
   "metadata": {},
   "source": [
    "#### Insight:\n",
    "From above we can say that  1 in every 17-18 patients is corona positive."
   ]
  },
  {
   "cell_type": "code",
   "execution_count": 33,
   "id": "aa3f3d7b-6ea8-429e-b399-dc7539608d70",
   "metadata": {
    "tags": []
   },
   "outputs": [
    {
     "data": {
      "image/png": "[encoded data removed]",
      "text/plain": [
       "<Figure size 640x480 with 1 Axes>"
      ]
     },
     "metadata": {},
     "output_type": "display_data"
    }
   ],
   "source": [
    "# percentage of corona patients.\n",
    "plt.pie(covid['Corona'].value_counts(),labels = ['negative','positive'],autopct = \"%0.2f\")\n",
    "plt.show()"
   ]
  },
  {
   "cell_type": "markdown",
   "id": "da134f91-8d57-4c2d-89e3-110d1496092f",
   "metadata": {},
   "source": [
    "#### Insight:\n",
    "Our data is highly Imbalanced as 94.65% are covid negative and only 5.35% are covid positive."
   ]
  },
  {
   "cell_type": "code",
   "execution_count": 34,
   "id": "4238f15d-a5dc-4269-b0c5-3747f109d8d7",
   "metadata": {
    "tags": []
   },
   "outputs": [
    {
     "data": {
      "image/png": "[encoded data removed]",
      "text/plain": [
       "<Figure size 400x300 with 1 Axes>"
      ]
     },
     "metadata": {},
     "output_type": "display_data"
    }
   ],
   "source": [
    "#univatiate analysis\n",
    "\n",
    "plt.figure(figsize=(4,3))\n",
    "sns.countplot(x='Cough_symptoms',hue='Corona',data=covid,width=0.4)\n",
    "plt.show()"
   ]
  },
  {
   "cell_type": "markdown",
   "id": "c4545b2a-810b-429e-838d-953c25e3dcf3",
   "metadata": {},
   "source": [
    "##### Insight:\n",
    "There are signficant amount of patinet who have cough symptoms but are corona negative."
   ]
  },
  {
   "cell_type": "code",
   "execution_count": 35,
   "id": "6641b1bf-486f-4e54-b8c0-5ec401d82d51",
   "metadata": {
    "tags": []
   },
   "outputs": [
    {
     "data": {
      "image/png": "[encoded data removed]",
      "text/plain": [
       "<Figure size 400x300 with 1 Axes>"
      ]
     },
     "metadata": {},
     "output_type": "display_data"
    }
   ],
   "source": [
    "plt.figure(figsize=(4,3))\n",
    "sns.countplot(x='Fever',hue='Corona',data=covid,width=0.4)\n",
    "plt.show()"
   ]
  },
  {
   "cell_type": "markdown",
   "id": "11a7cecc-6330-4269-b0c8-c08704bc72ab",
   "metadata": {},
   "source": [
    "#### Insight:\n",
    "There are significant number of patinet who dont have fever but are corona positive."
   ]
  },
  {
   "cell_type": "code",
   "execution_count": 36,
   "id": "5c5377fa-3a1d-4af3-a02f-cc18fec9472c",
   "metadata": {
    "tags": []
   },
   "outputs": [
    {
     "data": {
      "image/png": "[encoded data removed]",
      "text/plain": [
       "<Figure size 400x300 with 1 Axes>"
      ]
     },
     "metadata": {},
     "output_type": "display_data"
    }
   ],
   "source": [
    "plt.figure(figsize=(4,3))\n",
    "sns.countplot(x='Sore_throat',hue='Corona',data=covid,width=0.4)\n",
    "plt.show()"
   ]
  },
  {
   "cell_type": "markdown",
   "id": "bdf45c6b-71b8-493a-b215-83475b1d8d08",
   "metadata": {},
   "source": [
    "#### Insight:\n",
    "There are significant number of patients not having sore throat but are corona positive."
   ]
  },
  {
   "cell_type": "code",
   "execution_count": 37,
   "id": "bac2d990-8d8c-4f33-889c-6460de6145f2",
   "metadata": {
    "tags": []
   },
   "outputs": [
    {
     "data": {
      "image/png": "[encoded data removed]",
      "text/plain": [
       "<Figure size 400x300 with 1 Axes>"
      ]
     },
     "metadata": {},
     "output_type": "display_data"
    }
   ],
   "source": [
    "plt.figure(figsize=(4,3))\n",
    "sns.countplot(x='Shortness_of_breath',hue='Corona',data=covid,width=0.4)\n",
    "plt.show()"
   ]
  },
  {
   "cell_type": "markdown",
   "id": "e83d6bca-0bda-497e-813c-b0dd9445803b",
   "metadata": {},
   "source": [
    "#### Insight:\n",
    "There are significant number of patients not having shortness of breath but are corona positive."
   ]
  },
  {
   "cell_type": "code",
   "execution_count": 38,
   "id": "43cbf8da-cdc5-4a0e-bf38-ae9bcac6343d",
   "metadata": {
    "tags": []
   },
   "outputs": [
    {
     "data": {
      "image/png": "[encoded data removed]",
      "text/plain": [
       "<Figure size 400x300 with 1 Axes>"
      ]
     },
     "metadata": {},
     "output_type": "display_data"
    }
   ],
   "source": [
    "plt.figure(figsize=(4,3))\n",
    "sns.countplot(x='Headache',hue='Corona',data=covid,width=0.4)\n",
    "plt.show()"
   ]
  },
  {
   "cell_type": "markdown",
   "id": "7ea153d8-aff1-4fd4-83d2-aa376b293189",
   "metadata": {},
   "source": [
    "#### Insight:\n",
    "There are significant amount of patients who dont have headache but are corona positive."
   ]
  },
  {
   "cell_type": "code",
   "execution_count": 39,
   "id": "f99fe935-f4fa-4edb-9173-d2e51047f829",
   "metadata": {
    "tags": []
   },
   "outputs": [
    {
     "data": {
      "image/png": "[encoded data removed]",
      "text/plain": [
       "<Figure size 400x300 with 1 Axes>"
      ]
     },
     "metadata": {},
     "output_type": "display_data"
    }
   ],
   "source": [
    "plt.figure(figsize=(4,3))\n",
    "sns.countplot(x='Sex',hue='Corona',data=covid,width=0.4)\n",
    "plt.show()"
   ]
  },
  {
   "cell_type": "markdown",
   "id": "4df1cfe3-4bc1-47d0-bb4e-870b8412d877",
   "metadata": {},
   "source": [
    "#### Insight:\n",
    "from above plot we can see that their is slightly difference between number of corona positive male and female. "
   ]
  },
  {
   "cell_type": "code",
   "execution_count": 40,
   "id": "579c44c1-606f-4e9c-a2f2-6cda86629c1a",
   "metadata": {
    "tags": []
   },
   "outputs": [
    {
     "data": {
      "image/png": "[encoded data removed]",
      "text/plain": [
       "<Figure size 600x400 with 1 Axes>"
      ]
     },
     "metadata": {},
     "output_type": "display_data"
    }
   ],
   "source": [
    "plt.figure(figsize=(6,4))\n",
    "sns.countplot(x='Known_contact',hue='Corona',data=covid,width=0.4)\n",
    "plt.show()"
   ]
  },
  {
   "cell_type": "markdown",
   "id": "2e77bfb3-e2c4-47f0-a3c2-b5bbdf629269",
   "metadata": {},
   "source": [
    "#### Insight:\n",
    "There are significant amount of Corona Positive Patients have been in contact with other positive patients."
   ]
  },
  {
   "cell_type": "code",
   "execution_count": 41,
   "id": "d943011a-f855-49ea-be89-ea873de8c973",
   "metadata": {
    "tags": []
   },
   "outputs": [
    {
     "data": {
      "text/html": [
       "<div>\n",
       "<style scoped>\n",
       "    .dataframe tbody tr th:only-of-type {\n",
       "        vertical-align: middle;\n",
       "    }\n",
       "\n",
       "    .dataframe tbody tr th {\n",
       "        vertical-align: top;\n",
       "    }\n",
       "\n",
       "    .dataframe thead th {\n",
       "        text-align: right;\n",
       "    }\n",
       "</style>\n",
       "<table border=\"1\" class=\"dataframe\">\n",
       "  <thead>\n",
       "    <tr style=\"text-align: right;\">\n",
       "      <th></th>\n",
       "      <th>Test_date</th>\n",
       "      <th>Cough_symptoms</th>\n",
       "      <th>Fever</th>\n",
       "      <th>Sore_throat</th>\n",
       "      <th>Shortness_of_breath</th>\n",
       "      <th>Headache</th>\n",
       "      <th>Corona</th>\n",
       "      <th>Age_60_above</th>\n",
       "      <th>Sex</th>\n",
       "      <th>Known_contact</th>\n",
       "    </tr>\n",
       "  </thead>\n",
       "  <tbody>\n",
       "    <tr>\n",
       "      <th>0</th>\n",
       "      <td>11-03-2020</td>\n",
       "      <td>True</td>\n",
       "      <td>False</td>\n",
       "      <td>True</td>\n",
       "      <td>False</td>\n",
       "      <td>False</td>\n",
       "      <td>negative</td>\n",
       "      <td>Unknown</td>\n",
       "      <td>Unknown</td>\n",
       "      <td>Abroad</td>\n",
       "    </tr>\n",
       "    <tr>\n",
       "      <th>1</th>\n",
       "      <td>11-03-2020</td>\n",
       "      <td>False</td>\n",
       "      <td>True</td>\n",
       "      <td>False</td>\n",
       "      <td>False</td>\n",
       "      <td>False</td>\n",
       "      <td>positive</td>\n",
       "      <td>Unknown</td>\n",
       "      <td>Unknown</td>\n",
       "      <td>Abroad</td>\n",
       "    </tr>\n",
       "    <tr>\n",
       "      <th>2</th>\n",
       "      <td>11-03-2020</td>\n",
       "      <td>False</td>\n",
       "      <td>True</td>\n",
       "      <td>False</td>\n",
       "      <td>False</td>\n",
       "      <td>False</td>\n",
       "      <td>positive</td>\n",
       "      <td>Unknown</td>\n",
       "      <td>Unknown</td>\n",
       "      <td>Abroad</td>\n",
       "    </tr>\n",
       "    <tr>\n",
       "      <th>3</th>\n",
       "      <td>11-03-2020</td>\n",
       "      <td>True</td>\n",
       "      <td>False</td>\n",
       "      <td>False</td>\n",
       "      <td>False</td>\n",
       "      <td>False</td>\n",
       "      <td>negative</td>\n",
       "      <td>Unknown</td>\n",
       "      <td>Unknown</td>\n",
       "      <td>Abroad</td>\n",
       "    </tr>\n",
       "    <tr>\n",
       "      <th>4</th>\n",
       "      <td>11-03-2020</td>\n",
       "      <td>True</td>\n",
       "      <td>False</td>\n",
       "      <td>False</td>\n",
       "      <td>False</td>\n",
       "      <td>False</td>\n",
       "      <td>negative</td>\n",
       "      <td>Unknown</td>\n",
       "      <td>Unknown</td>\n",
       "      <td>Contact with confirmed</td>\n",
       "    </tr>\n",
       "    <tr>\n",
       "      <th>...</th>\n",
       "      <td>...</td>\n",
       "      <td>...</td>\n",
       "      <td>...</td>\n",
       "      <td>...</td>\n",
       "      <td>...</td>\n",
       "      <td>...</td>\n",
       "      <td>...</td>\n",
       "      <td>...</td>\n",
       "      <td>...</td>\n",
       "      <td>...</td>\n",
       "    </tr>\n",
       "    <tr>\n",
       "      <th>274697</th>\n",
       "      <td>30-04-2020</td>\n",
       "      <td>False</td>\n",
       "      <td>False</td>\n",
       "      <td>False</td>\n",
       "      <td>False</td>\n",
       "      <td>False</td>\n",
       "      <td>positive</td>\n",
       "      <td>Unknown</td>\n",
       "      <td>male</td>\n",
       "      <td>Other</td>\n",
       "    </tr>\n",
       "    <tr>\n",
       "      <th>274698</th>\n",
       "      <td>30-04-2020</td>\n",
       "      <td>False</td>\n",
       "      <td>False</td>\n",
       "      <td>False</td>\n",
       "      <td>False</td>\n",
       "      <td>False</td>\n",
       "      <td>negative</td>\n",
       "      <td>Unknown</td>\n",
       "      <td>female</td>\n",
       "      <td>Other</td>\n",
       "    </tr>\n",
       "    <tr>\n",
       "      <th>274699</th>\n",
       "      <td>30-04-2020</td>\n",
       "      <td>False</td>\n",
       "      <td>False</td>\n",
       "      <td>False</td>\n",
       "      <td>False</td>\n",
       "      <td>False</td>\n",
       "      <td>negative</td>\n",
       "      <td>Unknown</td>\n",
       "      <td>male</td>\n",
       "      <td>Other</td>\n",
       "    </tr>\n",
       "    <tr>\n",
       "      <th>274700</th>\n",
       "      <td>30-04-2020</td>\n",
       "      <td>False</td>\n",
       "      <td>False</td>\n",
       "      <td>False</td>\n",
       "      <td>False</td>\n",
       "      <td>False</td>\n",
       "      <td>negative</td>\n",
       "      <td>Unknown</td>\n",
       "      <td>male</td>\n",
       "      <td>Other</td>\n",
       "    </tr>\n",
       "    <tr>\n",
       "      <th>274701</th>\n",
       "      <td>30-04-2020</td>\n",
       "      <td>False</td>\n",
       "      <td>False</td>\n",
       "      <td>False</td>\n",
       "      <td>False</td>\n",
       "      <td>False</td>\n",
       "      <td>negative</td>\n",
       "      <td>Unknown</td>\n",
       "      <td>female</td>\n",
       "      <td>Other</td>\n",
       "    </tr>\n",
       "  </tbody>\n",
       "</table>\n",
       "<p>274702 rows × 10 columns</p>\n",
       "</div>"
      ],
      "text/plain": [
       "         Test_date  Cough_symptoms  Fever  Sore_throat  Shortness_of_breath  \\\n",
       "0       11-03-2020            True  False         True                False   \n",
       "1       11-03-2020           False   True        False                False   \n",
       "2       11-03-2020           False   True        False                False   \n",
       "3       11-03-2020            True  False        False                False   \n",
       "4       11-03-2020            True  False        False                False   \n",
       "...            ...             ...    ...          ...                  ...   \n",
       "274697  30-04-2020           False  False        False                False   \n",
       "274698  30-04-2020           False  False        False                False   \n",
       "274699  30-04-2020           False  False        False                False   \n",
       "274700  30-04-2020           False  False        False                False   \n",
       "274701  30-04-2020           False  False        False                False   \n",
       "\n",
       "        Headache    Corona Age_60_above      Sex           Known_contact  \n",
       "0          False  negative      Unknown  Unknown                  Abroad  \n",
       "1          False  positive      Unknown  Unknown                  Abroad  \n",
       "2          False  positive      Unknown  Unknown                  Abroad  \n",
       "3          False  negative      Unknown  Unknown                  Abroad  \n",
       "4          False  negative      Unknown  Unknown  Contact with confirmed  \n",
       "...          ...       ...          ...      ...                     ...  \n",
       "274697     False  positive      Unknown     male                   Other  \n",
       "274698     False  negative      Unknown   female                   Other  \n",
       "274699     False  negative      Unknown     male                   Other  \n",
       "274700     False  negative      Unknown     male                   Other  \n",
       "274701     False  negative      Unknown   female                   Other  \n",
       "\n",
       "[274702 rows x 10 columns]"
      ]
     },
     "execution_count": 41,
     "metadata": {},
     "output_type": "execute_result"
    }
   ],
   "source": [
    "# save clean dataset\n",
    "covid.to_csv(\"cleaned_data.csv\",index = False)\n",
    "pd.read_csv('cleaned_data.csv')"
   ]
  },
  {
   "cell_type": "markdown",
   "id": "7be3271f-33ff-4e8b-b578-ecedca81f787",
   "metadata": {},
   "source": [
    "- ## Feature Engineering"
   ]
  },
  {
   "cell_type": "code",
   "execution_count": 42,
   "id": "bde03802-fcf5-42d2-8846-9a812cf4bdfa",
   "metadata": {
    "tags": []
   },
   "outputs": [],
   "source": [
    "# convert all categorical column into numerical column\n",
    "from sklearn.preprocessing import LabelEncoder\n",
    "\n",
    "covid[['Cough_symptoms','Fever','Sore_throat','Shortness_of_breath','Headache','Corona','Age_60_above', 'Sex' , 'Known_contact']] = covid[['Cough_symptoms','Fever','Sore_throat','Shortness_of_breath','Headache','Corona','Age_60_above', 'Sex' , 'Known_contact']].apply(LabelEncoder().fit_transform)"
   ]
  },
  {
   "cell_type": "code",
   "execution_count": 43,
   "id": "f061e78b-2431-48e3-a5e9-1b7fe7967dc9",
   "metadata": {
    "tags": []
   },
   "outputs": [
    {
     "data": {
      "text/html": [
       "<div>\n",
       "<style scoped>\n",
       "    .dataframe tbody tr th:only-of-type {\n",
       "        vertical-align: middle;\n",
       "    }\n",
       "\n",
       "    .dataframe tbody tr th {\n",
       "        vertical-align: top;\n",
       "    }\n",
       "\n",
       "    .dataframe thead th {\n",
       "        text-align: right;\n",
       "    }\n",
       "</style>\n",
       "<table border=\"1\" class=\"dataframe\">\n",
       "  <thead>\n",
       "    <tr style=\"text-align: right;\">\n",
       "      <th></th>\n",
       "      <th>Test_date</th>\n",
       "      <th>Cough_symptoms</th>\n",
       "      <th>Fever</th>\n",
       "      <th>Sore_throat</th>\n",
       "      <th>Shortness_of_breath</th>\n",
       "      <th>Headache</th>\n",
       "      <th>Corona</th>\n",
       "      <th>Age_60_above</th>\n",
       "      <th>Sex</th>\n",
       "      <th>Known_contact</th>\n",
       "    </tr>\n",
       "  </thead>\n",
       "  <tbody>\n",
       "    <tr>\n",
       "      <th>0</th>\n",
       "      <td>11-03-2020</td>\n",
       "      <td>1</td>\n",
       "      <td>0</td>\n",
       "      <td>1</td>\n",
       "      <td>0</td>\n",
       "      <td>0</td>\n",
       "      <td>0</td>\n",
       "      <td>1</td>\n",
       "      <td>0</td>\n",
       "      <td>0</td>\n",
       "    </tr>\n",
       "    <tr>\n",
       "      <th>1</th>\n",
       "      <td>11-03-2020</td>\n",
       "      <td>0</td>\n",
       "      <td>1</td>\n",
       "      <td>0</td>\n",
       "      <td>0</td>\n",
       "      <td>0</td>\n",
       "      <td>1</td>\n",
       "      <td>1</td>\n",
       "      <td>0</td>\n",
       "      <td>0</td>\n",
       "    </tr>\n",
       "    <tr>\n",
       "      <th>2</th>\n",
       "      <td>11-03-2020</td>\n",
       "      <td>0</td>\n",
       "      <td>1</td>\n",
       "      <td>0</td>\n",
       "      <td>0</td>\n",
       "      <td>0</td>\n",
       "      <td>1</td>\n",
       "      <td>1</td>\n",
       "      <td>0</td>\n",
       "      <td>0</td>\n",
       "    </tr>\n",
       "    <tr>\n",
       "      <th>3</th>\n",
       "      <td>11-03-2020</td>\n",
       "      <td>1</td>\n",
       "      <td>0</td>\n",
       "      <td>0</td>\n",
       "      <td>0</td>\n",
       "      <td>0</td>\n",
       "      <td>0</td>\n",
       "      <td>1</td>\n",
       "      <td>0</td>\n",
       "      <td>0</td>\n",
       "    </tr>\n",
       "    <tr>\n",
       "      <th>4</th>\n",
       "      <td>11-03-2020</td>\n",
       "      <td>1</td>\n",
       "      <td>0</td>\n",
       "      <td>0</td>\n",
       "      <td>0</td>\n",
       "      <td>0</td>\n",
       "      <td>0</td>\n",
       "      <td>1</td>\n",
       "      <td>0</td>\n",
       "      <td>1</td>\n",
       "    </tr>\n",
       "    <tr>\n",
       "      <th>...</th>\n",
       "      <td>...</td>\n",
       "      <td>...</td>\n",
       "      <td>...</td>\n",
       "      <td>...</td>\n",
       "      <td>...</td>\n",
       "      <td>...</td>\n",
       "      <td>...</td>\n",
       "      <td>...</td>\n",
       "      <td>...</td>\n",
       "      <td>...</td>\n",
       "    </tr>\n",
       "    <tr>\n",
       "      <th>278843</th>\n",
       "      <td>30-04-2020</td>\n",
       "      <td>0</td>\n",
       "      <td>0</td>\n",
       "      <td>0</td>\n",
       "      <td>0</td>\n",
       "      <td>0</td>\n",
       "      <td>1</td>\n",
       "      <td>1</td>\n",
       "      <td>2</td>\n",
       "      <td>2</td>\n",
       "    </tr>\n",
       "    <tr>\n",
       "      <th>278844</th>\n",
       "      <td>30-04-2020</td>\n",
       "      <td>0</td>\n",
       "      <td>0</td>\n",
       "      <td>0</td>\n",
       "      <td>0</td>\n",
       "      <td>0</td>\n",
       "      <td>0</td>\n",
       "      <td>1</td>\n",
       "      <td>1</td>\n",
       "      <td>2</td>\n",
       "    </tr>\n",
       "    <tr>\n",
       "      <th>278845</th>\n",
       "      <td>30-04-2020</td>\n",
       "      <td>0</td>\n",
       "      <td>0</td>\n",
       "      <td>0</td>\n",
       "      <td>0</td>\n",
       "      <td>0</td>\n",
       "      <td>0</td>\n",
       "      <td>1</td>\n",
       "      <td>2</td>\n",
       "      <td>2</td>\n",
       "    </tr>\n",
       "    <tr>\n",
       "      <th>278846</th>\n",
       "      <td>30-04-2020</td>\n",
       "      <td>0</td>\n",
       "      <td>0</td>\n",
       "      <td>0</td>\n",
       "      <td>0</td>\n",
       "      <td>0</td>\n",
       "      <td>0</td>\n",
       "      <td>1</td>\n",
       "      <td>2</td>\n",
       "      <td>2</td>\n",
       "    </tr>\n",
       "    <tr>\n",
       "      <th>278847</th>\n",
       "      <td>30-04-2020</td>\n",
       "      <td>0</td>\n",
       "      <td>0</td>\n",
       "      <td>0</td>\n",
       "      <td>0</td>\n",
       "      <td>0</td>\n",
       "      <td>0</td>\n",
       "      <td>1</td>\n",
       "      <td>1</td>\n",
       "      <td>2</td>\n",
       "    </tr>\n",
       "  </tbody>\n",
       "</table>\n",
       "<p>274702 rows × 10 columns</p>\n",
       "</div>"
      ],
      "text/plain": [
       "         Test_date  Cough_symptoms  Fever  Sore_throat  Shortness_of_breath  \\\n",
       "0       11-03-2020               1      0            1                    0   \n",
       "1       11-03-2020               0      1            0                    0   \n",
       "2       11-03-2020               0      1            0                    0   \n",
       "3       11-03-2020               1      0            0                    0   \n",
       "4       11-03-2020               1      0            0                    0   \n",
       "...            ...             ...    ...          ...                  ...   \n",
       "278843  30-04-2020               0      0            0                    0   \n",
       "278844  30-04-2020               0      0            0                    0   \n",
       "278845  30-04-2020               0      0            0                    0   \n",
       "278846  30-04-2020               0      0            0                    0   \n",
       "278847  30-04-2020               0      0            0                    0   \n",
       "\n",
       "        Headache  Corona  Age_60_above  Sex  Known_contact  \n",
       "0              0       0             1    0              0  \n",
       "1              0       1             1    0              0  \n",
       "2              0       1             1    0              0  \n",
       "3              0       0             1    0              0  \n",
       "4              0       0             1    0              1  \n",
       "...          ...     ...           ...  ...            ...  \n",
       "278843         0       1             1    2              2  \n",
       "278844         0       0             1    1              2  \n",
       "278845         0       0             1    2              2  \n",
       "278846         0       0             1    2              2  \n",
       "278847         0       0             1    1              2  \n",
       "\n",
       "[274702 rows x 10 columns]"
      ]
     },
     "execution_count": 43,
     "metadata": {},
     "output_type": "execute_result"
    }
   ],
   "source": [
    "covid"
   ]
  },
  {
   "cell_type": "code",
   "execution_count": 44,
   "id": "2a22c1b6-a449-4f95-8166-15500edd8eb5",
   "metadata": {},
   "outputs": [],
   "source": [
    "# 'Cough_symptoms' (TRUE = 1 , FALSE = 0)\n",
    "# 'FEVER' (TRUE = 1 , FALSE = 0)\n",
    "# 'Sore_throat' (TRUE = 1 , FALSE = 0)\n",
    "# 'Shortness_of_breath' (TRUE = 1 , FALSE = 0)\n",
    "# 'Headache' (TRUE = 1 , FALSE = 0)\n",
    "# Corona (Positive =1 , Negative = 0)\n",
    "# Age_60_above (No=0 , Unknown = 1 , Yes = 2)\n",
    "# Sex (Unknown=0, Female=1, Male=2)\n",
    "# Known_contact (Abroad=0, Contact with confirmed = 1, other = 2)"
   ]
  },
  {
   "cell_type": "markdown",
   "id": "b3d930ac-c338-49db-9372-d8918fdba7af",
   "metadata": {},
   "source": [
    "- ## Examining Multicollinearity using VIF"
   ]
  },
  {
   "cell_type": "code",
   "execution_count": 45,
   "id": "b5eae666-56e4-4400-807c-6362663021c0",
   "metadata": {
    "tags": []
   },
   "outputs": [
    {
     "name": "stdout",
     "output_type": "stream",
     "text": [
      "              features       VIF\n",
      "0       Cough_symptoms  1.553829\n",
      "1                Fever  1.400507\n",
      "2          Sore_throat  1.154474\n",
      "3  Shortness_of_breath  1.080408\n",
      "4             Headache  1.172620\n",
      "5         Age_60_above  1.955016\n",
      "6                  Sex  4.800908\n",
      "7        Known_contact  4.805530\n"
     ]
    }
   ],
   "source": [
    "# First Import variance_inflation_factor (VIF) from statsmodels\n",
    "from statsmodels.stats.outliers_influence import variance_inflation_factor\n",
    "\n",
    "data = covid[['Cough_symptoms','Fever','Sore_throat','Shortness_of_breath','Headache','Age_60_above','Sex','Known_contact']]\n",
    "\n",
    "# VIF dataframe\n",
    "vif_data = pd.DataFrame()\n",
    "vif_data['features'] = data.columns\n",
    "\n",
    "# calculating VIF for each feature\n",
    "\n",
    "vif_data['VIF'] = [variance_inflation_factor(data.values,i) for i in range(len(data.columns))]\n",
    "print(vif_data)"
   ]
  },
  {
   "cell_type": "markdown",
   "id": "8e4f40ae-83dd-4ad9-9596-ef60b91a60a1",
   "metadata": {},
   "source": [
    "### Insight:\n",
    "- The default VIF cutoff value is 5, only variables with a VIF less than 5 will be included in the model.\n",
    "- VIF <= 5 is considered as considerable collinearity\n",
    "\n",
    "- All the VIF value is less than 5. We can go with all the features"
   ]
  },
  {
   "cell_type": "markdown",
   "id": "9511277e-9592-45cc-91d5-54f580d9f9d8",
   "metadata": {},
   "source": [
    "- ## Train/Test Split Based on Date"
   ]
  },
  {
   "cell_type": "markdown",
   "id": "25973aa5-f5fe-4a12-a712-68f1c3994e0e",
   "metadata": {},
   "source": [
    "As per our business requirement, I am taking 11 March 2020 to 15 April 2020 as Training and validation set and 16 April 2020 to 30 April 2020 as Test Set."
   ]
  },
  {
   "cell_type": "code",
   "execution_count": 46,
   "id": "6ea97d36-078c-42a0-9098-f7fb8b23e747",
   "metadata": {},
   "outputs": [],
   "source": [
    "#changing the datatype of Test_date from object to Datetime\n",
    "covid['Test_date'] = pd.to_datetime(covid['Test_date'],format = '%d-%m-%Y')"
   ]
  },
  {
   "cell_type": "code",
   "execution_count": 47,
   "id": "2f11097d-30ab-4210-a718-35fdbde763a7",
   "metadata": {
    "tags": []
   },
   "outputs": [
    {
     "name": "stdout",
     "output_type": "stream",
     "text": [
      "<class 'pandas.core.frame.DataFrame'>\n",
      "Index: 274702 entries, 0 to 278847\n",
      "Data columns (total 10 columns):\n",
      " #   Column               Non-Null Count   Dtype         \n",
      "---  ------               --------------   -----         \n",
      " 0   Test_date            274702 non-null  datetime64[ns]\n",
      " 1   Cough_symptoms       274702 non-null  int32         \n",
      " 2   Fever                274702 non-null  int32         \n",
      " 3   Sore_throat          274702 non-null  int32         \n",
      " 4   Shortness_of_breath  274702 non-null  int32         \n",
      " 5   Headache             274702 non-null  int32         \n",
      " 6   Corona               274702 non-null  int32         \n",
      " 7   Age_60_above         274702 non-null  int32         \n",
      " 8   Sex                  274702 non-null  int32         \n",
      " 9   Known_contact        274702 non-null  int32         \n",
      "dtypes: datetime64[ns](1), int32(9)\n",
      "memory usage: 13.6 MB\n"
     ]
    }
   ],
   "source": [
    "covid.info()"
   ]
  },
  {
   "cell_type": "code",
   "execution_count": 48,
   "id": "364188d0-eae7-458a-b797-fd601d57b928",
   "metadata": {
    "tags": []
   },
   "outputs": [],
   "source": [
    "# Breaking the data according to the date\n",
    "\n",
    "break_date = pd.Timestamp('2020-04-15')\n",
    "df_train = covid[covid['Test_date']<= break_date]\n",
    "df_test = covid[covid['Test_date']> break_date]"
   ]
  },
  {
   "cell_type": "code",
   "execution_count": 49,
   "id": "2b19a758-0511-4787-9c13-cf5a3d417e5e",
   "metadata": {
    "tags": []
   },
   "outputs": [
    {
     "data": {
      "text/html": [
       "<div>\n",
       "<style scoped>\n",
       "    .dataframe tbody tr th:only-of-type {\n",
       "        vertical-align: middle;\n",
       "    }\n",
       "\n",
       "    .dataframe tbody tr th {\n",
       "        vertical-align: top;\n",
       "    }\n",
       "\n",
       "    .dataframe thead th {\n",
       "        text-align: right;\n",
       "    }\n",
       "</style>\n",
       "<table border=\"1\" class=\"dataframe\">\n",
       "  <thead>\n",
       "    <tr style=\"text-align: right;\">\n",
       "      <th></th>\n",
       "      <th>Test_date</th>\n",
       "      <th>Cough_symptoms</th>\n",
       "      <th>Fever</th>\n",
       "      <th>Sore_throat</th>\n",
       "      <th>Shortness_of_breath</th>\n",
       "      <th>Headache</th>\n",
       "      <th>Corona</th>\n",
       "      <th>Age_60_above</th>\n",
       "      <th>Sex</th>\n",
       "      <th>Known_contact</th>\n",
       "    </tr>\n",
       "  </thead>\n",
       "  <tbody>\n",
       "    <tr>\n",
       "      <th>0</th>\n",
       "      <td>2020-03-11</td>\n",
       "      <td>1</td>\n",
       "      <td>0</td>\n",
       "      <td>1</td>\n",
       "      <td>0</td>\n",
       "      <td>0</td>\n",
       "      <td>0</td>\n",
       "      <td>1</td>\n",
       "      <td>0</td>\n",
       "      <td>0</td>\n",
       "    </tr>\n",
       "    <tr>\n",
       "      <th>1</th>\n",
       "      <td>2020-03-11</td>\n",
       "      <td>0</td>\n",
       "      <td>1</td>\n",
       "      <td>0</td>\n",
       "      <td>0</td>\n",
       "      <td>0</td>\n",
       "      <td>1</td>\n",
       "      <td>1</td>\n",
       "      <td>0</td>\n",
       "      <td>0</td>\n",
       "    </tr>\n",
       "    <tr>\n",
       "      <th>2</th>\n",
       "      <td>2020-03-11</td>\n",
       "      <td>0</td>\n",
       "      <td>1</td>\n",
       "      <td>0</td>\n",
       "      <td>0</td>\n",
       "      <td>0</td>\n",
       "      <td>1</td>\n",
       "      <td>1</td>\n",
       "      <td>0</td>\n",
       "      <td>0</td>\n",
       "    </tr>\n",
       "    <tr>\n",
       "      <th>3</th>\n",
       "      <td>2020-03-11</td>\n",
       "      <td>1</td>\n",
       "      <td>0</td>\n",
       "      <td>0</td>\n",
       "      <td>0</td>\n",
       "      <td>0</td>\n",
       "      <td>0</td>\n",
       "      <td>1</td>\n",
       "      <td>0</td>\n",
       "      <td>0</td>\n",
       "    </tr>\n",
       "    <tr>\n",
       "      <th>4</th>\n",
       "      <td>2020-03-11</td>\n",
       "      <td>1</td>\n",
       "      <td>0</td>\n",
       "      <td>0</td>\n",
       "      <td>0</td>\n",
       "      <td>0</td>\n",
       "      <td>0</td>\n",
       "      <td>1</td>\n",
       "      <td>0</td>\n",
       "      <td>1</td>\n",
       "    </tr>\n",
       "    <tr>\n",
       "      <th>...</th>\n",
       "      <td>...</td>\n",
       "      <td>...</td>\n",
       "      <td>...</td>\n",
       "      <td>...</td>\n",
       "      <td>...</td>\n",
       "      <td>...</td>\n",
       "      <td>...</td>\n",
       "      <td>...</td>\n",
       "      <td>...</td>\n",
       "      <td>...</td>\n",
       "    </tr>\n",
       "    <tr>\n",
       "      <th>163184</th>\n",
       "      <td>2020-04-15</td>\n",
       "      <td>0</td>\n",
       "      <td>0</td>\n",
       "      <td>0</td>\n",
       "      <td>0</td>\n",
       "      <td>0</td>\n",
       "      <td>0</td>\n",
       "      <td>1</td>\n",
       "      <td>2</td>\n",
       "      <td>2</td>\n",
       "    </tr>\n",
       "    <tr>\n",
       "      <th>163185</th>\n",
       "      <td>2020-04-15</td>\n",
       "      <td>0</td>\n",
       "      <td>0</td>\n",
       "      <td>0</td>\n",
       "      <td>0</td>\n",
       "      <td>0</td>\n",
       "      <td>0</td>\n",
       "      <td>1</td>\n",
       "      <td>2</td>\n",
       "      <td>2</td>\n",
       "    </tr>\n",
       "    <tr>\n",
       "      <th>163186</th>\n",
       "      <td>2020-04-15</td>\n",
       "      <td>0</td>\n",
       "      <td>0</td>\n",
       "      <td>0</td>\n",
       "      <td>0</td>\n",
       "      <td>0</td>\n",
       "      <td>0</td>\n",
       "      <td>1</td>\n",
       "      <td>1</td>\n",
       "      <td>2</td>\n",
       "    </tr>\n",
       "    <tr>\n",
       "      <th>163187</th>\n",
       "      <td>2020-04-15</td>\n",
       "      <td>0</td>\n",
       "      <td>0</td>\n",
       "      <td>0</td>\n",
       "      <td>0</td>\n",
       "      <td>0</td>\n",
       "      <td>0</td>\n",
       "      <td>1</td>\n",
       "      <td>2</td>\n",
       "      <td>2</td>\n",
       "    </tr>\n",
       "    <tr>\n",
       "      <th>163188</th>\n",
       "      <td>2020-04-15</td>\n",
       "      <td>0</td>\n",
       "      <td>0</td>\n",
       "      <td>0</td>\n",
       "      <td>0</td>\n",
       "      <td>0</td>\n",
       "      <td>0</td>\n",
       "      <td>1</td>\n",
       "      <td>2</td>\n",
       "      <td>2</td>\n",
       "    </tr>\n",
       "  </tbody>\n",
       "</table>\n",
       "<p>160463 rows × 10 columns</p>\n",
       "</div>"
      ],
      "text/plain": [
       "        Test_date  Cough_symptoms  Fever  Sore_throat  Shortness_of_breath  \\\n",
       "0      2020-03-11               1      0            1                    0   \n",
       "1      2020-03-11               0      1            0                    0   \n",
       "2      2020-03-11               0      1            0                    0   \n",
       "3      2020-03-11               1      0            0                    0   \n",
       "4      2020-03-11               1      0            0                    0   \n",
       "...           ...             ...    ...          ...                  ...   \n",
       "163184 2020-04-15               0      0            0                    0   \n",
       "163185 2020-04-15               0      0            0                    0   \n",
       "163186 2020-04-15               0      0            0                    0   \n",
       "163187 2020-04-15               0      0            0                    0   \n",
       "163188 2020-04-15               0      0            0                    0   \n",
       "\n",
       "        Headache  Corona  Age_60_above  Sex  Known_contact  \n",
       "0              0       0             1    0              0  \n",
       "1              0       1             1    0              0  \n",
       "2              0       1             1    0              0  \n",
       "3              0       0             1    0              0  \n",
       "4              0       0             1    0              1  \n",
       "...          ...     ...           ...  ...            ...  \n",
       "163184         0       0             1    2              2  \n",
       "163185         0       0             1    2              2  \n",
       "163186         0       0             1    1              2  \n",
       "163187         0       0             1    2              2  \n",
       "163188         0       0             1    2              2  \n",
       "\n",
       "[160463 rows x 10 columns]"
      ]
     },
     "execution_count": 49,
     "metadata": {},
     "output_type": "execute_result"
    }
   ],
   "source": [
    "# data from 11 march 2020 to 15th april 2020\n",
    "df_train"
   ]
  },
  {
   "cell_type": "code",
   "execution_count": 50,
   "id": "8e22a4e8-8438-47d9-827e-acfc0d56fd18",
   "metadata": {
    "tags": []
   },
   "outputs": [
    {
     "data": {
      "text/html": [
       "<div>\n",
       "<style scoped>\n",
       "    .dataframe tbody tr th:only-of-type {\n",
       "        vertical-align: middle;\n",
       "    }\n",
       "\n",
       "    .dataframe tbody tr th {\n",
       "        vertical-align: top;\n",
       "    }\n",
       "\n",
       "    .dataframe thead th {\n",
       "        text-align: right;\n",
       "    }\n",
       "</style>\n",
       "<table border=\"1\" class=\"dataframe\">\n",
       "  <thead>\n",
       "    <tr style=\"text-align: right;\">\n",
       "      <th></th>\n",
       "      <th>Test_date</th>\n",
       "      <th>Cough_symptoms</th>\n",
       "      <th>Fever</th>\n",
       "      <th>Sore_throat</th>\n",
       "      <th>Shortness_of_breath</th>\n",
       "      <th>Headache</th>\n",
       "      <th>Corona</th>\n",
       "      <th>Age_60_above</th>\n",
       "      <th>Sex</th>\n",
       "      <th>Known_contact</th>\n",
       "    </tr>\n",
       "  </thead>\n",
       "  <tbody>\n",
       "    <tr>\n",
       "      <th>163189</th>\n",
       "      <td>2020-04-16</td>\n",
       "      <td>1</td>\n",
       "      <td>0</td>\n",
       "      <td>0</td>\n",
       "      <td>0</td>\n",
       "      <td>0</td>\n",
       "      <td>0</td>\n",
       "      <td>1</td>\n",
       "      <td>1</td>\n",
       "      <td>0</td>\n",
       "    </tr>\n",
       "    <tr>\n",
       "      <th>163190</th>\n",
       "      <td>2020-04-16</td>\n",
       "      <td>0</td>\n",
       "      <td>0</td>\n",
       "      <td>0</td>\n",
       "      <td>0</td>\n",
       "      <td>0</td>\n",
       "      <td>0</td>\n",
       "      <td>1</td>\n",
       "      <td>1</td>\n",
       "      <td>2</td>\n",
       "    </tr>\n",
       "    <tr>\n",
       "      <th>163191</th>\n",
       "      <td>2020-04-16</td>\n",
       "      <td>1</td>\n",
       "      <td>0</td>\n",
       "      <td>0</td>\n",
       "      <td>0</td>\n",
       "      <td>0</td>\n",
       "      <td>0</td>\n",
       "      <td>1</td>\n",
       "      <td>1</td>\n",
       "      <td>0</td>\n",
       "    </tr>\n",
       "    <tr>\n",
       "      <th>163192</th>\n",
       "      <td>2020-04-16</td>\n",
       "      <td>0</td>\n",
       "      <td>0</td>\n",
       "      <td>0</td>\n",
       "      <td>0</td>\n",
       "      <td>0</td>\n",
       "      <td>0</td>\n",
       "      <td>1</td>\n",
       "      <td>2</td>\n",
       "      <td>2</td>\n",
       "    </tr>\n",
       "    <tr>\n",
       "      <th>163193</th>\n",
       "      <td>2020-04-16</td>\n",
       "      <td>0</td>\n",
       "      <td>0</td>\n",
       "      <td>0</td>\n",
       "      <td>0</td>\n",
       "      <td>0</td>\n",
       "      <td>0</td>\n",
       "      <td>1</td>\n",
       "      <td>2</td>\n",
       "      <td>2</td>\n",
       "    </tr>\n",
       "    <tr>\n",
       "      <th>...</th>\n",
       "      <td>...</td>\n",
       "      <td>...</td>\n",
       "      <td>...</td>\n",
       "      <td>...</td>\n",
       "      <td>...</td>\n",
       "      <td>...</td>\n",
       "      <td>...</td>\n",
       "      <td>...</td>\n",
       "      <td>...</td>\n",
       "      <td>...</td>\n",
       "    </tr>\n",
       "    <tr>\n",
       "      <th>278843</th>\n",
       "      <td>2020-04-30</td>\n",
       "      <td>0</td>\n",
       "      <td>0</td>\n",
       "      <td>0</td>\n",
       "      <td>0</td>\n",
       "      <td>0</td>\n",
       "      <td>1</td>\n",
       "      <td>1</td>\n",
       "      <td>2</td>\n",
       "      <td>2</td>\n",
       "    </tr>\n",
       "    <tr>\n",
       "      <th>278844</th>\n",
       "      <td>2020-04-30</td>\n",
       "      <td>0</td>\n",
       "      <td>0</td>\n",
       "      <td>0</td>\n",
       "      <td>0</td>\n",
       "      <td>0</td>\n",
       "      <td>0</td>\n",
       "      <td>1</td>\n",
       "      <td>1</td>\n",
       "      <td>2</td>\n",
       "    </tr>\n",
       "    <tr>\n",
       "      <th>278845</th>\n",
       "      <td>2020-04-30</td>\n",
       "      <td>0</td>\n",
       "      <td>0</td>\n",
       "      <td>0</td>\n",
       "      <td>0</td>\n",
       "      <td>0</td>\n",
       "      <td>0</td>\n",
       "      <td>1</td>\n",
       "      <td>2</td>\n",
       "      <td>2</td>\n",
       "    </tr>\n",
       "    <tr>\n",
       "      <th>278846</th>\n",
       "      <td>2020-04-30</td>\n",
       "      <td>0</td>\n",
       "      <td>0</td>\n",
       "      <td>0</td>\n",
       "      <td>0</td>\n",
       "      <td>0</td>\n",
       "      <td>0</td>\n",
       "      <td>1</td>\n",
       "      <td>2</td>\n",
       "      <td>2</td>\n",
       "    </tr>\n",
       "    <tr>\n",
       "      <th>278847</th>\n",
       "      <td>2020-04-30</td>\n",
       "      <td>0</td>\n",
       "      <td>0</td>\n",
       "      <td>0</td>\n",
       "      <td>0</td>\n",
       "      <td>0</td>\n",
       "      <td>0</td>\n",
       "      <td>1</td>\n",
       "      <td>1</td>\n",
       "      <td>2</td>\n",
       "    </tr>\n",
       "  </tbody>\n",
       "</table>\n",
       "<p>114239 rows × 10 columns</p>\n",
       "</div>"
      ],
      "text/plain": [
       "        Test_date  Cough_symptoms  Fever  Sore_throat  Shortness_of_breath  \\\n",
       "163189 2020-04-16               1      0            0                    0   \n",
       "163190 2020-04-16               0      0            0                    0   \n",
       "163191 2020-04-16               1      0            0                    0   \n",
       "163192 2020-04-16               0      0            0                    0   \n",
       "163193 2020-04-16               0      0            0                    0   \n",
       "...           ...             ...    ...          ...                  ...   \n",
       "278843 2020-04-30               0      0            0                    0   \n",
       "278844 2020-04-30               0      0            0                    0   \n",
       "278845 2020-04-30               0      0            0                    0   \n",
       "278846 2020-04-30               0      0            0                    0   \n",
       "278847 2020-04-30               0      0            0                    0   \n",
       "\n",
       "        Headache  Corona  Age_60_above  Sex  Known_contact  \n",
       "163189         0       0             1    1              0  \n",
       "163190         0       0             1    1              2  \n",
       "163191         0       0             1    1              0  \n",
       "163192         0       0             1    2              2  \n",
       "163193         0       0             1    2              2  \n",
       "...          ...     ...           ...  ...            ...  \n",
       "278843         0       1             1    2              2  \n",
       "278844         0       0             1    1              2  \n",
       "278845         0       0             1    2              2  \n",
       "278846         0       0             1    2              2  \n",
       "278847         0       0             1    1              2  \n",
       "\n",
       "[114239 rows x 10 columns]"
      ]
     },
     "execution_count": 50,
     "metadata": {},
     "output_type": "execute_result"
    }
   ],
   "source": [
    "# data from 16th april 2020 to 30th april 2020\n",
    "df_test"
   ]
  },
  {
   "cell_type": "markdown",
   "id": "c289f225-eda5-4a67-9bc7-5fde620e72dd",
   "metadata": {},
   "source": [
    "### Separating dataset into Training set, Test Set and Validation set"
   ]
  },
  {
   "cell_type": "code",
   "execution_count": 51,
   "id": "1a8ef097-9a22-4a87-92fc-8dc0c371cfe6",
   "metadata": {
    "tags": []
   },
   "outputs": [
    {
     "data": {
      "text/html": [
       "<div>\n",
       "<style scoped>\n",
       "    .dataframe tbody tr th:only-of-type {\n",
       "        vertical-align: middle;\n",
       "    }\n",
       "\n",
       "    .dataframe tbody tr th {\n",
       "        vertical-align: top;\n",
       "    }\n",
       "\n",
       "    .dataframe thead th {\n",
       "        text-align: right;\n",
       "    }\n",
       "</style>\n",
       "<table border=\"1\" class=\"dataframe\">\n",
       "  <thead>\n",
       "    <tr style=\"text-align: right;\">\n",
       "      <th></th>\n",
       "      <th>Cough_symptoms</th>\n",
       "      <th>Fever</th>\n",
       "      <th>Sore_throat</th>\n",
       "      <th>Shortness_of_breath</th>\n",
       "      <th>Headache</th>\n",
       "      <th>Age_60_above</th>\n",
       "      <th>Sex</th>\n",
       "      <th>Known_contact</th>\n",
       "    </tr>\n",
       "  </thead>\n",
       "  <tbody>\n",
       "    <tr>\n",
       "      <th>0</th>\n",
       "      <td>1</td>\n",
       "      <td>0</td>\n",
       "      <td>1</td>\n",
       "      <td>0</td>\n",
       "      <td>0</td>\n",
       "      <td>1</td>\n",
       "      <td>0</td>\n",
       "      <td>0</td>\n",
       "    </tr>\n",
       "    <tr>\n",
       "      <th>1</th>\n",
       "      <td>0</td>\n",
       "      <td>1</td>\n",
       "      <td>0</td>\n",
       "      <td>0</td>\n",
       "      <td>0</td>\n",
       "      <td>1</td>\n",
       "      <td>0</td>\n",
       "      <td>0</td>\n",
       "    </tr>\n",
       "    <tr>\n",
       "      <th>2</th>\n",
       "      <td>0</td>\n",
       "      <td>1</td>\n",
       "      <td>0</td>\n",
       "      <td>0</td>\n",
       "      <td>0</td>\n",
       "      <td>1</td>\n",
       "      <td>0</td>\n",
       "      <td>0</td>\n",
       "    </tr>\n",
       "    <tr>\n",
       "      <th>3</th>\n",
       "      <td>1</td>\n",
       "      <td>0</td>\n",
       "      <td>0</td>\n",
       "      <td>0</td>\n",
       "      <td>0</td>\n",
       "      <td>1</td>\n",
       "      <td>0</td>\n",
       "      <td>0</td>\n",
       "    </tr>\n",
       "    <tr>\n",
       "      <th>4</th>\n",
       "      <td>1</td>\n",
       "      <td>0</td>\n",
       "      <td>0</td>\n",
       "      <td>0</td>\n",
       "      <td>0</td>\n",
       "      <td>1</td>\n",
       "      <td>0</td>\n",
       "      <td>1</td>\n",
       "    </tr>\n",
       "    <tr>\n",
       "      <th>...</th>\n",
       "      <td>...</td>\n",
       "      <td>...</td>\n",
       "      <td>...</td>\n",
       "      <td>...</td>\n",
       "      <td>...</td>\n",
       "      <td>...</td>\n",
       "      <td>...</td>\n",
       "      <td>...</td>\n",
       "    </tr>\n",
       "    <tr>\n",
       "      <th>163184</th>\n",
       "      <td>0</td>\n",
       "      <td>0</td>\n",
       "      <td>0</td>\n",
       "      <td>0</td>\n",
       "      <td>0</td>\n",
       "      <td>1</td>\n",
       "      <td>2</td>\n",
       "      <td>2</td>\n",
       "    </tr>\n",
       "    <tr>\n",
       "      <th>163185</th>\n",
       "      <td>0</td>\n",
       "      <td>0</td>\n",
       "      <td>0</td>\n",
       "      <td>0</td>\n",
       "      <td>0</td>\n",
       "      <td>1</td>\n",
       "      <td>2</td>\n",
       "      <td>2</td>\n",
       "    </tr>\n",
       "    <tr>\n",
       "      <th>163186</th>\n",
       "      <td>0</td>\n",
       "      <td>0</td>\n",
       "      <td>0</td>\n",
       "      <td>0</td>\n",
       "      <td>0</td>\n",
       "      <td>1</td>\n",
       "      <td>1</td>\n",
       "      <td>2</td>\n",
       "    </tr>\n",
       "    <tr>\n",
       "      <th>163187</th>\n",
       "      <td>0</td>\n",
       "      <td>0</td>\n",
       "      <td>0</td>\n",
       "      <td>0</td>\n",
       "      <td>0</td>\n",
       "      <td>1</td>\n",
       "      <td>2</td>\n",
       "      <td>2</td>\n",
       "    </tr>\n",
       "    <tr>\n",
       "      <th>163188</th>\n",
       "      <td>0</td>\n",
       "      <td>0</td>\n",
       "      <td>0</td>\n",
       "      <td>0</td>\n",
       "      <td>0</td>\n",
       "      <td>1</td>\n",
       "      <td>2</td>\n",
       "      <td>2</td>\n",
       "    </tr>\n",
       "  </tbody>\n",
       "</table>\n",
       "<p>160463 rows × 8 columns</p>\n",
       "</div>"
      ],
      "text/plain": [
       "        Cough_symptoms  Fever  Sore_throat  Shortness_of_breath  Headache  \\\n",
       "0                    1      0            1                    0         0   \n",
       "1                    0      1            0                    0         0   \n",
       "2                    0      1            0                    0         0   \n",
       "3                    1      0            0                    0         0   \n",
       "4                    1      0            0                    0         0   \n",
       "...                ...    ...          ...                  ...       ...   \n",
       "163184               0      0            0                    0         0   \n",
       "163185               0      0            0                    0         0   \n",
       "163186               0      0            0                    0         0   \n",
       "163187               0      0            0                    0         0   \n",
       "163188               0      0            0                    0         0   \n",
       "\n",
       "        Age_60_above  Sex  Known_contact  \n",
       "0                  1    0              0  \n",
       "1                  1    0              0  \n",
       "2                  1    0              0  \n",
       "3                  1    0              0  \n",
       "4                  1    0              1  \n",
       "...              ...  ...            ...  \n",
       "163184             1    2              2  \n",
       "163185             1    2              2  \n",
       "163186             1    1              2  \n",
       "163187             1    2              2  \n",
       "163188             1    2              2  \n",
       "\n",
       "[160463 rows x 8 columns]"
      ]
     },
     "execution_count": 51,
     "metadata": {},
     "output_type": "execute_result"
    }
   ],
   "source": [
    "# dropping Test_date column and target column(Corona) from df_train and store it into X_train.\n",
    "X_train  = df_train.drop(columns=['Test_date','Corona'],axis = 1)\n",
    "X_train"
   ]
  },
  {
   "cell_type": "code",
   "execution_count": 52,
   "id": "10a90d6e-8c0b-4718-8489-25cfbd69d3f2",
   "metadata": {
    "tags": []
   },
   "outputs": [
    {
     "data": {
      "text/plain": [
       "0         0\n",
       "1         1\n",
       "2         1\n",
       "3         0\n",
       "4         0\n",
       "         ..\n",
       "163184    0\n",
       "163185    0\n",
       "163186    0\n",
       "163187    0\n",
       "163188    0\n",
       "Name: Corona, Length: 160463, dtype: int32"
      ]
     },
     "execution_count": 52,
     "metadata": {},
     "output_type": "execute_result"
    }
   ],
   "source": [
    "# storing targert variable in y_train.\n",
    "\n",
    "y_train = df_train['Corona']\n",
    "y_train"
   ]
  },
  {
   "cell_type": "code",
   "execution_count": 53,
   "id": "1c46817f-e2b9-4d91-a1c7-82358f771129",
   "metadata": {
    "tags": []
   },
   "outputs": [
    {
     "data": {
      "text/html": [
       "<div>\n",
       "<style scoped>\n",
       "    .dataframe tbody tr th:only-of-type {\n",
       "        vertical-align: middle;\n",
       "    }\n",
       "\n",
       "    .dataframe tbody tr th {\n",
       "        vertical-align: top;\n",
       "    }\n",
       "\n",
       "    .dataframe thead th {\n",
       "        text-align: right;\n",
       "    }\n",
       "</style>\n",
       "<table border=\"1\" class=\"dataframe\">\n",
       "  <thead>\n",
       "    <tr style=\"text-align: right;\">\n",
       "      <th></th>\n",
       "      <th>Cough_symptoms</th>\n",
       "      <th>Fever</th>\n",
       "      <th>Sore_throat</th>\n",
       "      <th>Shortness_of_breath</th>\n",
       "      <th>Headache</th>\n",
       "      <th>Age_60_above</th>\n",
       "      <th>Sex</th>\n",
       "      <th>Known_contact</th>\n",
       "    </tr>\n",
       "  </thead>\n",
       "  <tbody>\n",
       "    <tr>\n",
       "      <th>163189</th>\n",
       "      <td>1</td>\n",
       "      <td>0</td>\n",
       "      <td>0</td>\n",
       "      <td>0</td>\n",
       "      <td>0</td>\n",
       "      <td>1</td>\n",
       "      <td>1</td>\n",
       "      <td>0</td>\n",
       "    </tr>\n",
       "    <tr>\n",
       "      <th>163190</th>\n",
       "      <td>0</td>\n",
       "      <td>0</td>\n",
       "      <td>0</td>\n",
       "      <td>0</td>\n",
       "      <td>0</td>\n",
       "      <td>1</td>\n",
       "      <td>1</td>\n",
       "      <td>2</td>\n",
       "    </tr>\n",
       "    <tr>\n",
       "      <th>163191</th>\n",
       "      <td>1</td>\n",
       "      <td>0</td>\n",
       "      <td>0</td>\n",
       "      <td>0</td>\n",
       "      <td>0</td>\n",
       "      <td>1</td>\n",
       "      <td>1</td>\n",
       "      <td>0</td>\n",
       "    </tr>\n",
       "    <tr>\n",
       "      <th>163192</th>\n",
       "      <td>0</td>\n",
       "      <td>0</td>\n",
       "      <td>0</td>\n",
       "      <td>0</td>\n",
       "      <td>0</td>\n",
       "      <td>1</td>\n",
       "      <td>2</td>\n",
       "      <td>2</td>\n",
       "    </tr>\n",
       "    <tr>\n",
       "      <th>163193</th>\n",
       "      <td>0</td>\n",
       "      <td>0</td>\n",
       "      <td>0</td>\n",
       "      <td>0</td>\n",
       "      <td>0</td>\n",
       "      <td>1</td>\n",
       "      <td>2</td>\n",
       "      <td>2</td>\n",
       "    </tr>\n",
       "    <tr>\n",
       "      <th>...</th>\n",
       "      <td>...</td>\n",
       "      <td>...</td>\n",
       "      <td>...</td>\n",
       "      <td>...</td>\n",
       "      <td>...</td>\n",
       "      <td>...</td>\n",
       "      <td>...</td>\n",
       "      <td>...</td>\n",
       "    </tr>\n",
       "    <tr>\n",
       "      <th>278843</th>\n",
       "      <td>0</td>\n",
       "      <td>0</td>\n",
       "      <td>0</td>\n",
       "      <td>0</td>\n",
       "      <td>0</td>\n",
       "      <td>1</td>\n",
       "      <td>2</td>\n",
       "      <td>2</td>\n",
       "    </tr>\n",
       "    <tr>\n",
       "      <th>278844</th>\n",
       "      <td>0</td>\n",
       "      <td>0</td>\n",
       "      <td>0</td>\n",
       "      <td>0</td>\n",
       "      <td>0</td>\n",
       "      <td>1</td>\n",
       "      <td>1</td>\n",
       "      <td>2</td>\n",
       "    </tr>\n",
       "    <tr>\n",
       "      <th>278845</th>\n",
       "      <td>0</td>\n",
       "      <td>0</td>\n",
       "      <td>0</td>\n",
       "      <td>0</td>\n",
       "      <td>0</td>\n",
       "      <td>1</td>\n",
       "      <td>2</td>\n",
       "      <td>2</td>\n",
       "    </tr>\n",
       "    <tr>\n",
       "      <th>278846</th>\n",
       "      <td>0</td>\n",
       "      <td>0</td>\n",
       "      <td>0</td>\n",
       "      <td>0</td>\n",
       "      <td>0</td>\n",
       "      <td>1</td>\n",
       "      <td>2</td>\n",
       "      <td>2</td>\n",
       "    </tr>\n",
       "    <tr>\n",
       "      <th>278847</th>\n",
       "      <td>0</td>\n",
       "      <td>0</td>\n",
       "      <td>0</td>\n",
       "      <td>0</td>\n",
       "      <td>0</td>\n",
       "      <td>1</td>\n",
       "      <td>1</td>\n",
       "      <td>2</td>\n",
       "    </tr>\n",
       "  </tbody>\n",
       "</table>\n",
       "<p>114239 rows × 8 columns</p>\n",
       "</div>"
      ],
      "text/plain": [
       "        Cough_symptoms  Fever  Sore_throat  Shortness_of_breath  Headache  \\\n",
       "163189               1      0            0                    0         0   \n",
       "163190               0      0            0                    0         0   \n",
       "163191               1      0            0                    0         0   \n",
       "163192               0      0            0                    0         0   \n",
       "163193               0      0            0                    0         0   \n",
       "...                ...    ...          ...                  ...       ...   \n",
       "278843               0      0            0                    0         0   \n",
       "278844               0      0            0                    0         0   \n",
       "278845               0      0            0                    0         0   \n",
       "278846               0      0            0                    0         0   \n",
       "278847               0      0            0                    0         0   \n",
       "\n",
       "        Age_60_above  Sex  Known_contact  \n",
       "163189             1    1              0  \n",
       "163190             1    1              2  \n",
       "163191             1    1              0  \n",
       "163192             1    2              2  \n",
       "163193             1    2              2  \n",
       "...              ...  ...            ...  \n",
       "278843             1    2              2  \n",
       "278844             1    1              2  \n",
       "278845             1    2              2  \n",
       "278846             1    2              2  \n",
       "278847             1    1              2  \n",
       "\n",
       "[114239 rows x 8 columns]"
      ]
     },
     "execution_count": 53,
     "metadata": {},
     "output_type": "execute_result"
    }
   ],
   "source": [
    "# dropping Test_date column and target column(Corona) from df_test and store it into X_test.\n",
    "X_test = df_test.drop(columns = ['Test_date','Corona'],axis = 1)\n",
    "X_test"
   ]
  },
  {
   "cell_type": "code",
   "execution_count": 54,
   "id": "75b93f03-07fe-40de-ae87-b8d8a951da42",
   "metadata": {
    "tags": []
   },
   "outputs": [
    {
     "name": "stdout",
     "output_type": "stream",
     "text": [
      "163189    0\n",
      "163190    0\n",
      "163191    0\n",
      "163192    0\n",
      "163193    0\n",
      "         ..\n",
      "278843    1\n",
      "278844    0\n",
      "278845    0\n",
      "278846    0\n",
      "278847    0\n",
      "Name: Corona, Length: 114239, dtype: int32\n"
     ]
    }
   ],
   "source": [
    "# store target variable(Corona) of test set into y_test.\n",
    "y_test = df_test['Corona']\n",
    "print(y_test)"
   ]
  },
  {
   "cell_type": "code",
   "execution_count": 55,
   "id": "b6e8bd61-9a10-4188-80ff-470583cf8d67",
   "metadata": {
    "tags": []
   },
   "outputs": [],
   "source": [
    "# We have to divide X_train , y_train into Training Set and Validation in the ratio 4:1 which means 20%.\n",
    "\n",
    "from sklearn.model_selection import train_test_split\n",
    "X_train, X_val, y_train, y_val = train_test_split(X_train,y_train, test_size=0.20,random_state=8)"
   ]
  },
  {
   "cell_type": "code",
   "execution_count": 56,
   "id": "2b17b7e7-c763-444b-b04a-56fe9c8723b8",
   "metadata": {
    "tags": []
   },
   "outputs": [
    {
     "name": "stdout",
     "output_type": "stream",
     "text": [
      "X_train shape: (128370, 8)\n",
      "y_train shape: (128370,)\n",
      "X_test shape: (114239, 8)\n",
      "y_test shape: (114239,)\n",
      "X_val shape: (32093, 8)\n",
      "y_val shape: (32093,)\n"
     ]
    }
   ],
   "source": [
    "# Training Set\n",
    "\n",
    "print(\"X_train shape: {}\".format(X_train.shape))\n",
    "print(\"y_train shape: {}\".format(y_train.shape))\n",
    "\n",
    "# Test Set\n",
    "\n",
    "print(\"X_test shape: {}\".format(X_test.shape))\n",
    "print(\"y_test shape: {}\".format(y_test.shape))\n",
    "\n",
    "# Validation Set\n",
    "\n",
    "print(\"X_val shape: {}\".format(X_val.shape))\n",
    "print(\"y_val shape: {}\".format(y_val.shape))\n"
   ]
  },
  {
   "cell_type": "markdown",
   "id": "36170b9b-eda1-4497-b514-432419ed6692",
   "metadata": {
    "tags": []
   },
   "source": [
    "- ## Feature Scaling"
   ]
  },
  {
   "cell_type": "code",
   "execution_count": 57,
   "id": "c9fe1b5a-209b-4bd1-a3fb-217835af8636",
   "metadata": {
    "tags": []
   },
   "outputs": [
    {
     "data": {
      "text/plain": [
       "array([[-0.46628689, -0.31829508, -0.10862413, ..., -0.51991561,\n",
       "        -0.5147289 ,  0.41672789],\n",
       "       [ 2.14460242, -0.31829508, -0.10862413, ..., -0.51991561,\n",
       "        -0.5147289 ,  0.41672789],\n",
       "       [ 2.14460242, -0.31829508, -0.10862413, ..., -0.51991561,\n",
       "        -0.5147289 ,  0.41672789],\n",
       "       ...,\n",
       "       [-0.46628689, -0.31829508, -0.10862413, ..., -0.51991561,\n",
       "         0.99185482,  0.41672789],\n",
       "       [-0.46628689, -0.31829508, -0.10862413, ..., -0.51991561,\n",
       "         0.99185482,  0.41672789],\n",
       "       [-0.46628689, -0.31829508, -0.10862413, ..., -0.51991561,\n",
       "         0.99185482,  0.41672789]])"
      ]
     },
     "execution_count": 57,
     "metadata": {},
     "output_type": "execute_result"
    }
   ],
   "source": [
    "# performing transformation of data.\n",
    "\n",
    "from sklearn.preprocessing import StandardScaler\n",
    "sc = StandardScaler()\n",
    "X_train = sc.fit_transform(X_train)\n",
    "X_train"
   ]
  },
  {
   "cell_type": "code",
   "execution_count": 58,
   "id": "cd8358df-7684-41f0-8305-20bcedd5af2d",
   "metadata": {
    "tags": []
   },
   "outputs": [
    {
     "data": {
      "text/plain": [
       "array([[ 2.80931852, -0.24666374, -0.01419059, ...,  0.        ,\n",
       "        -0.87274486, -3.54845528],\n",
       "       [-0.35595821, -0.24666374, -0.01419059, ...,  0.        ,\n",
       "        -0.87274486,  0.29991548],\n",
       "       [ 2.80931852, -0.24666374, -0.01419059, ...,  0.        ,\n",
       "        -0.87274486, -3.54845528],\n",
       "       ...,\n",
       "       [-0.35595821, -0.24666374, -0.01419059, ...,  0.        ,\n",
       "         1.01211411,  0.29991548],\n",
       "       [-0.35595821, -0.24666374, -0.01419059, ...,  0.        ,\n",
       "         1.01211411,  0.29991548],\n",
       "       [-0.35595821, -0.24666374, -0.01419059, ...,  0.        ,\n",
       "        -0.87274486,  0.29991548]])"
      ]
     },
     "execution_count": 58,
     "metadata": {},
     "output_type": "execute_result"
    }
   ],
   "source": [
    "X_test = sc.fit_transform(X_test)\n",
    "X_test"
   ]
  },
  {
   "cell_type": "markdown",
   "id": "76c1d0cd-9f89-4a71-bf39-0d4722e12312",
   "metadata": {},
   "source": [
    "- ## handle imbalanced data"
   ]
  },
  {
   "cell_type": "raw",
   "id": "ac937389-377e-4185-a60f-8af970dd3040",
   "metadata": {},
   "source": [
    "As we can see that our data is imbalanced as one class has more records than other which can lead to unbiased result."
   ]
  },
  {
   "cell_type": "code",
   "execution_count": 59,
   "id": "b5035235-304d-4dee-8ac2-4bfbd55d7017",
   "metadata": {
    "tags": []
   },
   "outputs": [
    {
     "data": {
      "text/plain": [
       "Corona\n",
       "0    118843\n",
       "1      9527\n",
       "Name: count, dtype: int64"
      ]
     },
     "execution_count": 59,
     "metadata": {},
     "output_type": "execute_result"
    }
   ],
   "source": [
    "y_train.value_counts()"
   ]
  },
  {
   "cell_type": "code",
   "execution_count": 60,
   "id": "34f0cda4-6421-4916-8aec-d748e0bc76cd",
   "metadata": {
    "tags": []
   },
   "outputs": [
    {
     "data": {
      "text/plain": [
       "(237686,)"
      ]
     },
     "execution_count": 60,
     "metadata": {},
     "output_type": "execute_result"
    }
   ],
   "source": [
    "from imblearn.over_sampling import SMOTE\n",
    "sm = SMOTE(sampling_strategy='minority')\n",
    "X_train_oversample , y_train_oversample =sm.fit_resample(X_train,y_train)\n",
    "\n",
    "\n",
    "X_train_oversample.shape\n",
    "y_train_oversample.shape"
   ]
  },
  {
   "cell_type": "code",
   "execution_count": 61,
   "id": "230379c7-eb86-45dc-9e56-ba1d01e64d1c",
   "metadata": {
    "tags": []
   },
   "outputs": [
    {
     "data": {
      "text/plain": [
       "Corona\n",
       "0    118843\n",
       "1    118843\n",
       "Name: count, dtype: int64"
      ]
     },
     "execution_count": 61,
     "metadata": {},
     "output_type": "execute_result"
    }
   ],
   "source": [
    "y_train_oversample.value_counts()"
   ]
  },
  {
   "cell_type": "markdown",
   "id": "5ad7e0a2-eb2d-40fb-b70a-617afb101b66",
   "metadata": {},
   "source": [
    "Now the classes are balanced while training data."
   ]
  },
  {
   "cell_type": "code",
   "execution_count": null,
   "id": "a7c93e2d-3caa-4969-b5e9-788ce3c58201",
   "metadata": {
    "tags": []
   },
   "outputs": [],
   "source": []
  },
  {
   "cell_type": "markdown",
   "id": "ad50f8a0-26ef-41a0-8510-46fc2d1f2f68",
   "metadata": {},
   "source": [
    "- ## Building Algorithm"
   ]
  },
  {
   "cell_type": "markdown",
   "id": "3094ab6f-0a72-4c76-b68a-b52c392dce0a",
   "metadata": {
    "tags": []
   },
   "source": [
    "- ### 1.Logistic Regression"
   ]
  },
  {
   "cell_type": "code",
   "execution_count": 62,
   "id": "b130f91d-2d37-4334-855a-855cf6c44b73",
   "metadata": {
    "tags": []
   },
   "outputs": [
    {
     "name": "stdout",
     "output_type": "stream",
     "text": [
      "Logistic Model Accuracy :  90.3717321534291 %\n"
     ]
    }
   ],
   "source": [
    "from sklearn.linear_model import LogisticRegression\n",
    "### Creating a Logistic regression object\n",
    "lr = LogisticRegression()\n",
    "### Passing independant and dependant training data to the model\n",
    "lr.fit(X_train_oversample,y_train_oversample)\n",
    "print('Logistic Model Accuracy : ', lr.score(X_val, y_val)*100, '%')"
   ]
  },
  {
   "cell_type": "code",
   "execution_count": 63,
   "id": "b95a4081-607c-4f46-aa7d-04afc6d9b859",
   "metadata": {
    "tags": []
   },
   "outputs": [
    {
     "name": "stdout",
     "output_type": "stream",
     "text": [
      "[0 0 0 ... 0 0 0]\n"
     ]
    }
   ],
   "source": [
    "lr_pred=lr.predict(X_val)\n",
    "print(lr_pred)"
   ]
  },
  {
   "cell_type": "code",
   "execution_count": 64,
   "id": "f636a248-98e8-4f6d-a511-aba66655b2e4",
   "metadata": {
    "tags": []
   },
   "outputs": [
    {
     "name": "stdout",
     "output_type": "stream",
     "text": [
      "Train accuracy of Logistic Regression is 0.7638523093493096\n",
      "Accuracy (val) score of Logistic Regression is 0.903717321534291\n",
      "Accuracy (val) score of Logistic Regression is 0.903717321534291\n",
      "              precision    recall  f1-score   support\n",
      "\n",
      "           0       0.93      0.97      0.95     29624\n",
      "           1       0.27      0.15      0.20      2469\n",
      "\n",
      "    accuracy                           0.90     32093\n",
      "   macro avg       0.60      0.56      0.57     32093\n",
      "weighted avg       0.88      0.90      0.89     32093\n",
      "\n",
      "[[28626   998]\n",
      " [ 2092   377]]\n"
     ]
    }
   ],
   "source": [
    "from sklearn.metrics import accuracy_score\n",
    "print(\"Train accuracy of Logistic Regression is\", lr.score(X_train_oversample, y_train_oversample))\n",
    "print(\"Accuracy (val) score of Logistic Regression is\", lr.score(X_val, y_val))\n",
    "print(\"Accuracy (val) score of Logistic Regression is\", accuracy_score(y_val, lr_pred))\n",
    "\n",
    "from sklearn.metrics import classification_report, confusion_matrix\n",
    "print(classification_report(y_val, lr_pred))\n",
    "cm= confusion_matrix(y_val, lr_pred)\n",
    "print(confusion_matrix(y_val, lr_pred))"
   ]
  },
  {
   "cell_type": "code",
   "execution_count": 66,
   "id": "8150c241-5861-486d-a040-0b5c30af5b1d",
   "metadata": {
    "tags": []
   },
   "outputs": [
    {
     "name": "stdout",
     "output_type": "stream",
     "text": [
      "Fitting 3 folds for each of 80 candidates, totalling 240 fits\n",
      "Best Parameters: LogisticRegression(penalty='l1', solver='liblinear')\n",
      "Best Score: 0.763848109915644\n"
     ]
    }
   ],
   "source": [
    "### hyper parameter tuning for logistic regression using GridSearchCV\n",
    "# create parameter grid:\n",
    "from sklearn.model_selection import GridSearchCV\n",
    "lrc = LogisticRegression()\n",
    "param_grid = [    \n",
    "    {'penalty' : ['l1', 'l2', 'elasticnet', 'none'],\n",
    "    \n",
    "    'solver' : ['lbfgs','newton-cg','liblinear','sag','saga'],\n",
    "    'max_iter' : [100, 1000,2500, 5000]\n",
    "    }\n",
    "]\n",
    "# Create GridSearchCV object\n",
    "clf = GridSearchCV(lrc, param_grid = param_grid, cv = 3, verbose=True, n_jobs=-1)\n",
    " \n",
    "# Fit the model\n",
    "best_clf = clf.fit(X_train_oversample,y_train_oversample)\n",
    " \n",
    "# Print best parameters and best score\n",
    "print(\"Best Parameters:\", best_clf.best_estimator_)\n",
    "print(\"Best Score:\", best_clf.best_score_)\n"
   ]
  },
  {
   "cell_type": "code",
   "execution_count": 67,
   "id": "15fd0868-20ee-43ad-8f6d-7e82a675d068",
   "metadata": {
    "tags": []
   },
   "outputs": [
    {
     "data": {
      "text/html": [
       "<style>#sk-container-id-1 {color: black;}#sk-container-id-1 pre{padding: 0;}#sk-container-id-1 div.sk-toggleable {background-color: white;}#sk-container-id-1 label.sk-toggleable__label {cursor: pointer;display: block;width: 100%;margin-bottom: 0;padding: 0.3em;box-sizing: border-box;text-align: center;}#sk-container-id-1 label.sk-toggleable__label-arrow:before {content: \"▸\";float: left;margin-right: 0.25em;color: #696969;}#sk-container-id-1 label.sk-toggleable__label-arrow:hover:before {color: black;}#sk-container-id-1 div.sk-estimator:hover label.sk-toggleable__label-arrow:before {color: black;}#sk-container-id-1 div.sk-toggleable__content {max-height: 0;max-width: 0;overflow: hidden;text-align: left;background-color: #f0f8ff;}#sk-container-id-1 div.sk-toggleable__content pre {margin: 0.2em;color: black;border-radius: 0.25em;background-color: #f0f8ff;}#sk-container-id-1 input.sk-toggleable__control:checked~div.sk-toggleable__content {max-height: 200px;max-width: 100%;overflow: auto;}#sk-container-id-1 input.sk-toggleable__control:checked~label.sk-toggleable__label-arrow:before {content: \"▾\";}#sk-container-id-1 div.sk-estimator input.sk-toggleable__control:checked~label.sk-toggleable__label {background-color: #d4ebff;}#sk-container-id-1 div.sk-label input.sk-toggleable__control:checked~label.sk-toggleable__label {background-color: #d4ebff;}#sk-container-id-1 input.sk-hidden--visually {border: 0;clip: rect(1px 1px 1px 1px);clip: rect(1px, 1px, 1px, 1px);height: 1px;margin: -1px;overflow: hidden;padding: 0;position: absolute;width: 1px;}#sk-container-id-1 div.sk-estimator {font-family: monospace;background-color: #f0f8ff;border: 1px dotted black;border-radius: 0.25em;box-sizing: border-box;margin-bottom: 0.5em;}#sk-container-id-1 div.sk-estimator:hover {background-color: #d4ebff;}#sk-container-id-1 div.sk-parallel-item::after {content: \"\";width: 100%;border-bottom: 1px solid gray;flex-grow: 1;}#sk-container-id-1 div.sk-label:hover label.sk-toggleable__label {background-color: #d4ebff;}#sk-container-id-1 div.sk-serial::before {content: \"\";position: absolute;border-left: 1px solid gray;box-sizing: border-box;top: 0;bottom: 0;left: 50%;z-index: 0;}#sk-container-id-1 div.sk-serial {display: flex;flex-direction: column;align-items: center;background-color: white;padding-right: 0.2em;padding-left: 0.2em;position: relative;}#sk-container-id-1 div.sk-item {position: relative;z-index: 1;}#sk-container-id-1 div.sk-parallel {display: flex;align-items: stretch;justify-content: center;background-color: white;position: relative;}#sk-container-id-1 div.sk-item::before, #sk-container-id-1 div.sk-parallel-item::before {content: \"\";position: absolute;border-left: 1px solid gray;box-sizing: border-box;top: 0;bottom: 0;left: 50%;z-index: -1;}#sk-container-id-1 div.sk-parallel-item {display: flex;flex-direction: column;z-index: 1;position: relative;background-color: white;}#sk-container-id-1 div.sk-parallel-item:first-child::after {align-self: flex-end;width: 50%;}#sk-container-id-1 div.sk-parallel-item:last-child::after {align-self: flex-start;width: 50%;}#sk-container-id-1 div.sk-parallel-item:only-child::after {width: 0;}#sk-container-id-1 div.sk-dashed-wrapped {border: 1px dashed gray;margin: 0 0.4em 0.5em 0.4em;box-sizing: border-box;padding-bottom: 0.4em;background-color: white;}#sk-container-id-1 div.sk-label label {font-family: monospace;font-weight: bold;display: inline-block;line-height: 1.2em;}#sk-container-id-1 div.sk-label-container {text-align: center;}#sk-container-id-1 div.sk-container {/* jupyter's `normalize.less` sets `[hidden] { display: none; }` but bootstrap.min.css set `[hidden] { display: none !important; }` so we also need the `!important` here to be able to override the default hidden behavior on the sphinx rendered scikit-learn.org. See: https://github.com/scikit-learn/scikit-learn/issues/21755 */display: inline-block !important;position: relative;}#sk-container-id-1 div.sk-text-repr-fallback {display: none;}</style><div id=\"sk-container-id-1\" class=\"sk-top-container\"><div class=\"sk-text-repr-fallback\"><pre>LogisticRegression(penalty=&#x27;l1&#x27;, solver=&#x27;liblinear&#x27;)</pre><b>In a Jupyter environment, please rerun this cell to show the HTML representation or trust the notebook. <br />On GitHub, the HTML representation is unable to render, please try loading this page with nbviewer.org.</b></div><div class=\"sk-container\" hidden><div class=\"sk-item\"><div class=\"sk-estimator sk-toggleable\"><input class=\"sk-toggleable__control sk-hidden--visually\" id=\"sk-estimator-id-1\" type=\"checkbox\" checked><label for=\"sk-estimator-id-1\" class=\"sk-toggleable__label sk-toggleable__label-arrow\">LogisticRegression</label><div class=\"sk-toggleable__content\"><pre>LogisticRegression(penalty=&#x27;l1&#x27;, solver=&#x27;liblinear&#x27;)</pre></div></div></div></div></div>"
      ],
      "text/plain": [
       "LogisticRegression(penalty='l1', solver='liblinear')"
      ]
     },
     "execution_count": 67,
     "metadata": {},
     "output_type": "execute_result"
    }
   ],
   "source": [
    "log_best = LogisticRegression(**best_clf.best_params_)\n",
    "log_best.fit(X_train_oversample,y_train_oversample)\n"
   ]
  },
  {
   "cell_type": "code",
   "execution_count": 68,
   "id": "482a4b00-21d6-4f27-80e5-bb4e9b6b1bb0",
   "metadata": {
    "tags": []
   },
   "outputs": [
    {
     "data": {
      "text/plain": [
       "0.903717321534291"
      ]
     },
     "execution_count": 68,
     "metadata": {},
     "output_type": "execute_result"
    }
   ],
   "source": [
    "log_pred2=log_best.predict(X_val)\n",
    "score_log=accuracy_score(y_val,log_pred2)\n",
    "score_log"
   ]
  },
  {
   "cell_type": "code",
   "execution_count": 69,
   "id": "36fe620a-3495-445c-aeb8-1a9276ab687d",
   "metadata": {
    "tags": []
   },
   "outputs": [
    {
     "name": "stdout",
     "output_type": "stream",
     "text": [
      "Train accuracy of Logistic Regression is 0.7638523093493096\n",
      "Accuracy (val) score of Logistic Regression is 0.903717321534291\n",
      "Accuracy (val) score of Logistic Regression is 0.903717321534291\n",
      "              precision    recall  f1-score   support\n",
      "\n",
      "           0       0.93      0.97      0.95     29624\n",
      "           1       0.27      0.15      0.20      2469\n",
      "\n",
      "    accuracy                           0.90     32093\n",
      "   macro avg       0.60      0.56      0.57     32093\n",
      "weighted avg       0.88      0.90      0.89     32093\n",
      "\n",
      "[[28626   998]\n",
      " [ 2092   377]]\n"
     ]
    }
   ],
   "source": [
    "from sklearn.metrics import accuracy_score\n",
    "print(\"Train accuracy of Logistic Regression is\", log_best.score(X_train_oversample, y_train_oversample))\n",
    "print(\"Accuracy (val) score of Logistic Regression is\", log_best.score(X_val, y_val))\n",
    "print(\"Accuracy (val) score of Logistic Regression is\", accuracy_score(y_val, log_pred2))\n",
    "\n",
    "from sklearn.metrics import classification_report, confusion_matrix\n",
    "print(classification_report(y_val, log_pred2))\n",
    "cm= confusion_matrix(y_val, log_pred2)\n",
    "print(confusion_matrix(y_val, log_pred2))"
   ]
  },
  {
   "cell_type": "markdown",
   "id": "2e28f7b8-b844-4959-b2ca-e8e765141332",
   "metadata": {},
   "source": [
    "### 2 Naive bayse classifier"
   ]
  },
  {
   "cell_type": "code",
   "execution_count": 72,
   "id": "82754bbd-cc39-4f65-a3bc-ba4a22670389",
   "metadata": {
    "tags": []
   },
   "outputs": [
    {
     "name": "stdout",
     "output_type": "stream",
     "text": [
      " Naive Bayes classifier is : 93.02340074159474 %\n"
     ]
    }
   ],
   "source": [
    "from sklearn.naive_bayes import GaussianNB\n",
    "\n",
    "nb_model = GaussianNB()\n",
    "\n",
    "nb_model.fit(X_train,y_train)\n",
    "print(' Naive Bayes classifier is :',nb_model.score(X_val,y_val)*100,'%')"
   ]
  },
  {
   "cell_type": "code",
   "execution_count": 74,
   "id": "06a0597b-57b6-4bd8-9ae7-92724e7c0999",
   "metadata": {
    "tags": []
   },
   "outputs": [
    {
     "name": "stdout",
     "output_type": "stream",
     "text": [
      "[0 0 0 ... 0 0 0]\n"
     ]
    }
   ],
   "source": [
    "nb_pred=nb_model.predict(X_val)\n",
    "print(nb_pred)"
   ]
  },
  {
   "cell_type": "code",
   "execution_count": 76,
   "id": "0f6b4ece-e1aa-4586-9524-4a8311314e9a",
   "metadata": {
    "tags": []
   },
   "outputs": [
    {
     "name": "stdout",
     "output_type": "stream",
     "text": [
      "Train accuracy of Naive Bayes classifier  is 0.6538963169896418\n",
      "Accuracy (val) score of Naive Bayes classifier is 0.9302340074159474\n",
      "Accuracy (val) score of Naive Bayes classifier  is 0.9302340074159474\n",
      "              precision    recall  f1-score   support\n",
      "\n",
      "           0       0.93      1.00      0.96     29624\n",
      "           1       0.95      0.10      0.18      2469\n",
      "\n",
      "    accuracy                           0.93     32093\n",
      "   macro avg       0.94      0.55      0.57     32093\n",
      "weighted avg       0.93      0.93      0.90     32093\n",
      "\n",
      "[[29610    14]\n",
      " [ 2225   244]]\n"
     ]
    }
   ],
   "source": [
    "from sklearn.metrics import accuracy_score\n",
    "print(\"Train accuracy of Naive Bayes classifier  is\", nb_model.score(X_train_oversample, y_train_oversample))\n",
    "print(\"Accuracy (val) score of Naive Bayes classifier is\", nb_model.score(X_val, y_val))\n",
    "print(\"Accuracy (val) score of Naive Bayes classifier  is\", accuracy_score(y_val, nb_pred))\n",
    "\n",
    "from sklearn.metrics import classification_report, confusion_matrix\n",
    "print(classification_report(y_val, nb_pred))\n",
    "cm= confusion_matrix(y_val, nb_pred)\n",
    "print(confusion_matrix(y_val, nb_pred))"
   ]
  },
  {
   "cell_type": "code",
   "execution_count": null,
   "id": "36f29771-64be-4d5f-bcb0-f77d2c76488f",
   "metadata": {},
   "outputs": [],
   "source": [
    "# no hyper parameter tuninf for naive bayse classifier."
   ]
  },
  {
   "cell_type": "markdown",
   "id": "0cdc5826-3027-4f3d-9630-5d081e09bf32",
   "metadata": {},
   "source": [
    "### 3.Random Forest Classifier"
   ]
  },
  {
   "cell_type": "code",
   "execution_count": 85,
   "id": "f563ea02-c00c-4356-8f04-ffe94df00c07",
   "metadata": {},
   "outputs": [
    {
     "name": "stdout",
     "output_type": "stream",
     "text": [
      "Random Forest Classifier :  72.36780606362758 %\n"
     ]
    }
   ],
   "source": [
    "from sklearn.ensemble import RandomForestClassifier\n",
    "rf=RandomForestClassifier()\n",
    "rf.fit(X_train_oversample,y_train_oversample)\n",
    "print('Random Forest Classifier : ', rf.score(X_val, y_val)*100, '%')"
   ]
  },
  {
   "cell_type": "code",
   "execution_count": 86,
   "id": "aea2546c-fd19-4ea2-a19e-b7d99dbee1c2",
   "metadata": {},
   "outputs": [
    {
     "name": "stdout",
     "output_type": "stream",
     "text": [
      "[1 0 0 ... 0 1 0]\n"
     ]
    }
   ],
   "source": [
    "rf_pred=rf.predict(X_val)\n",
    "print(rf_pred)"
   ]
  },
  {
   "cell_type": "code",
   "execution_count": 87,
   "id": "d290eec2-ff9a-496b-936f-8e14fac4b1f3",
   "metadata": {},
   "outputs": [
    {
     "name": "stdout",
     "output_type": "stream",
     "text": [
      "Train accuracy of Random Forest  is 0.8675479414016812\n",
      "Accuracy (val) score of Random Forest is 0.7236780606362758\n",
      "Accuracy (val) score ofRandom Forest  is 0.7236780606362758\n",
      "              precision    recall  f1-score   support\n",
      "\n",
      "           0       0.95      0.74      0.83     29624\n",
      "           1       0.15      0.58      0.24      2469\n",
      "\n",
      "    accuracy                           0.72     32093\n",
      "   macro avg       0.55      0.66      0.54     32093\n",
      "weighted avg       0.89      0.72      0.79     32093\n",
      "\n",
      "[[21804  7820]\n",
      " [ 1048  1421]]\n"
     ]
    }
   ],
   "source": [
    "from sklearn.metrics import accuracy_score\n",
    "print(\"Train accuracy of Random Forest  is\", rf.score(X_train_oversample, y_train_oversample))\n",
    "print(\"Accuracy (val) score of Random Forest is\", rf.score(X_val, y_val))\n",
    "print(\"Accuracy (val) score ofRandom Forest  is\", accuracy_score(y_val, rf_pred))\n",
    "\n",
    "from sklearn.metrics import classification_report, confusion_matrix\n",
    "print(classification_report(y_val, rf_pred))\n",
    "cm= confusion_matrix(y_val, rf_pred)\n",
    "print(confusion_matrix(y_val, rf_pred))"
   ]
  },
  {
   "cell_type": "code",
   "execution_count": 88,
   "id": "c2fe3dc8-e9f3-40b1-9114-1bd7e3342c6c",
   "metadata": {},
   "outputs": [
    {
     "name": "stdout",
     "output_type": "stream",
     "text": [
      "Best Parameters: RandomForestClassifier(max_depth=20, n_estimators=50, random_state=42)\n",
      "Best Score: 0.8672323997992072\n"
     ]
    }
   ],
   "source": [
    "# hyper parameter tuning for random forest\n",
    "from sklearn.metrics import accuracy_score,make_scorer\n",
    "from sklearn.model_selection import GridSearchCV\n",
    "rfc = RandomForestClassifier(random_state=42)\n",
    "param_grid = {'n_estimators': [50, 100, 200],\n",
    "              'max_depth': [5, 10, 15, 20, None],\n",
    "              'max_features': ['sqrt', 'log2'],\n",
    "              'bootstrap': [True, False]}\n",
    "\n",
    "\n",
    "scorer = make_scorer(accuracy_score)\n",
    "\n",
    "clf = GridSearchCV(rfc, param_grid, scoring=scorer)\n",
    "best_clf = clf.fit(X_train_oversample, y_train_oversample)\n",
    "print(\"Best Parameters:\", best_clf.best_estimator_)\n",
    "print(\"Best Score:\", best_clf.best_score_)"
   ]
  },
  {
   "cell_type": "code",
   "execution_count": 90,
   "id": "ad62a87f-60cc-47e8-bdcc-ad59453a3c9f",
   "metadata": {},
   "outputs": [
    {
     "name": "stdout",
     "output_type": "stream",
     "text": [
      "Random Forest Classifier :  74.49911195587823 %\n"
     ]
    }
   ],
   "source": [
    "# Training the model using the best hyperparameters.\n",
    "rfc_best = RandomForestClassifier(max_depth=20, n_estimators=50, random_state=42)\n",
    "rfc_best.fit(X_train_oversample, y_train_oversample)\n",
    "print('Random Forest Classifier : ', rfc_best.score(X_val, y_val)*100, '%')"
   ]
  },
  {
   "cell_type": "code",
   "execution_count": 91,
   "id": "2f0b8cfd-a7e4-49bb-8b34-91da1d104c34",
   "metadata": {},
   "outputs": [
    {
     "data": {
      "text/plain": [
       "0.7449911195587823"
      ]
     },
     "execution_count": 91,
     "metadata": {},
     "output_type": "execute_result"
    }
   ],
   "source": [
    "rfc_pred2 = rfc_best.predict(X_val)\n",
    "score_rfc=accuracy_score(y_val,rfc_pred2)\n",
    "score_rfc"
   ]
  },
  {
   "cell_type": "code",
   "execution_count": 92,
   "id": "b646f848-a92b-4535-bd11-1a66a05249ac",
   "metadata": {},
   "outputs": [
    {
     "name": "stdout",
     "output_type": "stream",
     "text": [
      "Train accuracy of Random Forest  is 0.8675479414016812\n",
      "Accuracy (val) score of Random Forest  is 0.7449911195587823\n",
      "Accuracy (val) score of Random Forest  is 0.7449911195587823\n",
      "              precision    recall  f1-score   support\n",
      "\n",
      "           0       0.95      0.76      0.85     29624\n",
      "           1       0.16      0.57      0.25      2469\n",
      "\n",
      "    accuracy                           0.74     32093\n",
      "   macro avg       0.56      0.66      0.55     32093\n",
      "weighted avg       0.89      0.74      0.80     32093\n",
      "\n",
      "[[22509  7115]\n",
      " [ 1069  1400]]\n"
     ]
    }
   ],
   "source": [
    "# performance measures for random forest\n",
    "from sklearn.metrics import accuracy_score\n",
    "print(\"Train accuracy of Random Forest  is\", rfc_best.score(X_train_oversample, y_train_oversample))\n",
    "print(\"Accuracy (val) score of Random Forest  is\", rfc_best.score(X_val, y_val))\n",
    "print(\"Accuracy (val) score of Random Forest  is\", accuracy_score(y_val, rfc_pred2))\n",
    "\n",
    "from sklearn.metrics import classification_report, confusion_matrix\n",
    "print(classification_report(y_val, rfc_pred2))\n",
    "cm= confusion_matrix(y_val, rfc_pred2)\n",
    "print(confusion_matrix(y_val, rfc_pred2))"
   ]
  },
  {
   "cell_type": "markdown",
   "id": "7c6d2184-ac56-4d94-afb2-12a55605fce3",
   "metadata": {},
   "source": [
    "### 4. Decision tree classifier"
   ]
  },
  {
   "cell_type": "code",
   "execution_count": 62,
   "id": "eed75aac-24c8-4507-9edf-8dc83458a9b4",
   "metadata": {
    "tags": []
   },
   "outputs": [
    {
     "name": "stdout",
     "output_type": "stream",
     "text": [
      "Decision tree classifier :  14.249213224067553 %\n"
     ]
    }
   ],
   "source": [
    "from sklearn.tree import DecisionTreeClassifier\n",
    "dt = DecisionTreeClassifier()\n",
    "dt.fit(X_train_oversample,y_train_oversample)\n",
    "print('Decision tree classifier : ', dt.score(X_val, y_val)*100, '%')"
   ]
  },
  {
   "cell_type": "code",
   "execution_count": 63,
   "id": "4e7be3c7-4a56-4f8c-be89-1b015ad2303e",
   "metadata": {},
   "outputs": [
    {
     "name": "stdout",
     "output_type": "stream",
     "text": [
      "[1 1 1 ... 1 1 1]\n"
     ]
    }
   ],
   "source": [
    "dt_pred=dt.predict(X_val)\n",
    "print(dt_pred)"
   ]
  },
  {
   "cell_type": "code",
   "execution_count": 64,
   "id": "7cd884cc-d5b7-4bae-ab34-4f14b3f89997",
   "metadata": {},
   "outputs": [
    {
     "name": "stdout",
     "output_type": "stream",
     "text": [
      "Train accuracy of Decision tree classifier is 0.8675479414016812\n",
      "Accuracy (val) score of Decision tree classifieris 0.14249213224067553\n",
      "Accuracy (val) score of Decision tree classifier  is 0.14249213224067553\n",
      "              precision    recall  f1-score   support\n",
      "\n",
      "           0       0.96      0.07      0.14     29624\n",
      "           1       0.08      0.96      0.15      2469\n",
      "\n",
      "    accuracy                           0.14     32093\n",
      "   macro avg       0.52      0.52      0.14     32093\n",
      "weighted avg       0.89      0.14      0.14     32093\n",
      "\n",
      "[[ 2196 27428]\n",
      " [   92  2377]]\n"
     ]
    }
   ],
   "source": [
    "from sklearn.metrics import accuracy_score\n",
    "print(\"Train accuracy of Decision tree classifier is\", dt.score(X_train_oversample, y_train_oversample))\n",
    "print(\"Accuracy (val) score of Decision tree classifieris\", dt.score(X_val, y_val))\n",
    "print(\"Accuracy (val) score of Decision tree classifier  is\", accuracy_score(y_val, dt_pred))\n",
    "\n",
    "from sklearn.metrics import classification_report, confusion_matrix\n",
    "print(classification_report(y_val, dt_pred))\n",
    "cm= confusion_matrix(y_val, dt_pred)\n",
    "print(confusion_matrix(y_val, dt_pred))"
   ]
  },
  {
   "cell_type": "code",
   "execution_count": 68,
   "id": "44e2a919-67cd-43d6-8353-5b63f9cdc7b3",
   "metadata": {},
   "outputs": [
    {
     "name": "stdout",
     "output_type": "stream",
     "text": [
      "Best parameters: {'max_depth': 9, 'min_samples_leaf': 2, 'min_samples_split': 2}\n",
      "Best Score: 0.8667443602322891\n"
     ]
    }
   ],
   "source": [
    "# hyper parameter tuning for Decision tree classifier\n",
    "from sklearn.metrics import make_scorer\n",
    "from sklearn.model_selection import GridSearchCV\n",
    "dtc = DecisionTreeClassifier(random_state=42)\n",
    "\n",
    "param_grid = {\n",
    "    'max_depth': [3, 5, 7, 9],\n",
    "    'min_samples_split': [2, 5, 10],\n",
    "    'min_samples_leaf': [1, 2, 4]\n",
    "}\n",
    "\n",
    "scorer = make_scorer(accuracy_score)\n",
    "\n",
    "clf = GridSearchCV(dtc, param_grid=param_grid, scoring=scorer, cv=5)\n",
    "best_clf = clf.fit(X_train_oversample, y_train_oversample)\n",
    "print('Best parameters:', best_clf.best_params_)\n",
    "print(\"Best Score:\", best_clf.best_score_)"
   ]
  },
  {
   "cell_type": "code",
   "execution_count": 70,
   "id": "243a4662-2341-4610-9b96-8d6ba78a9349",
   "metadata": {},
   "outputs": [
    {
     "name": "stdout",
     "output_type": "stream",
     "text": [
      "Decision tree classifier :  19.76443461190914 %\n"
     ]
    }
   ],
   "source": [
    "# Training the model using the best hyperparameters.\n",
    "dtc_best = DecisionTreeClassifier(max_depth =  9, min_samples_leaf= 2, min_samples_split = 2)\n",
    "dtc_best.fit(X_train_oversample, y_train_oversample)\n",
    "print('Decision tree classifier : ', dtc_best.score(X_val, y_val)*100, '%')"
   ]
  },
  {
   "cell_type": "code",
   "execution_count": 71,
   "id": "79ffe93f-72a4-4349-b857-d12524dfbf3c",
   "metadata": {},
   "outputs": [
    {
     "data": {
      "text/plain": [
       "0.1976443461190914"
      ]
     },
     "execution_count": 71,
     "metadata": {},
     "output_type": "execute_result"
    }
   ],
   "source": [
    "dtc_pred2 = dtc_best.predict(X_val)\n",
    "score_dtc=accuracy_score(y_val,dtc_pred2)\n",
    "score_dtc"
   ]
  },
  {
   "cell_type": "code",
   "execution_count": 72,
   "id": "23ed715a-c6ef-463b-bb8e-7e7b890a0699",
   "metadata": {},
   "outputs": [
    {
     "name": "stdout",
     "output_type": "stream",
     "text": [
      "Train accuracy of  Decision tree classifier  is 0.8670220374780172\n",
      "Accuracy (val) score of Decision tree classifier is 0.1976443461190914\n",
      "Accuracy (val) score of Decision tree classifier is 0.1976443461190914\n",
      "              precision    recall  f1-score   support\n",
      "\n",
      "           0       0.95      0.14      0.24     29624\n",
      "           1       0.08      0.92      0.15      2469\n",
      "\n",
      "    accuracy                           0.20     32093\n",
      "   macro avg       0.52      0.53      0.20     32093\n",
      "weighted avg       0.89      0.20      0.23     32093\n",
      "\n",
      "[[ 4068 25556]\n",
      " [  194  2275]]\n"
     ]
    }
   ],
   "source": [
    "from sklearn.metrics import accuracy_score\n",
    "print(\"Train accuracy of  Decision tree classifier  is\", dtc_best.score(X_train_oversample, y_train_oversample))\n",
    "print(\"Accuracy (val) score of Decision tree classifier is\", dtc_best.score(X_val, y_val))\n",
    "print(\"Accuracy (val) score of Decision tree classifier is\", accuracy_score(y_val, dtc_pred2))\n",
    "\n",
    "from sklearn.metrics import classification_report, confusion_matrix\n",
    "print(classification_report(y_val, dtc_pred2))\n",
    "cm= confusion_matrix(y_val, dtc_pred2)\n",
    "print(confusion_matrix(y_val, dtc_pred2))"
   ]
  },
  {
   "cell_type": "markdown",
   "id": "892f4991-ebc7-4b9a-8222-c182337b015a",
   "metadata": {},
   "source": [
    "### 5.Adaboost classifier\n",
    "\n"
   ]
  },
  {
   "cell_type": "code",
   "execution_count": 77,
   "id": "cd99f1d8-d7f8-4731-a88c-4a67c7e3da07",
   "metadata": {},
   "outputs": [
    {
     "name": "stdout",
     "output_type": "stream",
     "text": [
      "Adaboost classifier :  84.02766958526782 %\n"
     ]
    }
   ],
   "source": [
    "from sklearn.ensemble import AdaBoostClassifier\n",
    "adaboost = AdaBoostClassifier()\n",
    "adaboost.fit( X_train_oversample,y_train_oversample)\n",
    "print('Adaboost classifier : ', adaboost.score(X_val, y_val)*100, '%')"
   ]
  },
  {
   "cell_type": "code",
   "execution_count": 78,
   "id": "f444db19-44f2-4ed7-a2b8-714eee67d643",
   "metadata": {},
   "outputs": [
    {
     "name": "stdout",
     "output_type": "stream",
     "text": [
      "[0 0 0 ... 0 1 0]\n"
     ]
    }
   ],
   "source": [
    "ada_pred=adaboost.predict(X_val)\n",
    "print(ada_pred)"
   ]
  },
  {
   "cell_type": "code",
   "execution_count": 79,
   "id": "ecda5b94-0767-4885-99b2-5fab71556148",
   "metadata": {},
   "outputs": [
    {
     "name": "stdout",
     "output_type": "stream",
     "text": [
      "Train accuracy of Adaboost classifier is 0.8472817077993655\n",
      "Accuracy (val) score of Adaboost  classifier is 0.8402766958526782\n",
      "Accuracy (val) score of Adaboost  classifier  is 0.8402766958526782\n",
      "              precision    recall  f1-score   support\n",
      "\n",
      "           0       0.93      0.90      0.91     29624\n",
      "           1       0.11      0.16      0.13      2469\n",
      "\n",
      "    accuracy                           0.84     32093\n",
      "   macro avg       0.52      0.53      0.52     32093\n",
      "weighted avg       0.86      0.84      0.85     32093\n",
      "\n",
      "[[26577  3047]\n",
      " [ 2079   390]]\n"
     ]
    }
   ],
   "source": [
    "from sklearn.metrics import accuracy_score\n",
    "print(\"Train accuracy of Adaboost classifier is\", adaboost.score(X_train_oversample, y_train_oversample))\n",
    "print(\"Accuracy (val) score of Adaboost  classifier is\", adaboost.score(X_val, y_val))\n",
    "print(\"Accuracy (val) score of Adaboost  classifier  is\", accuracy_score(y_val, ada_pred))\n",
    "\n",
    "from sklearn.metrics import classification_report, confusion_matrix\n",
    "print(classification_report(y_val, ada_pred))\n",
    "cm= confusion_matrix(y_val, ada_pred)\n",
    "print(confusion_matrix(y_val, ada_pred))"
   ]
  },
  {
   "cell_type": "code",
   "execution_count": 80,
   "id": "6a5df540-8980-4157-ae2b-ce4f71f43349",
   "metadata": {},
   "outputs": [
    {
     "name": "stdout",
     "output_type": "stream",
     "text": [
      "Best Hyperparameters for AdaBoost:  {'learning_rate': 0.1, 'n_estimators': 200}\n",
      "Best Score: 0.8455146687640571\n"
     ]
    }
   ],
   "source": [
    "# hyper parameter tuning for Adaboost classifier\n",
    "from sklearn.model_selection import GridSearchCV\n",
    "adac =AdaBoostClassifier()\n",
    "adaboost_params = {'n_estimators': [50, 100, 200],\n",
    "                   'learning_rate': [0.1, 0.01, 0.001]}\n",
    "\n",
    "clf = GridSearchCV(adac, adaboost_params, cv=5)\n",
    "best_clf = clf.fit(X_train_oversample, y_train_oversample)\n",
    "\n",
    "print(\"Best Hyperparameters for AdaBoost: \", best_clf.best_params_)\n",
    "print(\"Best Score:\", best_clf.best_score_)"
   ]
  },
  {
   "cell_type": "code",
   "execution_count": 81,
   "id": "538b4448-97c2-4917-865f-581a6d2940fc",
   "metadata": {},
   "outputs": [
    {
     "name": "stdout",
     "output_type": "stream",
     "text": [
      "Adaboost classifier :  84.02766958526782 %\n"
     ]
    }
   ],
   "source": [
    "# Training the model using the best hyperparameters.\n",
    "ada_best = AdaBoostClassifier(learning_rate = 0.1, n_estimators = 200)\n",
    "ada_best.fit(X_train_oversample, y_train_oversample)\n",
    "print('Adaboost classifier : ', ada_best.score(X_val, y_val)*100, '%')"
   ]
  },
  {
   "cell_type": "code",
   "execution_count": 82,
   "id": "ae7a57aa-cc43-481a-a3f0-1cd32e1eafda",
   "metadata": {},
   "outputs": [
    {
     "data": {
      "text/plain": [
       "0.8402766958526782"
      ]
     },
     "execution_count": 82,
     "metadata": {},
     "output_type": "execute_result"
    }
   ],
   "source": [
    "ada_pred2 = ada_best.predict(X_val)\n",
    "score_ada=accuracy_score(y_val,ada_pred2)\n",
    "score_ada"
   ]
  },
  {
   "cell_type": "code",
   "execution_count": 83,
   "id": "6989b07d-7076-4003-985f-563dc2f47d2a",
   "metadata": {},
   "outputs": [
    {
     "name": "stdout",
     "output_type": "stream",
     "text": [
      "Train accuracy of  Adaboost classifier  is 0.8448877931388471\n",
      "Accuracy (val) score of Adaboost classifier is 0.8402766958526782\n",
      "Accuracy (val) score of Adaboost classifier is 0.8402766958526782\n",
      "              precision    recall  f1-score   support\n",
      "\n",
      "           0       0.93      0.90      0.91     29624\n",
      "           1       0.11      0.16      0.13      2469\n",
      "\n",
      "    accuracy                           0.84     32093\n",
      "   macro avg       0.52      0.53      0.52     32093\n",
      "weighted avg       0.86      0.84      0.85     32093\n",
      "\n",
      "[[26577  3047]\n",
      " [ 2079   390]]\n"
     ]
    }
   ],
   "source": [
    "from sklearn.metrics import accuracy_score\n",
    "print(\"Train accuracy of  Adaboost classifier  is\", ada_best.score(X_train_oversample, y_train_oversample))\n",
    "print(\"Accuracy (val) score of Adaboost classifier is\", ada_best.score(X_val, y_val))\n",
    "print(\"Accuracy (val) score of Adaboost classifier is\", accuracy_score(y_val, ada_pred2))\n",
    "\n",
    "from sklearn.metrics import classification_report, confusion_matrix\n",
    "print(classification_report(y_val, ada_pred2))\n",
    "cm= confusion_matrix(y_val, ada_pred2)\n",
    "print(confusion_matrix(y_val, ada_pred2))"
   ]
  },
  {
   "cell_type": "markdown",
   "id": "9f667f84-9871-410c-839d-6a3e3968a44a",
   "metadata": {
    "tags": []
   },
   "source": [
    "# conclusion :"
   ]
  },
  {
   "cell_type": "markdown",
   "id": "f63f0bc1-814e-4678-b924-0ca0172a75f5",
   "metadata": {},
   "source": [
    "From above we can see that Random forest classifier is giving good training accuracy of 0.8672323997992072 i.e 86.72% with these hyperparameters (max_depth=20, n_estimators=50, random_state=42) and testing accuracy 0.7449 i.e 74.49% of  after hyper parameter tuning so we use this model for our problem."
   ]
  },
  {
   "cell_type": "markdown",
   "id": "720a63d8-9c41-4868-8869-476c5e675d7b",
   "metadata": {},
   "source": [
    "# SQL Analysis:"
   ]
  },
  {
   "cell_type": "code",
   "execution_count": null,
   "id": "8d753004-e16d-4706-8c3b-cb6f5d8531f3",
   "metadata": {},
   "outputs": [],
   "source": [
    "Use MySQL or PyMySQL to perform the below queries."
   ]
  },
  {
   "cell_type": "code",
   "execution_count": 89,
   "id": "5d897e3c-1eea-47d3-9c0f-8933f2f6a7fa",
   "metadata": {
    "tags": []
   },
   "outputs": [
    {
     "name": "stdout",
     "output_type": "stream",
     "text": [
      "Requirement already satisfied: duckdb in c:\\users\\priyanka\\anaconda3\\lib\\site-packages (0.9.2)\n",
      "Requirement already satisfied: pandas in c:\\users\\priyanka\\anaconda3\\lib\\site-packages (2.0.3)\n",
      "Requirement already satisfied: python-dateutil>=2.8.2 in c:\\users\\priyanka\\anaconda3\\lib\\site-packages (from pandas) (2.8.2)\n",
      "Requirement already satisfied: pytz>=2020.1 in c:\\users\\priyanka\\anaconda3\\lib\\site-packages (from pandas) (2023.3.post1)\n",
      "Requirement already satisfied: tzdata>=2022.1 in c:\\users\\priyanka\\anaconda3\\lib\\site-packages (from pandas) (2023.3)\n",
      "Requirement already satisfied: numpy>=1.21.0 in c:\\users\\priyanka\\anaconda3\\lib\\site-packages (from pandas) (1.24.3)\n",
      "Requirement already satisfied: six>=1.5 in c:\\users\\priyanka\\anaconda3\\lib\\site-packages (from python-dateutil>=2.8.2->pandas) (1.16.0)\n",
      "Note: you may need to restart the kernel to use updated packages.\n"
     ]
    }
   ],
   "source": [
    "pip install duckdb pandas"
   ]
  },
  {
   "cell_type": "code",
   "execution_count": 71,
   "id": "f1529c39-3540-430b-81f5-61ae98afa16b",
   "metadata": {
    "tags": []
   },
   "outputs": [],
   "source": [
    "data = pd.read_csv('cleaned_data.csv')"
   ]
  },
  {
   "cell_type": "code",
   "execution_count": 105,
   "id": "3f6ec169-50df-4469-ae20-230083dcad46",
   "metadata": {
    "tags": []
   },
   "outputs": [],
   "source": [
    "# convet date column datatype from object to date type.\n",
    "from datetime import datetime\n",
    "data['Test_date'] = pd.to_datetime(data['Test_date'], format=\"%d-%m-%Y\")\n"
   ]
  },
  {
   "cell_type": "code",
   "execution_count": 106,
   "id": "c524ad55-8776-46f9-851b-f44bac6475c0",
   "metadata": {
    "tags": []
   },
   "outputs": [
    {
     "name": "stdout",
     "output_type": "stream",
     "text": [
      "<class 'pandas.core.frame.DataFrame'>\n",
      "RangeIndex: 274702 entries, 0 to 274701\n",
      "Data columns (total 10 columns):\n",
      " #   Column               Non-Null Count   Dtype         \n",
      "---  ------               --------------   -----         \n",
      " 0   Test_date            274702 non-null  datetime64[ns]\n",
      " 1   Cough_symptoms       274702 non-null  bool          \n",
      " 2   Fever                274702 non-null  bool          \n",
      " 3   Sore_throat          274702 non-null  bool          \n",
      " 4   Shortness_of_breath  274702 non-null  bool          \n",
      " 5   Headache             274702 non-null  bool          \n",
      " 6   Corona               274702 non-null  object        \n",
      " 7   Age_60_above         274702 non-null  object        \n",
      " 8   Sex                  274702 non-null  object        \n",
      " 9   Known_contact        274702 non-null  object        \n",
      "dtypes: bool(5), datetime64[ns](1), object(4)\n",
      "memory usage: 11.8+ MB\n"
     ]
    }
   ],
   "source": [
    "data.info()"
   ]
  },
  {
   "cell_type": "code",
   "execution_count": 107,
   "id": "5cb59eac-2b92-4471-9e4c-a887fa288a61",
   "metadata": {
    "tags": []
   },
   "outputs": [],
   "source": [
    "import duckdb"
   ]
  },
  {
   "cell_type": "code",
   "execution_count": 108,
   "id": "b5b7e6d0-b7c4-4188-b2b8-b671888dcb9d",
   "metadata": {
    "tags": []
   },
   "outputs": [],
   "source": [
    "conn = duckdb.connect()"
   ]
  },
  {
   "cell_type": "code",
   "execution_count": 109,
   "id": "d4867c32-4dbb-4e74-994b-fec287b0e2b1",
   "metadata": {
    "tags": []
   },
   "outputs": [
    {
     "data": {
      "text/plain": [
       "<duckdb.duckdb.DuckDBPyConnection at 0x1c114a8d2f0>"
      ]
     },
     "execution_count": 109,
     "metadata": {},
     "output_type": "execute_result"
    }
   ],
   "source": [
    "conn.register(\"data\",data)"
   ]
  },
  {
   "cell_type": "code",
   "execution_count": 110,
   "id": "2262ac23-60a6-4555-a929-ba38232f7bcd",
   "metadata": {
    "tags": []
   },
   "outputs": [
    {
     "data": {
      "text/html": [
       "<div>\n",
       "<style scoped>\n",
       "    .dataframe tbody tr th:only-of-type {\n",
       "        vertical-align: middle;\n",
       "    }\n",
       "\n",
       "    .dataframe tbody tr th {\n",
       "        vertical-align: top;\n",
       "    }\n",
       "\n",
       "    .dataframe thead th {\n",
       "        text-align: right;\n",
       "    }\n",
       "</style>\n",
       "<table border=\"1\" class=\"dataframe\">\n",
       "  <thead>\n",
       "    <tr style=\"text-align: right;\">\n",
       "      <th></th>\n",
       "      <th>name</th>\n",
       "    </tr>\n",
       "  </thead>\n",
       "  <tbody>\n",
       "    <tr>\n",
       "      <th>0</th>\n",
       "      <td>data</td>\n",
       "    </tr>\n",
       "  </tbody>\n",
       "</table>\n",
       "</div>"
      ],
      "text/plain": [
       "   name\n",
       "0  data"
      ]
     },
     "metadata": {},
     "output_type": "display_data"
    }
   ],
   "source": [
    "display(conn.execute('SHOW TABLES').df())"
   ]
  },
  {
   "cell_type": "code",
   "execution_count": 111,
   "id": "2ecee38e-2a50-48ef-9f1e-45322d1365ba",
   "metadata": {
    "tags": []
   },
   "outputs": [
    {
     "data": {
      "text/html": [
       "<div>\n",
       "<style scoped>\n",
       "    .dataframe tbody tr th:only-of-type {\n",
       "        vertical-align: middle;\n",
       "    }\n",
       "\n",
       "    .dataframe tbody tr th {\n",
       "        vertical-align: top;\n",
       "    }\n",
       "\n",
       "    .dataframe thead th {\n",
       "        text-align: right;\n",
       "    }\n",
       "</style>\n",
       "<table border=\"1\" class=\"dataframe\">\n",
       "  <thead>\n",
       "    <tr style=\"text-align: right;\">\n",
       "      <th></th>\n",
       "      <th>Test_date</th>\n",
       "      <th>Cough_symptoms</th>\n",
       "      <th>Fever</th>\n",
       "      <th>Sore_throat</th>\n",
       "      <th>Shortness_of_breath</th>\n",
       "      <th>Headache</th>\n",
       "      <th>Corona</th>\n",
       "      <th>Age_60_above</th>\n",
       "      <th>Sex</th>\n",
       "      <th>Known_contact</th>\n",
       "    </tr>\n",
       "  </thead>\n",
       "  <tbody>\n",
       "    <tr>\n",
       "      <th>0</th>\n",
       "      <td>2020-03-11</td>\n",
       "      <td>True</td>\n",
       "      <td>False</td>\n",
       "      <td>True</td>\n",
       "      <td>False</td>\n",
       "      <td>False</td>\n",
       "      <td>negative</td>\n",
       "      <td>Unknown</td>\n",
       "      <td>Unknown</td>\n",
       "      <td>Abroad</td>\n",
       "    </tr>\n",
       "    <tr>\n",
       "      <th>1</th>\n",
       "      <td>2020-03-11</td>\n",
       "      <td>False</td>\n",
       "      <td>True</td>\n",
       "      <td>False</td>\n",
       "      <td>False</td>\n",
       "      <td>False</td>\n",
       "      <td>positive</td>\n",
       "      <td>Unknown</td>\n",
       "      <td>Unknown</td>\n",
       "      <td>Abroad</td>\n",
       "    </tr>\n",
       "    <tr>\n",
       "      <th>2</th>\n",
       "      <td>2020-03-11</td>\n",
       "      <td>False</td>\n",
       "      <td>True</td>\n",
       "      <td>False</td>\n",
       "      <td>False</td>\n",
       "      <td>False</td>\n",
       "      <td>positive</td>\n",
       "      <td>Unknown</td>\n",
       "      <td>Unknown</td>\n",
       "      <td>Abroad</td>\n",
       "    </tr>\n",
       "    <tr>\n",
       "      <th>3</th>\n",
       "      <td>2020-03-11</td>\n",
       "      <td>True</td>\n",
       "      <td>False</td>\n",
       "      <td>False</td>\n",
       "      <td>False</td>\n",
       "      <td>False</td>\n",
       "      <td>negative</td>\n",
       "      <td>Unknown</td>\n",
       "      <td>Unknown</td>\n",
       "      <td>Abroad</td>\n",
       "    </tr>\n",
       "    <tr>\n",
       "      <th>4</th>\n",
       "      <td>2020-03-11</td>\n",
       "      <td>True</td>\n",
       "      <td>False</td>\n",
       "      <td>False</td>\n",
       "      <td>False</td>\n",
       "      <td>False</td>\n",
       "      <td>negative</td>\n",
       "      <td>Unknown</td>\n",
       "      <td>Unknown</td>\n",
       "      <td>Contact with confirmed</td>\n",
       "    </tr>\n",
       "    <tr>\n",
       "      <th>...</th>\n",
       "      <td>...</td>\n",
       "      <td>...</td>\n",
       "      <td>...</td>\n",
       "      <td>...</td>\n",
       "      <td>...</td>\n",
       "      <td>...</td>\n",
       "      <td>...</td>\n",
       "      <td>...</td>\n",
       "      <td>...</td>\n",
       "      <td>...</td>\n",
       "    </tr>\n",
       "    <tr>\n",
       "      <th>274697</th>\n",
       "      <td>2020-04-30</td>\n",
       "      <td>False</td>\n",
       "      <td>False</td>\n",
       "      <td>False</td>\n",
       "      <td>False</td>\n",
       "      <td>False</td>\n",
       "      <td>positive</td>\n",
       "      <td>Unknown</td>\n",
       "      <td>male</td>\n",
       "      <td>Other</td>\n",
       "    </tr>\n",
       "    <tr>\n",
       "      <th>274698</th>\n",
       "      <td>2020-04-30</td>\n",
       "      <td>False</td>\n",
       "      <td>False</td>\n",
       "      <td>False</td>\n",
       "      <td>False</td>\n",
       "      <td>False</td>\n",
       "      <td>negative</td>\n",
       "      <td>Unknown</td>\n",
       "      <td>female</td>\n",
       "      <td>Other</td>\n",
       "    </tr>\n",
       "    <tr>\n",
       "      <th>274699</th>\n",
       "      <td>2020-04-30</td>\n",
       "      <td>False</td>\n",
       "      <td>False</td>\n",
       "      <td>False</td>\n",
       "      <td>False</td>\n",
       "      <td>False</td>\n",
       "      <td>negative</td>\n",
       "      <td>Unknown</td>\n",
       "      <td>male</td>\n",
       "      <td>Other</td>\n",
       "    </tr>\n",
       "    <tr>\n",
       "      <th>274700</th>\n",
       "      <td>2020-04-30</td>\n",
       "      <td>False</td>\n",
       "      <td>False</td>\n",
       "      <td>False</td>\n",
       "      <td>False</td>\n",
       "      <td>False</td>\n",
       "      <td>negative</td>\n",
       "      <td>Unknown</td>\n",
       "      <td>male</td>\n",
       "      <td>Other</td>\n",
       "    </tr>\n",
       "    <tr>\n",
       "      <th>274701</th>\n",
       "      <td>2020-04-30</td>\n",
       "      <td>False</td>\n",
       "      <td>False</td>\n",
       "      <td>False</td>\n",
       "      <td>False</td>\n",
       "      <td>False</td>\n",
       "      <td>negative</td>\n",
       "      <td>Unknown</td>\n",
       "      <td>female</td>\n",
       "      <td>Other</td>\n",
       "    </tr>\n",
       "  </tbody>\n",
       "</table>\n",
       "<p>274702 rows × 10 columns</p>\n",
       "</div>"
      ],
      "text/plain": [
       "        Test_date  Cough_symptoms  Fever  Sore_throat  Shortness_of_breath  \\\n",
       "0      2020-03-11            True  False         True                False   \n",
       "1      2020-03-11           False   True        False                False   \n",
       "2      2020-03-11           False   True        False                False   \n",
       "3      2020-03-11            True  False        False                False   \n",
       "4      2020-03-11            True  False        False                False   \n",
       "...           ...             ...    ...          ...                  ...   \n",
       "274697 2020-04-30           False  False        False                False   \n",
       "274698 2020-04-30           False  False        False                False   \n",
       "274699 2020-04-30           False  False        False                False   \n",
       "274700 2020-04-30           False  False        False                False   \n",
       "274701 2020-04-30           False  False        False                False   \n",
       "\n",
       "        Headache    Corona Age_60_above      Sex           Known_contact  \n",
       "0          False  negative      Unknown  Unknown                  Abroad  \n",
       "1          False  positive      Unknown  Unknown                  Abroad  \n",
       "2          False  positive      Unknown  Unknown                  Abroad  \n",
       "3          False  negative      Unknown  Unknown                  Abroad  \n",
       "4          False  negative      Unknown  Unknown  Contact with confirmed  \n",
       "...          ...       ...          ...      ...                     ...  \n",
       "274697     False  positive      Unknown     male                   Other  \n",
       "274698     False  negative      Unknown   female                   Other  \n",
       "274699     False  negative      Unknown     male                   Other  \n",
       "274700     False  negative      Unknown     male                   Other  \n",
       "274701     False  negative      Unknown   female                   Other  \n",
       "\n",
       "[274702 rows x 10 columns]"
      ]
     },
     "execution_count": 111,
     "metadata": {},
     "output_type": "execute_result"
    }
   ],
   "source": [
    "df = conn.execute(\n",
    "         \"SELECT * FROM data \").df()\n",
    "\n",
    "df"
   ]
  },
  {
   "cell_type": "code",
   "execution_count": null,
   "id": "3792b895-0360-4011-ada8-6f884cb4f17d",
   "metadata": {},
   "outputs": [],
   "source": [
    "# 1.Find the number of corona patients who faced shortness of breath."
   ]
  },
  {
   "cell_type": "code",
   "execution_count": 112,
   "id": "44593c77-c420-46fa-a1ad-66d5842b07cb",
   "metadata": {
    "tags": []
   },
   "outputs": [
    {
     "data": {
      "text/html": [
       "<div>\n",
       "<style scoped>\n",
       "    .dataframe tbody tr th:only-of-type {\n",
       "        vertical-align: middle;\n",
       "    }\n",
       "\n",
       "    .dataframe tbody tr th {\n",
       "        vertical-align: top;\n",
       "    }\n",
       "\n",
       "    .dataframe thead th {\n",
       "        text-align: right;\n",
       "    }\n",
       "</style>\n",
       "<table border=\"1\" class=\"dataframe\">\n",
       "  <thead>\n",
       "    <tr style=\"text-align: right;\">\n",
       "      <th></th>\n",
       "      <th>shortness_of_breath</th>\n",
       "    </tr>\n",
       "  </thead>\n",
       "  <tbody>\n",
       "    <tr>\n",
       "      <th>0</th>\n",
       "      <td>1546</td>\n",
       "    </tr>\n",
       "  </tbody>\n",
       "</table>\n",
       "</div>"
      ],
      "text/plain": [
       "   shortness_of_breath\n",
       "0                 1546"
      ]
     },
     "execution_count": 112,
     "metadata": {},
     "output_type": "execute_result"
    }
   ],
   "source": [
    "df = conn.execute(\"SELECT count(*) as 'shortness_of_breath' FROM data WHERE Shortness_of_breath = 'True' \").df()\n",
    "df"
   ]
  },
  {
   "cell_type": "code",
   "execution_count": null,
   "id": "35bda559-2105-470f-b65f-5585ced91378",
   "metadata": {},
   "outputs": [],
   "source": [
    "# 2.Find the number of negative corona patients who have fever and sore_throat."
   ]
  },
  {
   "cell_type": "code",
   "execution_count": 113,
   "id": "4d036ab8-36ff-49cf-a6f4-e9385d71fc02",
   "metadata": {
    "tags": []
   },
   "outputs": [
    {
     "data": {
      "text/html": [
       "<div>\n",
       "<style scoped>\n",
       "    .dataframe tbody tr th:only-of-type {\n",
       "        vertical-align: middle;\n",
       "    }\n",
       "\n",
       "    .dataframe tbody tr th {\n",
       "        vertical-align: top;\n",
       "    }\n",
       "\n",
       "    .dataframe thead th {\n",
       "        text-align: right;\n",
       "    }\n",
       "</style>\n",
       "<table border=\"1\" class=\"dataframe\">\n",
       "  <thead>\n",
       "    <tr style=\"text-align: right;\">\n",
       "      <th></th>\n",
       "      <th>count_star()</th>\n",
       "    </tr>\n",
       "  </thead>\n",
       "  <tbody>\n",
       "    <tr>\n",
       "      <th>0</th>\n",
       "      <td>121</td>\n",
       "    </tr>\n",
       "  </tbody>\n",
       "</table>\n",
       "</div>"
      ],
      "text/plain": [
       "   count_star()\n",
       "0           121"
      ]
     },
     "execution_count": 113,
     "metadata": {},
     "output_type": "execute_result"
    }
   ],
   "source": [
    "df = conn.execute(\" SELECT COUNT(*) FROM  data WHERE Fever = 'True' AND Sore_throat = 'True' AND Corona = 'negative' \") .df()\n",
    "df"
   ]
  },
  {
   "cell_type": "code",
   "execution_count": 114,
   "id": "b72dde8c-e5d0-4b50-80f7-ef953e40db07",
   "metadata": {
    "tags": []
   },
   "outputs": [
    {
     "data": {
      "text/html": [
       "<div>\n",
       "<style scoped>\n",
       "    .dataframe tbody tr th:only-of-type {\n",
       "        vertical-align: middle;\n",
       "    }\n",
       "\n",
       "    .dataframe tbody tr th {\n",
       "        vertical-align: top;\n",
       "    }\n",
       "\n",
       "    .dataframe thead th {\n",
       "        text-align: right;\n",
       "    }\n",
       "</style>\n",
       "<table border=\"1\" class=\"dataframe\">\n",
       "  <thead>\n",
       "    <tr style=\"text-align: right;\">\n",
       "      <th></th>\n",
       "      <th>Month</th>\n",
       "      <th>Number of positive cases</th>\n",
       "    </tr>\n",
       "  </thead>\n",
       "  <tbody>\n",
       "    <tr>\n",
       "      <th>0</th>\n",
       "      <td>4</td>\n",
       "      <td>8862</td>\n",
       "    </tr>\n",
       "    <tr>\n",
       "      <th>1</th>\n",
       "      <td>3</td>\n",
       "      <td>5832</td>\n",
       "    </tr>\n",
       "  </tbody>\n",
       "</table>\n",
       "</div>"
      ],
      "text/plain": [
       "   Month  Number of positive cases\n",
       "0      4                      8862\n",
       "1      3                      5832"
      ]
     },
     "execution_count": 114,
     "metadata": {},
     "output_type": "execute_result"
    }
   ],
   "source": [
    "# 3. Group the data by month and rank the number of positive cases.\n",
    "df = conn.execute(\"SELECT month(Test_date) AS 'Month', COUNT(*) AS 'Number of positive cases' FROM data WHERE Corona = 'positive' GROUP BY Month ORDER BY COUNT(*) DESC\" ).df()\n",
    "df"
   ]
  },
  {
   "cell_type": "code",
   "execution_count": null,
   "id": "92d46c50-272f-4628-9a2a-20a5991fa271",
   "metadata": {},
   "outputs": [],
   "source": [
    "# 4. Find the female negative corona patients who faced cough and headache."
   ]
  },
  {
   "cell_type": "code",
   "execution_count": 81,
   "id": "b7e1c5f9-7afd-4863-8aa0-1d77a2a30aa3",
   "metadata": {
    "tags": []
   },
   "outputs": [
    {
     "data": {
      "text/html": [
       "<div>\n",
       "<style scoped>\n",
       "    .dataframe tbody tr th:only-of-type {\n",
       "        vertical-align: middle;\n",
       "    }\n",
       "\n",
       "    .dataframe tbody tr th {\n",
       "        vertical-align: top;\n",
       "    }\n",
       "\n",
       "    .dataframe thead th {\n",
       "        text-align: right;\n",
       "    }\n",
       "</style>\n",
       "<table border=\"1\" class=\"dataframe\">\n",
       "  <thead>\n",
       "    <tr style=\"text-align: right;\">\n",
       "      <th></th>\n",
       "      <th>Test_date</th>\n",
       "      <th>Cough_symptoms</th>\n",
       "      <th>Fever</th>\n",
       "      <th>Sore_throat</th>\n",
       "      <th>Shortness_of_breath</th>\n",
       "      <th>Headache</th>\n",
       "      <th>Corona</th>\n",
       "      <th>Age_60_above</th>\n",
       "      <th>Sex</th>\n",
       "      <th>Known_contact</th>\n",
       "    </tr>\n",
       "  </thead>\n",
       "  <tbody>\n",
       "    <tr>\n",
       "      <th>0</th>\n",
       "      <td>22-03-2020</td>\n",
       "      <td>True</td>\n",
       "      <td>True</td>\n",
       "      <td>True</td>\n",
       "      <td>False</td>\n",
       "      <td>True</td>\n",
       "      <td>negative</td>\n",
       "      <td>No</td>\n",
       "      <td>female</td>\n",
       "      <td>Abroad</td>\n",
       "    </tr>\n",
       "    <tr>\n",
       "      <th>1</th>\n",
       "      <td>22-03-2020</td>\n",
       "      <td>True</td>\n",
       "      <td>True</td>\n",
       "      <td>True</td>\n",
       "      <td>False</td>\n",
       "      <td>True</td>\n",
       "      <td>negative</td>\n",
       "      <td>No</td>\n",
       "      <td>female</td>\n",
       "      <td>Abroad</td>\n",
       "    </tr>\n",
       "    <tr>\n",
       "      <th>2</th>\n",
       "      <td>23-03-2020</td>\n",
       "      <td>True</td>\n",
       "      <td>False</td>\n",
       "      <td>True</td>\n",
       "      <td>False</td>\n",
       "      <td>True</td>\n",
       "      <td>negative</td>\n",
       "      <td>No</td>\n",
       "      <td>female</td>\n",
       "      <td>Abroad</td>\n",
       "    </tr>\n",
       "    <tr>\n",
       "      <th>3</th>\n",
       "      <td>23-03-2020</td>\n",
       "      <td>True</td>\n",
       "      <td>True</td>\n",
       "      <td>False</td>\n",
       "      <td>False</td>\n",
       "      <td>True</td>\n",
       "      <td>negative</td>\n",
       "      <td>No</td>\n",
       "      <td>female</td>\n",
       "      <td>Other</td>\n",
       "    </tr>\n",
       "    <tr>\n",
       "      <th>4</th>\n",
       "      <td>23-03-2020</td>\n",
       "      <td>True</td>\n",
       "      <td>False</td>\n",
       "      <td>True</td>\n",
       "      <td>True</td>\n",
       "      <td>True</td>\n",
       "      <td>negative</td>\n",
       "      <td>No</td>\n",
       "      <td>female</td>\n",
       "      <td>Contact with confirmed</td>\n",
       "    </tr>\n",
       "    <tr>\n",
       "      <th>5</th>\n",
       "      <td>23-03-2020</td>\n",
       "      <td>True</td>\n",
       "      <td>True</td>\n",
       "      <td>False</td>\n",
       "      <td>False</td>\n",
       "      <td>True</td>\n",
       "      <td>negative</td>\n",
       "      <td>Yes</td>\n",
       "      <td>female</td>\n",
       "      <td>Abroad</td>\n",
       "    </tr>\n",
       "    <tr>\n",
       "      <th>6</th>\n",
       "      <td>23-03-2020</td>\n",
       "      <td>True</td>\n",
       "      <td>True</td>\n",
       "      <td>False</td>\n",
       "      <td>False</td>\n",
       "      <td>True</td>\n",
       "      <td>negative</td>\n",
       "      <td>No</td>\n",
       "      <td>female</td>\n",
       "      <td>Contact with confirmed</td>\n",
       "    </tr>\n",
       "    <tr>\n",
       "      <th>7</th>\n",
       "      <td>27-03-2020</td>\n",
       "      <td>True</td>\n",
       "      <td>True</td>\n",
       "      <td>True</td>\n",
       "      <td>True</td>\n",
       "      <td>True</td>\n",
       "      <td>negative</td>\n",
       "      <td>No</td>\n",
       "      <td>female</td>\n",
       "      <td>Contact with confirmed</td>\n",
       "    </tr>\n",
       "    <tr>\n",
       "      <th>8</th>\n",
       "      <td>27-03-2020</td>\n",
       "      <td>True</td>\n",
       "      <td>False</td>\n",
       "      <td>False</td>\n",
       "      <td>True</td>\n",
       "      <td>True</td>\n",
       "      <td>negative</td>\n",
       "      <td>No</td>\n",
       "      <td>female</td>\n",
       "      <td>Contact with confirmed</td>\n",
       "    </tr>\n",
       "    <tr>\n",
       "      <th>9</th>\n",
       "      <td>27-03-2020</td>\n",
       "      <td>True</td>\n",
       "      <td>True</td>\n",
       "      <td>False</td>\n",
       "      <td>False</td>\n",
       "      <td>True</td>\n",
       "      <td>negative</td>\n",
       "      <td>No</td>\n",
       "      <td>female</td>\n",
       "      <td>Contact with confirmed</td>\n",
       "    </tr>\n",
       "    <tr>\n",
       "      <th>10</th>\n",
       "      <td>28-03-2020</td>\n",
       "      <td>True</td>\n",
       "      <td>False</td>\n",
       "      <td>True</td>\n",
       "      <td>True</td>\n",
       "      <td>True</td>\n",
       "      <td>negative</td>\n",
       "      <td>No</td>\n",
       "      <td>female</td>\n",
       "      <td>Contact with confirmed</td>\n",
       "    </tr>\n",
       "    <tr>\n",
       "      <th>11</th>\n",
       "      <td>29-03-2020</td>\n",
       "      <td>True</td>\n",
       "      <td>True</td>\n",
       "      <td>False</td>\n",
       "      <td>False</td>\n",
       "      <td>True</td>\n",
       "      <td>negative</td>\n",
       "      <td>No</td>\n",
       "      <td>female</td>\n",
       "      <td>Contact with confirmed</td>\n",
       "    </tr>\n",
       "    <tr>\n",
       "      <th>12</th>\n",
       "      <td>29-03-2020</td>\n",
       "      <td>True</td>\n",
       "      <td>False</td>\n",
       "      <td>False</td>\n",
       "      <td>False</td>\n",
       "      <td>True</td>\n",
       "      <td>negative</td>\n",
       "      <td>Yes</td>\n",
       "      <td>female</td>\n",
       "      <td>Contact with confirmed</td>\n",
       "    </tr>\n",
       "    <tr>\n",
       "      <th>13</th>\n",
       "      <td>29-03-2020</td>\n",
       "      <td>True</td>\n",
       "      <td>True</td>\n",
       "      <td>True</td>\n",
       "      <td>False</td>\n",
       "      <td>True</td>\n",
       "      <td>negative</td>\n",
       "      <td>No</td>\n",
       "      <td>female</td>\n",
       "      <td>Contact with confirmed</td>\n",
       "    </tr>\n",
       "    <tr>\n",
       "      <th>14</th>\n",
       "      <td>30-03-2020</td>\n",
       "      <td>True</td>\n",
       "      <td>False</td>\n",
       "      <td>True</td>\n",
       "      <td>False</td>\n",
       "      <td>True</td>\n",
       "      <td>negative</td>\n",
       "      <td>No</td>\n",
       "      <td>female</td>\n",
       "      <td>Abroad</td>\n",
       "    </tr>\n",
       "    <tr>\n",
       "      <th>15</th>\n",
       "      <td>30-03-2020</td>\n",
       "      <td>True</td>\n",
       "      <td>False</td>\n",
       "      <td>True</td>\n",
       "      <td>False</td>\n",
       "      <td>True</td>\n",
       "      <td>negative</td>\n",
       "      <td>No</td>\n",
       "      <td>female</td>\n",
       "      <td>Contact with confirmed</td>\n",
       "    </tr>\n",
       "    <tr>\n",
       "      <th>16</th>\n",
       "      <td>01-04-2020</td>\n",
       "      <td>True</td>\n",
       "      <td>True</td>\n",
       "      <td>False</td>\n",
       "      <td>False</td>\n",
       "      <td>True</td>\n",
       "      <td>negative</td>\n",
       "      <td>No</td>\n",
       "      <td>female</td>\n",
       "      <td>Contact with confirmed</td>\n",
       "    </tr>\n",
       "    <tr>\n",
       "      <th>17</th>\n",
       "      <td>01-04-2020</td>\n",
       "      <td>True</td>\n",
       "      <td>True</td>\n",
       "      <td>True</td>\n",
       "      <td>True</td>\n",
       "      <td>True</td>\n",
       "      <td>negative</td>\n",
       "      <td>No</td>\n",
       "      <td>female</td>\n",
       "      <td>Contact with confirmed</td>\n",
       "    </tr>\n",
       "    <tr>\n",
       "      <th>18</th>\n",
       "      <td>03-04-2020</td>\n",
       "      <td>True</td>\n",
       "      <td>False</td>\n",
       "      <td>True</td>\n",
       "      <td>False</td>\n",
       "      <td>True</td>\n",
       "      <td>negative</td>\n",
       "      <td>No</td>\n",
       "      <td>female</td>\n",
       "      <td>Abroad</td>\n",
       "    </tr>\n",
       "    <tr>\n",
       "      <th>19</th>\n",
       "      <td>03-04-2020</td>\n",
       "      <td>True</td>\n",
       "      <td>False</td>\n",
       "      <td>True</td>\n",
       "      <td>True</td>\n",
       "      <td>True</td>\n",
       "      <td>negative</td>\n",
       "      <td>No</td>\n",
       "      <td>female</td>\n",
       "      <td>Contact with confirmed</td>\n",
       "    </tr>\n",
       "    <tr>\n",
       "      <th>20</th>\n",
       "      <td>03-04-2020</td>\n",
       "      <td>True</td>\n",
       "      <td>False</td>\n",
       "      <td>False</td>\n",
       "      <td>True</td>\n",
       "      <td>True</td>\n",
       "      <td>negative</td>\n",
       "      <td>No</td>\n",
       "      <td>female</td>\n",
       "      <td>Contact with confirmed</td>\n",
       "    </tr>\n",
       "    <tr>\n",
       "      <th>21</th>\n",
       "      <td>03-04-2020</td>\n",
       "      <td>True</td>\n",
       "      <td>False</td>\n",
       "      <td>True</td>\n",
       "      <td>True</td>\n",
       "      <td>True</td>\n",
       "      <td>negative</td>\n",
       "      <td>No</td>\n",
       "      <td>female</td>\n",
       "      <td>Contact with confirmed</td>\n",
       "    </tr>\n",
       "    <tr>\n",
       "      <th>22</th>\n",
       "      <td>05-04-2020</td>\n",
       "      <td>True</td>\n",
       "      <td>False</td>\n",
       "      <td>False</td>\n",
       "      <td>False</td>\n",
       "      <td>True</td>\n",
       "      <td>negative</td>\n",
       "      <td>No</td>\n",
       "      <td>female</td>\n",
       "      <td>Contact with confirmed</td>\n",
       "    </tr>\n",
       "    <tr>\n",
       "      <th>23</th>\n",
       "      <td>09-04-2020</td>\n",
       "      <td>True</td>\n",
       "      <td>True</td>\n",
       "      <td>False</td>\n",
       "      <td>True</td>\n",
       "      <td>True</td>\n",
       "      <td>negative</td>\n",
       "      <td>No</td>\n",
       "      <td>female</td>\n",
       "      <td>Contact with confirmed</td>\n",
       "    </tr>\n",
       "    <tr>\n",
       "      <th>24</th>\n",
       "      <td>11-04-2020</td>\n",
       "      <td>True</td>\n",
       "      <td>False</td>\n",
       "      <td>True</td>\n",
       "      <td>True</td>\n",
       "      <td>True</td>\n",
       "      <td>negative</td>\n",
       "      <td>No</td>\n",
       "      <td>female</td>\n",
       "      <td>Contact with confirmed</td>\n",
       "    </tr>\n",
       "    <tr>\n",
       "      <th>25</th>\n",
       "      <td>11-04-2020</td>\n",
       "      <td>True</td>\n",
       "      <td>True</td>\n",
       "      <td>True</td>\n",
       "      <td>False</td>\n",
       "      <td>True</td>\n",
       "      <td>negative</td>\n",
       "      <td>Yes</td>\n",
       "      <td>female</td>\n",
       "      <td>Abroad</td>\n",
       "    </tr>\n",
       "    <tr>\n",
       "      <th>26</th>\n",
       "      <td>12-04-2020</td>\n",
       "      <td>True</td>\n",
       "      <td>True</td>\n",
       "      <td>True</td>\n",
       "      <td>False</td>\n",
       "      <td>True</td>\n",
       "      <td>negative</td>\n",
       "      <td>No</td>\n",
       "      <td>female</td>\n",
       "      <td>Contact with confirmed</td>\n",
       "    </tr>\n",
       "    <tr>\n",
       "      <th>27</th>\n",
       "      <td>13-04-2020</td>\n",
       "      <td>True</td>\n",
       "      <td>False</td>\n",
       "      <td>False</td>\n",
       "      <td>False</td>\n",
       "      <td>True</td>\n",
       "      <td>negative</td>\n",
       "      <td>No</td>\n",
       "      <td>female</td>\n",
       "      <td>Other</td>\n",
       "    </tr>\n",
       "    <tr>\n",
       "      <th>28</th>\n",
       "      <td>13-04-2020</td>\n",
       "      <td>True</td>\n",
       "      <td>False</td>\n",
       "      <td>False</td>\n",
       "      <td>False</td>\n",
       "      <td>True</td>\n",
       "      <td>negative</td>\n",
       "      <td>No</td>\n",
       "      <td>female</td>\n",
       "      <td>Abroad</td>\n",
       "    </tr>\n",
       "    <tr>\n",
       "      <th>29</th>\n",
       "      <td>16-04-2020</td>\n",
       "      <td>True</td>\n",
       "      <td>False</td>\n",
       "      <td>False</td>\n",
       "      <td>False</td>\n",
       "      <td>True</td>\n",
       "      <td>negative</td>\n",
       "      <td>Unknown</td>\n",
       "      <td>female</td>\n",
       "      <td>Contact with confirmed</td>\n",
       "    </tr>\n",
       "    <tr>\n",
       "      <th>30</th>\n",
       "      <td>16-04-2020</td>\n",
       "      <td>True</td>\n",
       "      <td>False</td>\n",
       "      <td>True</td>\n",
       "      <td>True</td>\n",
       "      <td>True</td>\n",
       "      <td>negative</td>\n",
       "      <td>Unknown</td>\n",
       "      <td>female</td>\n",
       "      <td>Contact with confirmed</td>\n",
       "    </tr>\n",
       "    <tr>\n",
       "      <th>31</th>\n",
       "      <td>25-04-2020</td>\n",
       "      <td>True</td>\n",
       "      <td>False</td>\n",
       "      <td>False</td>\n",
       "      <td>False</td>\n",
       "      <td>True</td>\n",
       "      <td>negative</td>\n",
       "      <td>Unknown</td>\n",
       "      <td>female</td>\n",
       "      <td>Contact with confirmed</td>\n",
       "    </tr>\n",
       "  </tbody>\n",
       "</table>\n",
       "</div>"
      ],
      "text/plain": [
       "     Test_date  Cough_symptoms  Fever  Sore_throat  Shortness_of_breath  \\\n",
       "0   22-03-2020            True   True         True                False   \n",
       "1   22-03-2020            True   True         True                False   \n",
       "2   23-03-2020            True  False         True                False   \n",
       "3   23-03-2020            True   True        False                False   \n",
       "4   23-03-2020            True  False         True                 True   \n",
       "5   23-03-2020            True   True        False                False   \n",
       "6   23-03-2020            True   True        False                False   \n",
       "7   27-03-2020            True   True         True                 True   \n",
       "8   27-03-2020            True  False        False                 True   \n",
       "9   27-03-2020            True   True        False                False   \n",
       "10  28-03-2020            True  False         True                 True   \n",
       "11  29-03-2020            True   True        False                False   \n",
       "12  29-03-2020            True  False        False                False   \n",
       "13  29-03-2020            True   True         True                False   \n",
       "14  30-03-2020            True  False         True                False   \n",
       "15  30-03-2020            True  False         True                False   \n",
       "16  01-04-2020            True   True        False                False   \n",
       "17  01-04-2020            True   True         True                 True   \n",
       "18  03-04-2020            True  False         True                False   \n",
       "19  03-04-2020            True  False         True                 True   \n",
       "20  03-04-2020            True  False        False                 True   \n",
       "21  03-04-2020            True  False         True                 True   \n",
       "22  05-04-2020            True  False        False                False   \n",
       "23  09-04-2020            True   True        False                 True   \n",
       "24  11-04-2020            True  False         True                 True   \n",
       "25  11-04-2020            True   True         True                False   \n",
       "26  12-04-2020            True   True         True                False   \n",
       "27  13-04-2020            True  False        False                False   \n",
       "28  13-04-2020            True  False        False                False   \n",
       "29  16-04-2020            True  False        False                False   \n",
       "30  16-04-2020            True  False         True                 True   \n",
       "31  25-04-2020            True  False        False                False   \n",
       "\n",
       "    Headache    Corona Age_60_above     Sex           Known_contact  \n",
       "0       True  negative           No  female                  Abroad  \n",
       "1       True  negative           No  female                  Abroad  \n",
       "2       True  negative           No  female                  Abroad  \n",
       "3       True  negative           No  female                   Other  \n",
       "4       True  negative           No  female  Contact with confirmed  \n",
       "5       True  negative          Yes  female                  Abroad  \n",
       "6       True  negative           No  female  Contact with confirmed  \n",
       "7       True  negative           No  female  Contact with confirmed  \n",
       "8       True  negative           No  female  Contact with confirmed  \n",
       "9       True  negative           No  female  Contact with confirmed  \n",
       "10      True  negative           No  female  Contact with confirmed  \n",
       "11      True  negative           No  female  Contact with confirmed  \n",
       "12      True  negative          Yes  female  Contact with confirmed  \n",
       "13      True  negative           No  female  Contact with confirmed  \n",
       "14      True  negative           No  female                  Abroad  \n",
       "15      True  negative           No  female  Contact with confirmed  \n",
       "16      True  negative           No  female  Contact with confirmed  \n",
       "17      True  negative           No  female  Contact with confirmed  \n",
       "18      True  negative           No  female                  Abroad  \n",
       "19      True  negative           No  female  Contact with confirmed  \n",
       "20      True  negative           No  female  Contact with confirmed  \n",
       "21      True  negative           No  female  Contact with confirmed  \n",
       "22      True  negative           No  female  Contact with confirmed  \n",
       "23      True  negative           No  female  Contact with confirmed  \n",
       "24      True  negative           No  female  Contact with confirmed  \n",
       "25      True  negative          Yes  female                  Abroad  \n",
       "26      True  negative           No  female  Contact with confirmed  \n",
       "27      True  negative           No  female                   Other  \n",
       "28      True  negative           No  female                  Abroad  \n",
       "29      True  negative      Unknown  female  Contact with confirmed  \n",
       "30      True  negative      Unknown  female  Contact with confirmed  \n",
       "31      True  negative      Unknown  female  Contact with confirmed  "
      ]
     },
     "execution_count": 81,
     "metadata": {},
     "output_type": "execute_result"
    }
   ],
   "source": [
    "df = conn.execute(\"SELECT * FROM data WHERE Sex = 'female' AND Cough_symptoms = 'True' AND Headache = 'True' AND Corona = 'negative'\").df()\n",
    "df"
   ]
  },
  {
   "cell_type": "code",
   "execution_count": null,
   "id": "464e3dec-ca77-4d9e-a63a-01382dfedd84",
   "metadata": {},
   "outputs": [],
   "source": [
    "# 5.How many elderly corona patients have faced breathing problems?"
   ]
  },
  {
   "cell_type": "code",
   "execution_count": 121,
   "id": "95cec071-19cb-43f0-9cb8-984c65389b7c",
   "metadata": {
    "tags": []
   },
   "outputs": [
    {
     "data": {
      "text/html": [
       "<div>\n",
       "<style scoped>\n",
       "    .dataframe tbody tr th:only-of-type {\n",
       "        vertical-align: middle;\n",
       "    }\n",
       "\n",
       "    .dataframe tbody tr th {\n",
       "        vertical-align: top;\n",
       "    }\n",
       "\n",
       "    .dataframe thead th {\n",
       "        text-align: right;\n",
       "    }\n",
       "</style>\n",
       "<table border=\"1\" class=\"dataframe\">\n",
       "  <thead>\n",
       "    <tr style=\"text-align: right;\">\n",
       "      <th></th>\n",
       "      <th>count_star()</th>\n",
       "    </tr>\n",
       "  </thead>\n",
       "  <tbody>\n",
       "    <tr>\n",
       "      <th>0</th>\n",
       "      <td>262</td>\n",
       "    </tr>\n",
       "  </tbody>\n",
       "</table>\n",
       "</div>"
      ],
      "text/plain": [
       "   count_star()\n",
       "0           262"
      ]
     },
     "execution_count": 121,
     "metadata": {},
     "output_type": "execute_result"
    }
   ],
   "source": [
    "df = conn.execute(\"SELECT COUNT(*) FROM data WHERE Age_60_above = 'Yes' AND Shortness_of_breath = 'True' AND Corona = 'positive'\").df()\n",
    "df"
   ]
  }
 ],
 "metadata": {
  "kernelspec": {
   "display_name": "Python 3 (ipykernel)",
   "language": "python",
   "name": "python3"
  },
  "language_info": {
   "codemirror_mode": {
    "name": "ipython",
    "version": 3
   },
   "file_extension": ".py",
   "mimetype": "text/x-python",
   "name": "python",
   "nbconvert_exporter": "python",
   "pygments_lexer": "ipython3",
   "version": "3.11.5"
  },
  "toc-showcode": false
 },
 "nbformat": 4,
 "nbformat_minor": 5
}
